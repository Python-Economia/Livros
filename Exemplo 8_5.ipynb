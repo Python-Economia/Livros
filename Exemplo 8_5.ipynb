{
 "cells": [
  {
   "cell_type": "code",
   "execution_count": null,
   "metadata": {},
   "outputs": [],
   "source": [
    "'''\n",
    "Introdução à Econometria - Uma abordagem moderna (Tradução da 6 edição norte-americana)\n",
    "Autor: WOOLDRIDGE, J. M.\n",
    "Editora: CENGAGE LEARNING\n",
    "\n",
    "Cap. 8: Heterocedasticidade (Heteroskedasticity)\n",
    "Exemplo 8.5: Forma especial do teste de White na equação log dos preços de imóveis\n",
    "             (SPECIAL FORM OF THE WHITE TEST IN THE LOG HOUSING PRICE EQUATION)\n",
    "             \n",
    "Arquivo com os dados: hprice1.xls\n",
    "\n",
    "Arquivo com dados em:\n",
    "http://students.cengage.com.br/dashboard/private/livroView.jsf;jsessionid=95E9AD889A4A4B7ABBD2A5251F1E14BE?id=104577\n",
    "\n",
    "Em caso de dúvidas ou problemas, solicitamos, por gentileza, entrar em contato pelo e-mail:\n",
    "python.economia@gmail.com\n",
    "'''"
   ]
  },
  {
   "cell_type": "code",
   "execution_count": 1,
   "metadata": {},
   "outputs": [],
   "source": [
    "import pandas as pd\n",
    "import statsmodels.formula.api as smf\n",
    "import numpy as np\n",
    "import statsmodels.stats.diagnostic"
   ]
  },
  {
   "cell_type": "code",
   "execution_count": 2,
   "metadata": {},
   "outputs": [],
   "source": [
    "df = pd.read_excel('hprice1.xls',\n",
    "                   header=None,\n",
    "                   usecols=[0, 2, 3, 4],\n",
    "                   names=['price', 'bdrms', 'lotsize', 'sqrft'])"
   ]
  },
  {
   "cell_type": "code",
   "execution_count": 3,
   "metadata": {},
   "outputs": [
    {
     "data": {
      "text/html": [
       "<div>\n",
       "<style scoped>\n",
       "    .dataframe tbody tr th:only-of-type {\n",
       "        vertical-align: middle;\n",
       "    }\n",
       "\n",
       "    .dataframe tbody tr th {\n",
       "        vertical-align: top;\n",
       "    }\n",
       "\n",
       "    .dataframe thead th {\n",
       "        text-align: right;\n",
       "    }\n",
       "</style>\n",
       "<table border=\"1\" class=\"dataframe\">\n",
       "  <thead>\n",
       "    <tr style=\"text-align: right;\">\n",
       "      <th></th>\n",
       "      <th>price</th>\n",
       "      <th>bdrms</th>\n",
       "      <th>lotsize</th>\n",
       "      <th>sqrft</th>\n",
       "    </tr>\n",
       "  </thead>\n",
       "  <tbody>\n",
       "    <tr>\n",
       "      <th>0</th>\n",
       "      <td>300.0</td>\n",
       "      <td>4</td>\n",
       "      <td>6126</td>\n",
       "      <td>2438</td>\n",
       "    </tr>\n",
       "    <tr>\n",
       "      <th>1</th>\n",
       "      <td>370.0</td>\n",
       "      <td>3</td>\n",
       "      <td>9903</td>\n",
       "      <td>2076</td>\n",
       "    </tr>\n",
       "    <tr>\n",
       "      <th>2</th>\n",
       "      <td>191.0</td>\n",
       "      <td>3</td>\n",
       "      <td>5200</td>\n",
       "      <td>1374</td>\n",
       "    </tr>\n",
       "    <tr>\n",
       "      <th>3</th>\n",
       "      <td>195.0</td>\n",
       "      <td>3</td>\n",
       "      <td>4600</td>\n",
       "      <td>1448</td>\n",
       "    </tr>\n",
       "    <tr>\n",
       "      <th>4</th>\n",
       "      <td>373.0</td>\n",
       "      <td>4</td>\n",
       "      <td>6095</td>\n",
       "      <td>2514</td>\n",
       "    </tr>\n",
       "  </tbody>\n",
       "</table>\n",
       "</div>"
      ],
      "text/plain": [
       "   price  bdrms  lotsize  sqrft\n",
       "0  300.0      4     6126   2438\n",
       "1  370.0      3     9903   2076\n",
       "2  191.0      3     5200   1374\n",
       "3  195.0      3     4600   1448\n",
       "4  373.0      4     6095   2514"
      ]
     },
     "execution_count": 3,
     "metadata": {},
     "output_type": "execute_result"
    }
   ],
   "source": [
    "df.head(5)"
   ]
  },
  {
   "cell_type": "code",
   "execution_count": null,
   "metadata": {},
   "outputs": [],
   "source": []
  },
  {
   "cell_type": "code",
   "execution_count": null,
   "metadata": {},
   "outputs": [],
   "source": []
  },
  {
   "cell_type": "code",
   "execution_count": null,
   "metadata": {},
   "outputs": [],
   "source": []
  },
  {
   "cell_type": "markdown",
   "metadata": {},
   "source": [
    "### Solução sugerida"
   ]
  },
  {
   "cell_type": "code",
   "execution_count": 4,
   "metadata": {},
   "outputs": [],
   "source": [
    "modelo_log = smf.ols('np.log(price) ~ np.log(lotsize) + np.log(sqrft) + bdrms', data=df)\n",
    "reg_log = modelo_log.fit()"
   ]
  },
  {
   "cell_type": "code",
   "execution_count": null,
   "metadata": {},
   "outputs": [],
   "source": [
    "'''\n",
    "Forma especial do teste de White para heterocedasticidade\n",
    "H0: O Erro u é Homocedástico\n",
    "H1: Violação da homocedasticidade (presença de heterocedasticidade)\n",
    "'''"
   ]
  },
  {
   "cell_type": "code",
   "execution_count": 5,
   "metadata": {},
   "outputs": [
    {
     "name": "stdout",
     "output_type": "stream",
     "text": [
      "Estatística LM: 3.4472864598132666\n",
      "valor-p (LM): 0.17841495570789132\n",
      "Estatística F: 1.7327613557006645\n",
      "valor-p (F): 0.1829815512905127\n"
     ]
    }
   ],
   "source": [
    "# cria DataFrame necessário para executar o teste\n",
    "white_especial = pd.DataFrame()                             # Cria um DataFrame \n",
    "white_especial['y_chapeu'] = reg_log.fittedvalues           # Coluna de valores ajustados\n",
    "white_especial['y_chapeu_2'] = reg_log.fittedvalues**2      # Coluna de valores ajustados elevados ao quadrado\n",
    "white_especial['const'] = 1                                 # Coluna com valores 1\n",
    "\n",
    "# Executa o teste\n",
    "teste_white_especial = statsmodels.stats.diagnostic.het_breuschpagan(reg_log.resid, exog_het=white_especial)\n",
    "print(f\"Estatística LM: {teste_white_especial[0]}\")\n",
    "print(f\"valor-p (LM): {teste_white_especial[1]}\")\n",
    "print(f\"Estatística F: {teste_white_especial[2]}\")\n",
    "print(f\"valor-p (F): {teste_white_especial[3]}\")"
   ]
  },
  {
   "cell_type": "code",
   "execution_count": null,
   "metadata": {},
   "outputs": [],
   "source": [
    "'''\n",
    "Conclusão:\n",
    "Seguindo o exemplo do livro, vamos olhar para o valor p da estatística LM.\n",
    "Como o valor-p de 17,84% é maior do que qualquer valor padrão para o nível de significância (1%, 5% ou 10%), não poderíamos\n",
    "rejeitar a hipótese nula de homocedasticidade para quaisquer destes valores padrão.\n",
    "Assim, não há evidência de que a heterocedasticidade seja um problema neste exemplo.\n",
    "'''"
   ]
  },
  {
   "cell_type": "code",
   "execution_count": null,
   "metadata": {},
   "outputs": [],
   "source": []
  },
  {
   "cell_type": "code",
   "execution_count": null,
   "metadata": {},
   "outputs": [],
   "source": []
  },
  {
   "cell_type": "code",
   "execution_count": null,
   "metadata": {},
   "outputs": [],
   "source": [
    "# Por que usamos a função do teste de Breusch-Pagan para executar o caso especial do teste de White?"
   ]
  },
  {
   "cell_type": "code",
   "execution_count": null,
   "metadata": {},
   "outputs": [],
   "source": [
    "'''\n",
    "As três células abaixo reproduzem (parcialmente) os passos indicados por Wooldridge para realizar o teste de Breusch-Pagan\n",
    "para heterocedasticidade e também os passos para o caso especial do teste de White.\n",
    "Note que os passos para realizar ambos os testes são os mesmos, exceto pela regressão a ser executada no passo 2.\n",
    "\n",
    "Então:\n",
    "\n",
    "- Como os passos são os mesmos para os dois testes, podemos utilizar a função do teste de Breusch-Pagan também para o caso \n",
    "especial do Teste de White.\n",
    "\n",
    "- Como utilizamos (8.14) no passo 2 do teste de Breusch-Pagan, na função \"het_breuschpagan\", ao parâmetro \"exog_het\", \n",
    "atribuiríamos o comando \"reg_log.model.exog\".\n",
    "\n",
    "- Como utilizamos (8.20) no passo 2 do caso especial do teste de White, na função \"het_breuschpagan\", ao parâmetro \n",
    "\"exog_het\" atribuímos o dataframe \"white_especial\".\n",
    "'''"
   ]
  },
  {
   "cell_type": "code",
   "execution_count": null,
   "metadata": {},
   "outputs": [],
   "source": [
    "'''\n",
    "Considere o modelo linear (hipóteses RLM1 a RLM4 válidas:\n",
    "\n",
    "y = B0 + B1*x1 + B2*x2 + ... + Bk*xk + u       (8.10)\n",
    "\n",
    "'''"
   ]
  },
  {
   "cell_type": "code",
   "execution_count": null,
   "metadata": {},
   "outputs": [],
   "source": [
    "'''\n",
    "Passos para realizar o teste de Breusch-Pagan da Heterocedasticidade:\n",
    "P1. Estime o modelo (8.10) por Mínimos Quadrados Ordinários (MQO) e obtenha o quadrado dos residuos de MQO (resid_quad)\n",
    "P2. Execute a regressão abaixo (8.14) por MQO e guarde o R-quadrado dessa regressão \n",
    "    \n",
    "    resid_quad = sigma0 + sigma1*x1 + sigma2*x2 + ... + sigmak*xk + erro    (8.14)\n",
    "    \n",
    "P3. Construa a estatística F ou a Estatística LM e calcule o p-valor.\n",
    "\n",
    "'''"
   ]
  },
  {
   "cell_type": "code",
   "execution_count": null,
   "metadata": {},
   "outputs": [],
   "source": [
    "'''\n",
    "Passos para realizar o caso especial do teste de White para a Heterocedasticidade:\n",
    "P1. Estime o modelo (8.10) por Mínimos Quadrados Ordinários (MQO) e obtenha o quadrado dos residuos de MQO (resid_quad)\n",
    "P2. Execute a regressão abaixo (8.20) por MQO e guarde o R-quadrado dessa regressão \n",
    "    \n",
    "    resid_quad = sigma0 + sigma1*y_chapeu + sigma2*y_chapeu_quad + erro    (8.20)\n",
    "    \n",
    "    [y_chapeu: representa os valores ajustados]\n",
    "    [y_chapeu: y_chapeu elevado ao quadrado]\n",
    "    \n",
    "P3. Construa a estatística F ou a Estatística LM e calcule o p-valor.\n",
    "'''"
   ]
  },
  {
   "cell_type": "code",
   "execution_count": null,
   "metadata": {},
   "outputs": [],
   "source": []
  },
  {
   "cell_type": "code",
   "execution_count": null,
   "metadata": {},
   "outputs": [],
   "source": []
  }
 ],
 "metadata": {
  "kernelspec": {
   "display_name": "Python 3",
   "language": "python",
   "name": "python3"
  },
  "language_info": {
   "codemirror_mode": {
    "name": "ipython",
    "version": 3
   },
   "file_extension": ".py",
   "mimetype": "text/x-python",
   "name": "python",
   "nbconvert_exporter": "python",
   "pygments_lexer": "ipython3",
   "version": "3.7.3"
  }
 },
 "nbformat": 4,
 "nbformat_minor": 2
}
