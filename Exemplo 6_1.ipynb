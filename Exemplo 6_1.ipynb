{
 "cells": [
  {
   "cell_type": "code",
   "execution_count": null,
   "metadata": {},
   "outputs": [],
   "source": [
    "'''\n",
    "Introdução à Econometria - Uma abordagem moderna (Tradução da 6 edição norte-americana)\n",
    "Autor: WOOLDRIDGE, J. M.\n",
    "Editora: CENGAGE LEARNING\n",
    "\n",
    "Cap. 6: Análise de regressão múltipla: problemas adicionais (Multiple Regression Analysis)\n",
    "Exemplo 6.1: Efeitos da poluição sobre os preços de imóveis\n",
    "             (EFFECTS OF POLLUTION ON HOUSING PRICES)\n",
    "             \n",
    "Arquivo com os dados: hprice2.xls\n",
    "\n",
    "Arquivo com dados em:\n",
    "http://students.cengage.com.br/dashboard/private/livroView.jsf;jsessionid=95E9AD889A4A4B7ABBD2A5251F1E14BE?id=104577\n",
    "\n",
    "Em caso de dúvidas ou problemas, solicitamos, por gentileza, entrar em contato pelo e-mail:\n",
    "python.economia@gmail.com\n",
    "'''"
   ]
  },
  {
   "cell_type": "code",
   "execution_count": 1,
   "metadata": {},
   "outputs": [],
   "source": [
    "import pandas as pd\n",
    "import statsmodels.formula.api as smf"
   ]
  },
  {
   "cell_type": "code",
   "execution_count": 2,
   "metadata": {},
   "outputs": [],
   "source": [
    "df = pd.read_excel('hprice2.xls',\n",
    "                   header=None,\n",
    "                   usecols=[0, 1, 2, 3, 4, 7],\n",
    "                   names=['price', 'crime', 'nox', 'rooms', 'dist', 'stratio'])"
   ]
  },
  {
   "cell_type": "code",
   "execution_count": 3,
   "metadata": {},
   "outputs": [
    {
     "data": {
      "text/html": [
       "<div>\n",
       "<style scoped>\n",
       "    .dataframe tbody tr th:only-of-type {\n",
       "        vertical-align: middle;\n",
       "    }\n",
       "\n",
       "    .dataframe tbody tr th {\n",
       "        vertical-align: top;\n",
       "    }\n",
       "\n",
       "    .dataframe thead th {\n",
       "        text-align: right;\n",
       "    }\n",
       "</style>\n",
       "<table border=\"1\" class=\"dataframe\">\n",
       "  <thead>\n",
       "    <tr style=\"text-align: right;\">\n",
       "      <th></th>\n",
       "      <th>price</th>\n",
       "      <th>crime</th>\n",
       "      <th>nox</th>\n",
       "      <th>rooms</th>\n",
       "      <th>dist</th>\n",
       "      <th>stratio</th>\n",
       "    </tr>\n",
       "  </thead>\n",
       "  <tbody>\n",
       "    <tr>\n",
       "      <th>0</th>\n",
       "      <td>24000</td>\n",
       "      <td>0.006</td>\n",
       "      <td>5.38</td>\n",
       "      <td>6.57</td>\n",
       "      <td>4.09</td>\n",
       "      <td>15.3</td>\n",
       "    </tr>\n",
       "    <tr>\n",
       "      <th>1</th>\n",
       "      <td>21599</td>\n",
       "      <td>0.027</td>\n",
       "      <td>4.69</td>\n",
       "      <td>6.42</td>\n",
       "      <td>4.97</td>\n",
       "      <td>17.8</td>\n",
       "    </tr>\n",
       "    <tr>\n",
       "      <th>2</th>\n",
       "      <td>34700</td>\n",
       "      <td>0.027</td>\n",
       "      <td>4.69</td>\n",
       "      <td>7.18</td>\n",
       "      <td>4.97</td>\n",
       "      <td>17.8</td>\n",
       "    </tr>\n",
       "    <tr>\n",
       "      <th>3</th>\n",
       "      <td>33400</td>\n",
       "      <td>0.032</td>\n",
       "      <td>4.58</td>\n",
       "      <td>7.00</td>\n",
       "      <td>6.06</td>\n",
       "      <td>18.7</td>\n",
       "    </tr>\n",
       "    <tr>\n",
       "      <th>4</th>\n",
       "      <td>36199</td>\n",
       "      <td>0.069</td>\n",
       "      <td>4.58</td>\n",
       "      <td>7.15</td>\n",
       "      <td>6.06</td>\n",
       "      <td>18.7</td>\n",
       "    </tr>\n",
       "  </tbody>\n",
       "</table>\n",
       "</div>"
      ],
      "text/plain": [
       "   price  crime   nox  rooms  dist  stratio\n",
       "0  24000  0.006  5.38   6.57  4.09     15.3\n",
       "1  21599  0.027  4.69   6.42  4.97     17.8\n",
       "2  34700  0.027  4.69   7.18  4.97     17.8\n",
       "3  33400  0.032  4.58   7.00  6.06     18.7\n",
       "4  36199  0.069  4.58   7.15  6.06     18.7"
      ]
     },
     "execution_count": 3,
     "metadata": {},
     "output_type": "execute_result"
    }
   ],
   "source": [
    "df.head()"
   ]
  },
  {
   "cell_type": "code",
   "execution_count": null,
   "metadata": {},
   "outputs": [],
   "source": []
  },
  {
   "cell_type": "code",
   "execution_count": null,
   "metadata": {},
   "outputs": [],
   "source": []
  },
  {
   "cell_type": "markdown",
   "metadata": {},
   "source": [
    "### Comandos sugeridos"
   ]
  },
  {
   "cell_type": "code",
   "execution_count": 4,
   "metadata": {},
   "outputs": [],
   "source": [
    "# Cria o dataframe \"zdf\" com as variáveis padronizadas\n",
    "zdf = (df - df.mean()) / df.std() "
   ]
  },
  {
   "cell_type": "code",
   "execution_count": 5,
   "metadata": {},
   "outputs": [
    {
     "data": {
      "text/html": [
       "<div>\n",
       "<style scoped>\n",
       "    .dataframe tbody tr th:only-of-type {\n",
       "        vertical-align: middle;\n",
       "    }\n",
       "\n",
       "    .dataframe tbody tr th {\n",
       "        vertical-align: top;\n",
       "    }\n",
       "\n",
       "    .dataframe thead th {\n",
       "        text-align: right;\n",
       "    }\n",
       "</style>\n",
       "<table border=\"1\" class=\"dataframe\">\n",
       "  <thead>\n",
       "    <tr style=\"text-align: right;\">\n",
       "      <th></th>\n",
       "      <th>price</th>\n",
       "      <th>crime</th>\n",
       "      <th>nox</th>\n",
       "      <th>rooms</th>\n",
       "      <th>dist</th>\n",
       "      <th>stratio</th>\n",
       "    </tr>\n",
       "  </thead>\n",
       "  <tbody>\n",
       "    <tr>\n",
       "      <th>0</th>\n",
       "      <td>0.161637</td>\n",
       "      <td>-0.419724</td>\n",
       "      <td>-0.146567</td>\n",
       "      <td>0.406990</td>\n",
       "      <td>0.139710</td>\n",
       "      <td>-1.458703</td>\n",
       "    </tr>\n",
       "    <tr>\n",
       "      <th>1</th>\n",
       "      <td>-0.099090</td>\n",
       "      <td>-0.417280</td>\n",
       "      <td>-0.742219</td>\n",
       "      <td>0.193495</td>\n",
       "      <td>0.557537</td>\n",
       "      <td>-0.304406</td>\n",
       "    </tr>\n",
       "    <tr>\n",
       "      <th>2</th>\n",
       "      <td>1.323562</td>\n",
       "      <td>-0.417280</td>\n",
       "      <td>-0.742219</td>\n",
       "      <td>1.275201</td>\n",
       "      <td>0.557537</td>\n",
       "      <td>-0.304406</td>\n",
       "    </tr>\n",
       "    <tr>\n",
       "      <th>3</th>\n",
       "      <td>1.182393</td>\n",
       "      <td>-0.416698</td>\n",
       "      <td>-0.837178</td>\n",
       "      <td>1.019008</td>\n",
       "      <td>1.075072</td>\n",
       "      <td>0.111141</td>\n",
       "    </tr>\n",
       "    <tr>\n",
       "      <th>4</th>\n",
       "      <td>1.486340</td>\n",
       "      <td>-0.412390</td>\n",
       "      <td>-0.837178</td>\n",
       "      <td>1.232503</td>\n",
       "      <td>1.075072</td>\n",
       "      <td>0.111141</td>\n",
       "    </tr>\n",
       "  </tbody>\n",
       "</table>\n",
       "</div>"
      ],
      "text/plain": [
       "      price     crime       nox     rooms      dist   stratio\n",
       "0  0.161637 -0.419724 -0.146567  0.406990  0.139710 -1.458703\n",
       "1 -0.099090 -0.417280 -0.742219  0.193495  0.557537 -0.304406\n",
       "2  1.323562 -0.417280 -0.742219  1.275201  0.557537 -0.304406\n",
       "3  1.182393 -0.416698 -0.837178  1.019008  1.075072  0.111141\n",
       "4  1.486340 -0.412390 -0.837178  1.232503  1.075072  0.111141"
      ]
     },
     "execution_count": 5,
     "metadata": {},
     "output_type": "execute_result"
    }
   ],
   "source": [
    "zdf.head()"
   ]
  },
  {
   "cell_type": "code",
   "execution_count": 6,
   "metadata": {},
   "outputs": [],
   "source": [
    "zdf = zdf.add_prefix('z')"
   ]
  },
  {
   "cell_type": "code",
   "execution_count": 7,
   "metadata": {},
   "outputs": [
    {
     "data": {
      "text/html": [
       "<div>\n",
       "<style scoped>\n",
       "    .dataframe tbody tr th:only-of-type {\n",
       "        vertical-align: middle;\n",
       "    }\n",
       "\n",
       "    .dataframe tbody tr th {\n",
       "        vertical-align: top;\n",
       "    }\n",
       "\n",
       "    .dataframe thead th {\n",
       "        text-align: right;\n",
       "    }\n",
       "</style>\n",
       "<table border=\"1\" class=\"dataframe\">\n",
       "  <thead>\n",
       "    <tr style=\"text-align: right;\">\n",
       "      <th></th>\n",
       "      <th>zprice</th>\n",
       "      <th>zcrime</th>\n",
       "      <th>znox</th>\n",
       "      <th>zrooms</th>\n",
       "      <th>zdist</th>\n",
       "      <th>zstratio</th>\n",
       "    </tr>\n",
       "  </thead>\n",
       "  <tbody>\n",
       "    <tr>\n",
       "      <th>0</th>\n",
       "      <td>0.161637</td>\n",
       "      <td>-0.419724</td>\n",
       "      <td>-0.146567</td>\n",
       "      <td>0.406990</td>\n",
       "      <td>0.139710</td>\n",
       "      <td>-1.458703</td>\n",
       "    </tr>\n",
       "    <tr>\n",
       "      <th>1</th>\n",
       "      <td>-0.099090</td>\n",
       "      <td>-0.417280</td>\n",
       "      <td>-0.742219</td>\n",
       "      <td>0.193495</td>\n",
       "      <td>0.557537</td>\n",
       "      <td>-0.304406</td>\n",
       "    </tr>\n",
       "    <tr>\n",
       "      <th>2</th>\n",
       "      <td>1.323562</td>\n",
       "      <td>-0.417280</td>\n",
       "      <td>-0.742219</td>\n",
       "      <td>1.275201</td>\n",
       "      <td>0.557537</td>\n",
       "      <td>-0.304406</td>\n",
       "    </tr>\n",
       "    <tr>\n",
       "      <th>3</th>\n",
       "      <td>1.182393</td>\n",
       "      <td>-0.416698</td>\n",
       "      <td>-0.837178</td>\n",
       "      <td>1.019008</td>\n",
       "      <td>1.075072</td>\n",
       "      <td>0.111141</td>\n",
       "    </tr>\n",
       "    <tr>\n",
       "      <th>4</th>\n",
       "      <td>1.486340</td>\n",
       "      <td>-0.412390</td>\n",
       "      <td>-0.837178</td>\n",
       "      <td>1.232503</td>\n",
       "      <td>1.075072</td>\n",
       "      <td>0.111141</td>\n",
       "    </tr>\n",
       "  </tbody>\n",
       "</table>\n",
       "</div>"
      ],
      "text/plain": [
       "     zprice    zcrime      znox    zrooms     zdist  zstratio\n",
       "0  0.161637 -0.419724 -0.146567  0.406990  0.139710 -1.458703\n",
       "1 -0.099090 -0.417280 -0.742219  0.193495  0.557537 -0.304406\n",
       "2  1.323562 -0.417280 -0.742219  1.275201  0.557537 -0.304406\n",
       "3  1.182393 -0.416698 -0.837178  1.019008  1.075072  0.111141\n",
       "4  1.486340 -0.412390 -0.837178  1.232503  1.075072  0.111141"
      ]
     },
     "execution_count": 7,
     "metadata": {},
     "output_type": "execute_result"
    }
   ],
   "source": [
    "zdf.head()"
   ]
  },
  {
   "cell_type": "code",
   "execution_count": null,
   "metadata": {},
   "outputs": [],
   "source": []
  },
  {
   "cell_type": "code",
   "execution_count": null,
   "metadata": {},
   "outputs": [],
   "source": []
  },
  {
   "cell_type": "code",
   "execution_count": 8,
   "metadata": {},
   "outputs": [
    {
     "data": {
      "text/html": [
       "<table class=\"simpletable\">\n",
       "<caption>OLS Regression Results</caption>\n",
       "<tr>\n",
       "  <th>Dep. Variable:</th>         <td>zprice</td>      <th>  R-squared (uncentered):</th>      <td>   0.636</td> \n",
       "</tr>\n",
       "<tr>\n",
       "  <th>Model:</th>                   <td>OLS</td>       <th>  Adj. R-squared (uncentered):</th> <td>   0.632</td> \n",
       "</tr>\n",
       "<tr>\n",
       "  <th>Method:</th>             <td>Least Squares</td>  <th>  F-statistic:       </th>          <td>   174.8</td> \n",
       "</tr>\n",
       "<tr>\n",
       "  <th>Date:</th>             <td>Tue, 05 Jul 2022</td> <th>  Prob (F-statistic):</th>          <td>2.19e-107</td>\n",
       "</tr>\n",
       "<tr>\n",
       "  <th>Time:</th>                 <td>15:36:38</td>     <th>  Log-Likelihood:    </th>          <td> -462.03</td> \n",
       "</tr>\n",
       "<tr>\n",
       "  <th>No. Observations:</th>      <td>   506</td>      <th>  AIC:               </th>          <td>   934.1</td> \n",
       "</tr>\n",
       "<tr>\n",
       "  <th>Df Residuals:</th>          <td>   501</td>      <th>  BIC:               </th>          <td>   955.2</td> \n",
       "</tr>\n",
       "<tr>\n",
       "  <th>Df Model:</th>              <td>     5</td>      <th>                     </th>              <td> </td>    \n",
       "</tr>\n",
       "<tr>\n",
       "  <th>Covariance Type:</th>      <td>nonrobust</td>    <th>                     </th>              <td> </td>    \n",
       "</tr>\n",
       "</table>\n",
       "<table class=\"simpletable\">\n",
       "<tr>\n",
       "      <td></td>        <th>coef</th>     <th>std err</th>      <th>t</th>      <th>P>|t|</th>  <th>[0.025</th>    <th>0.975]</th>  \n",
       "</tr>\n",
       "<tr>\n",
       "  <th>znox</th>     <td>   -0.3404</td> <td>    0.044</td> <td>   -7.651</td> <td> 0.000</td> <td>   -0.428</td> <td>   -0.253</td>\n",
       "</tr>\n",
       "<tr>\n",
       "  <th>zcrime</th>   <td>   -0.1433</td> <td>    0.031</td> <td>   -4.669</td> <td> 0.000</td> <td>   -0.204</td> <td>   -0.083</td>\n",
       "</tr>\n",
       "<tr>\n",
       "  <th>zrooms</th>   <td>    0.5139</td> <td>    0.030</td> <td>   17.129</td> <td> 0.000</td> <td>    0.455</td> <td>    0.573</td>\n",
       "</tr>\n",
       "<tr>\n",
       "  <th>zdist</th>    <td>   -0.2348</td> <td>    0.043</td> <td>   -5.464</td> <td> 0.000</td> <td>   -0.319</td> <td>   -0.150</td>\n",
       "</tr>\n",
       "<tr>\n",
       "  <th>zstratio</th> <td>   -0.2703</td> <td>    0.030</td> <td>   -9.027</td> <td> 0.000</td> <td>   -0.329</td> <td>   -0.211</td>\n",
       "</tr>\n",
       "</table>\n",
       "<table class=\"simpletable\">\n",
       "<tr>\n",
       "  <th>Omnibus:</th>       <td>272.145</td> <th>  Durbin-Watson:     </th> <td>   0.865</td>\n",
       "</tr>\n",
       "<tr>\n",
       "  <th>Prob(Omnibus):</th> <td> 0.000</td>  <th>  Jarque-Bera (JB):  </th> <td>2647.578</td>\n",
       "</tr>\n",
       "<tr>\n",
       "  <th>Skew:</th>          <td> 2.150</td>  <th>  Prob(JB):          </th> <td>    0.00</td>\n",
       "</tr>\n",
       "<tr>\n",
       "  <th>Kurtosis:</th>      <td>13.348</td>  <th>  Cond. No.          </th> <td>    3.33</td>\n",
       "</tr>\n",
       "</table><br/><br/>Notes:<br/>[1] R² is computed without centering (uncentered) since the model does not contain a constant.<br/>[2] Standard Errors assume that the covariance matrix of the errors is correctly specified."
      ],
      "text/plain": [
       "<class 'statsmodels.iolib.summary.Summary'>\n",
       "\"\"\"\n",
       "                                 OLS Regression Results                                \n",
       "=======================================================================================\n",
       "Dep. Variable:                 zprice   R-squared (uncentered):                   0.636\n",
       "Model:                            OLS   Adj. R-squared (uncentered):              0.632\n",
       "Method:                 Least Squares   F-statistic:                              174.8\n",
       "Date:                Tue, 05 Jul 2022   Prob (F-statistic):                   2.19e-107\n",
       "Time:                        15:36:38   Log-Likelihood:                         -462.03\n",
       "No. Observations:                 506   AIC:                                      934.1\n",
       "Df Residuals:                     501   BIC:                                      955.2\n",
       "Df Model:                           5                                                  \n",
       "Covariance Type:            nonrobust                                                  \n",
       "==============================================================================\n",
       "                 coef    std err          t      P>|t|      [0.025      0.975]\n",
       "------------------------------------------------------------------------------\n",
       "znox          -0.3404      0.044     -7.651      0.000      -0.428      -0.253\n",
       "zcrime        -0.1433      0.031     -4.669      0.000      -0.204      -0.083\n",
       "zrooms         0.5139      0.030     17.129      0.000       0.455       0.573\n",
       "zdist         -0.2348      0.043     -5.464      0.000      -0.319      -0.150\n",
       "zstratio      -0.2703      0.030     -9.027      0.000      -0.329      -0.211\n",
       "==============================================================================\n",
       "Omnibus:                      272.145   Durbin-Watson:                   0.865\n",
       "Prob(Omnibus):                  0.000   Jarque-Bera (JB):             2647.578\n",
       "Skew:                           2.150   Prob(JB):                         0.00\n",
       "Kurtosis:                      13.348   Cond. No.                         3.33\n",
       "==============================================================================\n",
       "\n",
       "Notes:\n",
       "[1] R² is computed without centering (uncentered) since the model does not contain a constant.\n",
       "[2] Standard Errors assume that the covariance matrix of the errors is correctly specified.\n",
       "\"\"\""
      ]
     },
     "execution_count": 8,
     "metadata": {},
     "output_type": "execute_result"
    }
   ],
   "source": [
    "# Coeficientes Beta (cada variável foi padronizada, ou seja, convertida ao seu valor z)\n",
    "# Não é necessário incluir um intercepto, já que ele será zero\n",
    "# Reproduz a equação apresentada no exemplo\n",
    "modelo_z = smf.ols('zprice ~ znox + zcrime + zrooms + zdist + zstratio - 1', data=zdf)  # -1: Retira o intercepto\n",
    "reg_z = modelo_z.fit()\n",
    "reg_z.summary()"
   ]
  },
  {
   "cell_type": "code",
   "execution_count": null,
   "metadata": {},
   "outputs": [],
   "source": []
  },
  {
   "cell_type": "code",
   "execution_count": null,
   "metadata": {},
   "outputs": [],
   "source": []
  },
  {
   "cell_type": "code",
   "execution_count": null,
   "metadata": {},
   "outputs": [],
   "source": [
    "# Comparação entre as estatísticas t (variáveis padronizadas e não padronizadas)\n",
    "# O uso de variáveis padronizadas e não padronizadas não afetará a significância estatística\n",
    "# As estatísticas t serão as mesmas"
   ]
  },
  {
   "cell_type": "code",
   "execution_count": 9,
   "metadata": {},
   "outputs": [
    {
     "data": {
      "text/plain": [
       "znox        -7.651052\n",
       "zcrime      -4.669298\n",
       "zrooms      17.129490\n",
       "zdist       -5.464059\n",
       "zstratio    -9.027422\n",
       "dtype: float64"
      ]
     },
     "execution_count": 9,
     "metadata": {},
     "output_type": "execute_result"
    }
   ],
   "source": [
    "# Estatísticas t da regressão MQO acima (com variáveis padronizadas e retirando-se o intercepto)\n",
    "reg_z.tvalues   "
   ]
  },
  {
   "cell_type": "code",
   "execution_count": 10,
   "metadata": {},
   "outputs": [
    {
     "data": {
      "text/plain": [
       "nox        -7.643413\n",
       "crime      -4.664636\n",
       "rooms      17.112387\n",
       "dist       -5.458603\n",
       "stratio    -9.018408\n",
       "dtype: float64"
      ]
     },
     "execution_count": 10,
     "metadata": {},
     "output_type": "execute_result"
    }
   ],
   "source": [
    "# Executa a regressão MQO com as variáveis não padronizadas (para comparação das estatístcas t)\n",
    "modelo = smf.ols('price ~ nox + crime + rooms + dist + stratio', data=df)\n",
    "reg = modelo.fit()\n",
    "reg.tvalues.loc['nox':'stratio']"
   ]
  },
  {
   "cell_type": "code",
   "execution_count": 11,
   "metadata": {},
   "outputs": [
    {
     "name": "stdout",
     "output_type": "stream",
     "text": [
      "Intercepto: -0.0\n",
      "\n",
      "Estatísticas t:\n",
      "znox        -7.643413\n",
      "zcrime      -4.664636\n",
      "zrooms      17.112387\n",
      "zdist       -5.458603\n",
      "zstratio    -9.018408\n",
      "dtype: float64\n"
     ]
    }
   ],
   "source": [
    "# Executa regressão MQO com variáveis padronizadas sem retirar o intercepto (note que ele será zero, como apontado no livro)\n",
    "modelo2_z = smf.ols('zprice ~ znox + zcrime + zrooms + zdist + zstratio', data=zdf)  # Não retiramos a constante\n",
    "reg2_z = modelo2_z.fit()\n",
    "print(f\"Intercepto: {round(reg2_z.params['Intercept'], 10)}\")\n",
    "print(f\"\\nEstatísticas t:\\n{reg2_z.tvalues.loc['znox':'zstratio']}\")"
   ]
  },
  {
   "cell_type": "code",
   "execution_count": null,
   "metadata": {},
   "outputs": [],
   "source": []
  },
  {
   "cell_type": "code",
   "execution_count": null,
   "metadata": {},
   "outputs": [],
   "source": []
  }
 ],
 "metadata": {
  "kernelspec": {
   "display_name": "Python 3",
   "language": "python",
   "name": "python3"
  },
  "language_info": {
   "codemirror_mode": {
    "name": "ipython",
    "version": 3
   },
   "file_extension": ".py",
   "mimetype": "text/x-python",
   "name": "python",
   "nbconvert_exporter": "python",
   "pygments_lexer": "ipython3",
   "version": "3.7.3"
  }
 },
 "nbformat": 4,
 "nbformat_minor": 2
}
