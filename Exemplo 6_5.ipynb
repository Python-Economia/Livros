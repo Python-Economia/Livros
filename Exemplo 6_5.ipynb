{
 "cells": [
  {
   "cell_type": "code",
   "execution_count": null,
   "metadata": {
    "id": "USWqgpJsL50e"
   },
   "outputs": [],
   "source": [
    "'''\n",
    "Introdução à Econometria - Uma abordagem moderna (Tradução da 6 edição norte-americana)\n",
    "Autor: WOOLDRIDGE, J. M.\n",
    "Editora: CENGAGE LEARNING\n",
    "\n",
    "Cap. 6: Análise de regressão múltipla: problemas adicionais (Multiple Regression Analysis: Further Issues)\n",
    "Exemplo 6.5: Intervalo de confiança de colgpa previsto \n",
    "             (CONFIDENCE INTERVAL FOR PREDICTED COLLEGE GPA)\n",
    "             \n",
    "Arquivo com os dados: gpa2.xls\n",
    "\n",
    "Arquivo com dados em:\n",
    "http://students.cengage.com.br/dashboard/private/livroView.jsf;jsessionid=95E9AD889A4A4B7ABBD2A5251F1E14BE?id=104577\n",
    "\n",
    "Em caso de dúvidas ou problemas, solicitamos, por gentileza, entrar em contato pelo e-mail:\n",
    "python.economia@gmail.com\n",
    "'''"
   ]
  },
  {
   "cell_type": "code",
   "execution_count": 1,
   "metadata": {
    "colab": {
     "base_uri": "https://localhost:8080/"
    },
    "executionInfo": {
     "elapsed": 1554,
     "status": "ok",
     "timestamp": 1658780316795,
     "user": {
      "displayName": "Charles Massami",
      "userId": "04969195849510864546"
     },
     "user_tz": 180
    },
    "id": "U16EbHJRNH5a",
    "outputId": "d50e1df8-ee17-4a36-eb3e-7cec3f388ed2"
   },
   "outputs": [],
   "source": [
    "import pandas as pd\n",
    "import statsmodels.formula.api as smf"
   ]
  },
  {
   "cell_type": "code",
   "execution_count": 2,
   "metadata": {
    "executionInfo": {
     "elapsed": 241,
     "status": "ok",
     "timestamp": 1658780318000,
     "user": {
      "displayName": "Charles Massami",
      "userId": "04969195849510864546"
     },
     "user_tz": 180
    },
    "id": "48m7ru52NLpx"
   },
   "outputs": [],
   "source": [
    "df = pd.read_excel('gpa2.xls',\n",
    "                   header=None,\n",
    "                   usecols=[0, 2, 5, 7, 11],\n",
    "                   names=['sat', 'colgpa', 'hsize', 'hsperc', 'hsizesq'])"
   ]
  },
  {
   "cell_type": "code",
   "execution_count": 3,
   "metadata": {
    "colab": {
     "base_uri": "https://localhost:8080/",
     "height": 206
    },
    "executionInfo": {
     "elapsed": 8,
     "status": "ok",
     "timestamp": 1658780319174,
     "user": {
      "displayName": "Charles Massami",
      "userId": "04969195849510864546"
     },
     "user_tz": 180
    },
    "id": "C4DdHGPFNNzx",
    "outputId": "60ce82bf-88f2-4f6a-b7a7-4e60c19824d6"
   },
   "outputs": [
    {
     "data": {
      "text/html": [
       "<div>\n",
       "<style scoped>\n",
       "    .dataframe tbody tr th:only-of-type {\n",
       "        vertical-align: middle;\n",
       "    }\n",
       "\n",
       "    .dataframe tbody tr th {\n",
       "        vertical-align: top;\n",
       "    }\n",
       "\n",
       "    .dataframe thead th {\n",
       "        text-align: right;\n",
       "    }\n",
       "</style>\n",
       "<table border=\"1\" class=\"dataframe\">\n",
       "  <thead>\n",
       "    <tr style=\"text-align: right;\">\n",
       "      <th></th>\n",
       "      <th>sat</th>\n",
       "      <th>colgpa</th>\n",
       "      <th>hsize</th>\n",
       "      <th>hsperc</th>\n",
       "      <th>hsizesq</th>\n",
       "    </tr>\n",
       "  </thead>\n",
       "  <tbody>\n",
       "    <tr>\n",
       "      <th>0</th>\n",
       "      <td>920</td>\n",
       "      <td>2.04</td>\n",
       "      <td>0.10</td>\n",
       "      <td>40.00000</td>\n",
       "      <td>0.0100</td>\n",
       "    </tr>\n",
       "    <tr>\n",
       "      <th>1</th>\n",
       "      <td>1170</td>\n",
       "      <td>4.00</td>\n",
       "      <td>9.40</td>\n",
       "      <td>20.31915</td>\n",
       "      <td>88.3600</td>\n",
       "    </tr>\n",
       "    <tr>\n",
       "      <th>2</th>\n",
       "      <td>810</td>\n",
       "      <td>1.78</td>\n",
       "      <td>1.19</td>\n",
       "      <td>35.29412</td>\n",
       "      <td>1.4161</td>\n",
       "    </tr>\n",
       "    <tr>\n",
       "      <th>3</th>\n",
       "      <td>940</td>\n",
       "      <td>2.42</td>\n",
       "      <td>5.71</td>\n",
       "      <td>44.13310</td>\n",
       "      <td>32.6041</td>\n",
       "    </tr>\n",
       "    <tr>\n",
       "      <th>4</th>\n",
       "      <td>1180</td>\n",
       "      <td>2.61</td>\n",
       "      <td>2.14</td>\n",
       "      <td>40.18692</td>\n",
       "      <td>4.5796</td>\n",
       "    </tr>\n",
       "  </tbody>\n",
       "</table>\n",
       "</div>"
      ],
      "text/plain": [
       "    sat  colgpa  hsize    hsperc  hsizesq\n",
       "0   920    2.04   0.10  40.00000   0.0100\n",
       "1  1170    4.00   9.40  20.31915  88.3600\n",
       "2   810    1.78   1.19  35.29412   1.4161\n",
       "3   940    2.42   5.71  44.13310  32.6041\n",
       "4  1180    2.61   2.14  40.18692   4.5796"
      ]
     },
     "execution_count": 3,
     "metadata": {},
     "output_type": "execute_result"
    }
   ],
   "source": [
    "df.head()"
   ]
  },
  {
   "cell_type": "code",
   "execution_count": null,
   "metadata": {},
   "outputs": [],
   "source": []
  },
  {
   "cell_type": "code",
   "execution_count": null,
   "metadata": {
    "id": "33LiXz45NN7p"
   },
   "outputs": [],
   "source": []
  },
  {
   "cell_type": "markdown",
   "metadata": {
    "id": "zs9YwgMeNSGD"
   },
   "source": [
    "### Comando sugeridos"
   ]
  },
  {
   "cell_type": "markdown",
   "metadata": {
    "id": "14pL_DnbNegj"
   },
   "source": [
    "#### Regressão por Mínimos Quadrados Ordinários (MQO ou OLS na sigla em inglês)"
   ]
  },
  {
   "cell_type": "code",
   "execution_count": 4,
   "metadata": {
    "executionInfo": {
     "elapsed": 217,
     "status": "ok",
     "timestamp": 1658780347027,
     "user": {
      "displayName": "Charles Massami",
      "userId": "04969195849510864546"
     },
     "user_tz": 180
    },
    "id": "5p4G_O0jNO45"
   },
   "outputs": [],
   "source": [
    "modelo = smf.ols(formula='colgpa ~ sat + hsperc + hsize + hsizesq', data=df)\n",
    "reg = modelo.fit()"
   ]
  },
  {
   "cell_type": "code",
   "execution_count": 5,
   "metadata": {
    "colab": {
     "base_uri": "https://localhost:8080/"
    },
    "executionInfo": {
     "elapsed": 228,
     "status": "ok",
     "timestamp": 1658780418756,
     "user": {
      "displayName": "Charles Massami",
      "userId": "04969195849510864546"
     },
     "user_tz": 180
    },
    "id": "BY3dAJZGNO7w",
    "outputId": "99882d55-5780-4689-9339-9261fea80ce7"
   },
   "outputs": [
    {
     "name": "stdout",
     "output_type": "stream",
     "text": [
      "Variável dependente: colgpa\n",
      "\n",
      "              coef  std err\n",
      "Intercept  1.49265  0.07534\n",
      "sat        0.00149  0.00007\n",
      "hsperc    -0.01386  0.00056\n",
      "hsize     -0.06088  0.01650\n",
      "hsizesq    0.00546  0.00227\n",
      "\n",
      "n = 4137, R2 = 0.278, R2 ajustado: 0.277, sigma_chapeu = 0.56\n"
     ]
    }
   ],
   "source": [
    "# Tabela de resultados\n",
    "tabela = pd.DataFrame()\n",
    "tabela['coef'] = round(reg.params, 5)\n",
    "tabela['std err'] = round(reg.bse, 5)\n",
    "\n",
    "n_obs = reg.nobs\n",
    "sigma_chapeu = reg.mse_resid ** 0.5\n",
    "r_quadrado = reg.rsquared\n",
    "r_quadrado_ajustado = reg.rsquared_adj\n",
    "\n",
    "print(f'Variável dependente: colgpa\\n')\n",
    "print(tabela)\n",
    "print(f'\\nn = {int(n_obs)}, R2 = {round(r_quadrado, 3)}, R2 ajustado: {round(r_quadrado_ajustado, 3)}, \\\n",
    "sigma_chapeu = {round(sigma_chapeu, 3)}' )"
   ]
  },
  {
   "cell_type": "code",
   "execution_count": 6,
   "metadata": {},
   "outputs": [
    {
     "data": {
      "text/plain": [
       "array([[2.66110422, 2.73904676]])"
      ]
     },
     "execution_count": 6,
     "metadata": {},
     "output_type": "execute_result"
    }
   ],
   "source": [
    "# Intervalo de confiança de 95% para o colgpa esperado\n",
    "exog = {'sat': 1200, 'hsperc': 30, 'hsize': 5, 'hsizesq': 25}\n",
    "\n",
    "intervalo_confianca_colgpa = reg.get_prediction(exog)\n",
    "intervalo_confianca_colgpa.conf_int(obs=False, alpha=0.05)    # Para obter o IC de 95% no exemplo 6.6, basta colocar \"obs=True\""
   ]
  },
  {
   "cell_type": "code",
   "execution_count": null,
   "metadata": {},
   "outputs": [],
   "source": []
  },
  {
   "cell_type": "code",
   "execution_count": null,
   "metadata": {},
   "outputs": [],
   "source": []
  },
  {
   "cell_type": "markdown",
   "metadata": {},
   "source": [
    "#### Intervalo de Confiança de 95% da média do GPA calculado pelo procedimento sugerido no livro"
   ]
  },
  {
   "cell_type": "code",
   "execution_count": 7,
   "metadata": {},
   "outputs": [],
   "source": [
    "sat = 1200\n",
    "hsperc = 30\n",
    "hsize = 5\n",
    "\n",
    "df['sat0'] = df['sat'] - sat\n",
    "df['hsperc0'] = df['hsperc'] - hsperc\n",
    "df['hsize0'] = df['hsize'] - hsize\n",
    "df['hsizesq0'] = df['hsizesq'] - hsize ** 2\n",
    "\n",
    "modelo_predict = smf.ols('colgpa ~ sat0 + hsperc0 + hsize0 + hsizesq0', data=df)\n",
    "reg_predict = modelo_predict.fit()"
   ]
  },
  {
   "cell_type": "code",
   "execution_count": 8,
   "metadata": {},
   "outputs": [
    {
     "name": "stdout",
     "output_type": "stream",
     "text": [
      "Variável dependente: colgpa\n",
      "\n",
      "              coef  std err\n",
      "Intercept  2.70008  0.01988\n",
      "sat0       0.00149  0.00007\n",
      "hsperc0   -0.01386  0.00056\n",
      "hsize0    -0.06088  0.01650\n",
      "hsizesq0   0.00546  0.00227\n",
      "\n",
      "n = 4137, R2 = 0.278, R2 ajustado: 0.277, sigma_chapeu = 0.56\n"
     ]
    }
   ],
   "source": [
    "# Tabela de resultados\n",
    "tabela_predict = pd.DataFrame()\n",
    "tabela_predict['coef'] = round(reg_predict.params, 5)\n",
    "tabela_predict['std err'] = round(reg_predict.bse, 5)\n",
    "\n",
    "n_obs_predict = reg_predict.nobs\n",
    "sigma_chapeu_predict = reg_predict.mse_resid ** 0.5\n",
    "r_quadrado_predict = reg_predict.rsquared\n",
    "r_quadrado_ajustado_predict = reg_predict.rsquared_adj\n",
    "\n",
    "print(f'Variável dependente: colgpa\\n')\n",
    "print(tabela_predict)\n",
    "print(f'\\nn = {int(n_obs_predict)}, R2 = {round(r_quadrado_predict, 3)}, R2 ajustado: {round(r_quadrado_ajustado_predict, 3)}, \\\n",
    "sigma_chapeu = {round(sigma_chapeu_predict, 3)}' )"
   ]
  },
  {
   "cell_type": "code",
   "execution_count": 9,
   "metadata": {
    "id": "JMsxFGqLDa-h"
   },
   "outputs": [
    {
     "data": {
      "text/plain": [
       "(2.6611149182623732, 2.7390360554797146)"
      ]
     },
     "execution_count": 9,
     "metadata": {},
     "output_type": "execute_result"
    }
   ],
   "source": [
    "# Intervalo de confiança de 95% para o colgpa esperado\n",
    "inferior = reg_predict.params['Intercept'] - 1.96 * reg_predict.bse['Intercept'] \n",
    "superior = reg_predict.params['Intercept'] + 1.96 * reg_predict.bse['Intercept']\n",
    "\n",
    "intervalo_confianca_95 = (inferior, superior)\n",
    "\n",
    "intervalo_confianca_95"
   ]
  },
  {
   "cell_type": "code",
   "execution_count": null,
   "metadata": {
    "id": "YoSfvj4EYSyX"
   },
   "outputs": [],
   "source": []
  },
  {
   "cell_type": "code",
   "execution_count": null,
   "metadata": {
    "id": "gGMW6gjzGJtV"
   },
   "outputs": [],
   "source": [
    "'''\n",
    "Observação:\n",
    "O erro padrão de hsize0 consta no livro como 0,1650, quando na realidade é 0,01650 (ver na tabela de resultados acima)\n",
    "'''"
   ]
  },
  {
   "cell_type": "code",
   "execution_count": null,
   "metadata": {
    "id": "kFV9FqCZKCz9"
   },
   "outputs": [],
   "source": []
  }
 ],
 "metadata": {
  "colab": {
   "authorship_tag": "ABX9TyP6vtK0IhfGrOi9Yrx6cF0P",
   "collapsed_sections": [],
   "name": "6_4.ipynb",
   "provenance": []
  },
  "kernelspec": {
   "display_name": "Python 3",
   "language": "python",
   "name": "python3"
  },
  "language_info": {
   "codemirror_mode": {
    "name": "ipython",
    "version": 3
   },
   "file_extension": ".py",
   "mimetype": "text/x-python",
   "name": "python",
   "nbconvert_exporter": "python",
   "pygments_lexer": "ipython3",
   "version": "3.7.3"
  }
 },
 "nbformat": 4,
 "nbformat_minor": 1
}
