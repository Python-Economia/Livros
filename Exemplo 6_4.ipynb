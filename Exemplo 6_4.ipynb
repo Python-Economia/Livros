{
 "cells": [
  {
   "cell_type": "code",
   "execution_count": null,
   "metadata": {
    "id": "USWqgpJsL50e"
   },
   "outputs": [],
   "source": [
    "'''\n",
    "Introdução à Econometria - Uma abordagem moderna (Tradução da 6 edição norte-americana)\n",
    "Autor: WOOLDRIDGE, J. M.\n",
    "Editora: CENGAGE LEARNING\n",
    "\n",
    "Cap. 6: Análise de regressão múltipla: problemas adicionais (Multiple Regression Analysis: Further Issues)\n",
    "Exemplo 6.4: Remuneração de diretores-executivos (CEO) e desempenho de empresas\n",
    "             (CEO COMPENSATION AND FIRM PERFORMANCE)\n",
    "             \n",
    "Arquivo com os dados: ceosal1.xls\n",
    "\n",
    "Arquivo com dados em:\n",
    "http://students.cengage.com.br/dashboard/private/livroView.jsf;jsessionid=95E9AD889A4A4B7ABBD2A5251F1E14BE?id=104577\n",
    "\n",
    "Em caso de dúvidas ou problemas, solicitamos, por gentileza, entrar em contato pelo e-mail:\n",
    "python.economia@gmail.com\n",
    "'''"
   ]
  },
  {
   "cell_type": "code",
   "execution_count": 1,
   "metadata": {
    "colab": {
     "base_uri": "https://localhost:8080/"
    },
    "executionInfo": {
     "elapsed": 1554,
     "status": "ok",
     "timestamp": 1658780316795,
     "user": {
      "displayName": "Charles Massami",
      "userId": "04969195849510864546"
     },
     "user_tz": 180
    },
    "id": "U16EbHJRNH5a",
    "outputId": "d50e1df8-ee17-4a36-eb3e-7cec3f388ed2"
   },
   "outputs": [],
   "source": [
    "import pandas as pd\n",
    "import statsmodels.formula.api as smf"
   ]
  },
  {
   "cell_type": "code",
   "execution_count": 2,
   "metadata": {
    "executionInfo": {
     "elapsed": 241,
     "status": "ok",
     "timestamp": 1658780318000,
     "user": {
      "displayName": "Charles Massami",
      "userId": "04969195849510864546"
     },
     "user_tz": 180
    },
    "id": "48m7ru52NLpx"
   },
   "outputs": [],
   "source": [
    "df = pd.read_excel('ceosal1.xls',\n",
    "                   header=None,\n",
    "                   usecols=[0, 2, 3, 10, 11],\n",
    "                   names=['salary', 'sales', 'roe', 'lsalary', 'lsales' ])"
   ]
  },
  {
   "cell_type": "code",
   "execution_count": 3,
   "metadata": {
    "colab": {
     "base_uri": "https://localhost:8080/",
     "height": 206
    },
    "executionInfo": {
     "elapsed": 8,
     "status": "ok",
     "timestamp": 1658780319174,
     "user": {
      "displayName": "Charles Massami",
      "userId": "04969195849510864546"
     },
     "user_tz": 180
    },
    "id": "C4DdHGPFNNzx",
    "outputId": "60ce82bf-88f2-4f6a-b7a7-4e60c19824d6"
   },
   "outputs": [
    {
     "data": {
      "text/html": [
       "<div>\n",
       "<style scoped>\n",
       "    .dataframe tbody tr th:only-of-type {\n",
       "        vertical-align: middle;\n",
       "    }\n",
       "\n",
       "    .dataframe tbody tr th {\n",
       "        vertical-align: top;\n",
       "    }\n",
       "\n",
       "    .dataframe thead th {\n",
       "        text-align: right;\n",
       "    }\n",
       "</style>\n",
       "<table border=\"1\" class=\"dataframe\">\n",
       "  <thead>\n",
       "    <tr style=\"text-align: right;\">\n",
       "      <th></th>\n",
       "      <th>salary</th>\n",
       "      <th>sales</th>\n",
       "      <th>roe</th>\n",
       "      <th>lsalary</th>\n",
       "      <th>lsales</th>\n",
       "    </tr>\n",
       "  </thead>\n",
       "  <tbody>\n",
       "    <tr>\n",
       "      <th>0</th>\n",
       "      <td>1095</td>\n",
       "      <td>27595.0</td>\n",
       "      <td>14.1</td>\n",
       "      <td>6.998509</td>\n",
       "      <td>10.225390</td>\n",
       "    </tr>\n",
       "    <tr>\n",
       "      <th>1</th>\n",
       "      <td>1001</td>\n",
       "      <td>9958.0</td>\n",
       "      <td>10.9</td>\n",
       "      <td>6.908755</td>\n",
       "      <td>9.206132</td>\n",
       "    </tr>\n",
       "    <tr>\n",
       "      <th>2</th>\n",
       "      <td>1122</td>\n",
       "      <td>6125.9</td>\n",
       "      <td>23.5</td>\n",
       "      <td>7.022868</td>\n",
       "      <td>8.720281</td>\n",
       "    </tr>\n",
       "    <tr>\n",
       "      <th>3</th>\n",
       "      <td>578</td>\n",
       "      <td>16246.0</td>\n",
       "      <td>5.9</td>\n",
       "      <td>6.359574</td>\n",
       "      <td>9.695602</td>\n",
       "    </tr>\n",
       "    <tr>\n",
       "      <th>4</th>\n",
       "      <td>1368</td>\n",
       "      <td>21783.2</td>\n",
       "      <td>13.8</td>\n",
       "      <td>7.221105</td>\n",
       "      <td>9.988894</td>\n",
       "    </tr>\n",
       "  </tbody>\n",
       "</table>\n",
       "</div>"
      ],
      "text/plain": [
       "   salary    sales   roe   lsalary     lsales\n",
       "0    1095  27595.0  14.1  6.998509  10.225390\n",
       "1    1001   9958.0  10.9  6.908755   9.206132\n",
       "2    1122   6125.9  23.5  7.022868   8.720281\n",
       "3     578  16246.0   5.9  6.359574   9.695602\n",
       "4    1368  21783.2  13.8  7.221105   9.988894"
      ]
     },
     "execution_count": 3,
     "metadata": {},
     "output_type": "execute_result"
    }
   ],
   "source": [
    "df.head()"
   ]
  },
  {
   "cell_type": "code",
   "execution_count": null,
   "metadata": {
    "id": "ZfOm-cUkNN2o"
   },
   "outputs": [],
   "source": [
    "\n"
   ]
  },
  {
   "cell_type": "code",
   "execution_count": null,
   "metadata": {
    "id": "33LiXz45NN7p"
   },
   "outputs": [],
   "source": []
  },
  {
   "cell_type": "markdown",
   "metadata": {
    "id": "zs9YwgMeNSGD"
   },
   "source": [
    "### Comando sugeridos"
   ]
  },
  {
   "cell_type": "markdown",
   "metadata": {
    "id": "14pL_DnbNegj"
   },
   "source": [
    "#### Regressão por Mínimos Quadrados Ordinários (MQO ou OLS na sigla em inglês)"
   ]
  },
  {
   "cell_type": "code",
   "execution_count": 4,
   "metadata": {
    "executionInfo": {
     "elapsed": 217,
     "status": "ok",
     "timestamp": 1658780347027,
     "user": {
      "displayName": "Charles Massami",
      "userId": "04969195849510864546"
     },
     "user_tz": 180
    },
    "id": "5p4G_O0jNO45"
   },
   "outputs": [],
   "source": [
    "modelo_1 = smf.ols(formula='salary ~ sales + roe', data=df)\n",
    "reg_1 = modelo_1.fit()\n",
    "\n",
    "modelo_2 = smf.ols(formula='lsalary ~ lsales + roe', data=df)\n",
    "reg_2 = modelo_2.fit()"
   ]
  },
  {
   "cell_type": "code",
   "execution_count": 5,
   "metadata": {
    "colab": {
     "base_uri": "https://localhost:8080/"
    },
    "executionInfo": {
     "elapsed": 228,
     "status": "ok",
     "timestamp": 1658780418756,
     "user": {
      "displayName": "Charles Massami",
      "userId": "04969195849510864546"
     },
     "user_tz": 180
    },
    "id": "BY3dAJZGNO7w",
    "outputId": "99882d55-5780-4689-9339-9261fea80ce7"
   },
   "outputs": [
    {
     "name": "stdout",
     "output_type": "stream",
     "text": [
      "Variável dependente: salary\n",
      "\n",
      "                 coef     std err\n",
      "Intercept  830.631289  223.904895\n",
      "sales        0.016342    0.008874\n",
      "roe         19.630969   11.076552\n",
      "\n",
      "n = 209, R2 = 0.029, R2 ajustado: 0.02\n"
     ]
    }
   ],
   "source": [
    "# Regressão modelo 1\n",
    "resultados_1 = pd.DataFrame()\n",
    "resultados_1['coef'] = reg_1.params\n",
    "resultados_1['std err'] = reg_1.bse\n",
    "\n",
    "print(f'Variável dependente: salary\\n')\n",
    "print(resultados_1)\n",
    "print(f'\\nn = {int(reg_1.nobs)}, R2 = {round(reg_1.rsquared, 3)}, R2 ajustado: {round(reg_1.rsquared_adj, 3)}' )"
   ]
  },
  {
   "cell_type": "code",
   "execution_count": 6,
   "metadata": {
    "colab": {
     "base_uri": "https://localhost:8080/"
    },
    "executionInfo": {
     "elapsed": 255,
     "status": "ok",
     "timestamp": 1658781347337,
     "user": {
      "displayName": "Charles Massami",
      "userId": "04969195849510864546"
     },
     "user_tz": 180
    },
    "id": "bxgcGDdJDX14",
    "outputId": "179a9957-fde4-48da-fbfe-7781f1841abe"
   },
   "outputs": [
    {
     "data": {
      "text/plain": [
       "Intercept    0.00027\n",
       "sales        0.06697\n",
       "roe          0.07782\n",
       "dtype: float64"
      ]
     },
     "execution_count": 6,
     "metadata": {},
     "output_type": "execute_result"
    }
   ],
   "source": [
    "'''\n",
    "Valores p para o teste:\n",
    "H0: Bk = 0\n",
    "H1: Bk != 0\n",
    "'''\n",
    "round(reg_1.pvalues, 5)"
   ]
  },
  {
   "cell_type": "code",
   "execution_count": 7,
   "metadata": {
    "colab": {
     "base_uri": "https://localhost:8080/"
    },
    "executionInfo": {
     "elapsed": 245,
     "status": "ok",
     "timestamp": 1658781667411,
     "user": {
      "displayName": "Charles Massami",
      "userId": "04969195849510864546"
     },
     "user_tz": 180
    },
    "id": "vEDD7s7tE7gh",
    "outputId": "a6e70319-995e-4d4b-9a02-061f8c70aa86"
   },
   "outputs": [
    {
     "data": {
      "text/plain": [
       "391732982.00956935"
      ]
     },
     "execution_count": 7,
     "metadata": {},
     "output_type": "execute_result"
    }
   ],
   "source": [
    "# Soma dos quadrados total (Total Sum of Squares for salary)\n",
    "reg_1.centered_tss"
   ]
  },
  {
   "cell_type": "code",
   "execution_count": null,
   "metadata": {
    "id": "JMsxFGqLDa-h"
   },
   "outputs": [],
   "source": []
  },
  {
   "cell_type": "code",
   "execution_count": null,
   "metadata": {
    "id": "YoSfvj4EYSyX"
   },
   "outputs": [],
   "source": []
  },
  {
   "cell_type": "code",
   "execution_count": 8,
   "metadata": {
    "colab": {
     "base_uri": "https://localhost:8080/"
    },
    "executionInfo": {
     "elapsed": 235,
     "status": "ok",
     "timestamp": 1658780435543,
     "user": {
      "displayName": "Charles Massami",
      "userId": "04969195849510864546"
     },
     "user_tz": 180
    },
    "id": "Io2Ktn6BYFZR",
    "outputId": "822a5488-b5f2-40ad-df4c-ee3554917388"
   },
   "outputs": [
    {
     "name": "stdout",
     "output_type": "stream",
     "text": [
      "Variável dependente: lsalary\n",
      "\n",
      "               coef   std err\n",
      "Intercept  4.362167  0.293878\n",
      "lsales     0.275087  0.033254\n",
      "roe        0.017872  0.003955\n",
      "\n",
      "n = 209, R2 = 0.282, R2 ajustado: 0.275\n"
     ]
    }
   ],
   "source": [
    "# Regressão modelo 2\n",
    "resultados_2 = pd.DataFrame()\n",
    "resultados_2['coef'] = reg_2.params\n",
    "resultados_2['std err'] = reg_2.bse\n",
    "\n",
    "print(f'Variável dependente: lsalary\\n')\n",
    "print(resultados_2)\n",
    "print(f'\\nn = {int(reg_2.nobs)}, R2 = {round(reg_2.rsquared, 3)}, R2 ajustado: {round(reg_2.rsquared_adj, 3)}' )"
   ]
  },
  {
   "cell_type": "code",
   "execution_count": 10,
   "metadata": {
    "colab": {
     "base_uri": "https://localhost:8080/"
    },
    "executionInfo": {
     "elapsed": 4,
     "status": "ok",
     "timestamp": 1658781360811,
     "user": {
      "displayName": "Charles Massami",
      "userId": "04969195849510864546"
     },
     "user_tz": 180
    },
    "id": "P_JmWd6KQko6",
    "outputId": "abf27ce6-d114-4f73-ea16-8897fe684d31"
   },
   "outputs": [
    {
     "data": {
      "text/plain": [
       "Intercept    0.00000\n",
       "lsales       0.00000\n",
       "roe          0.00001\n",
       "dtype: float64"
      ]
     },
     "execution_count": 10,
     "metadata": {},
     "output_type": "execute_result"
    }
   ],
   "source": [
    "'''\n",
    "Valores p para o teste:\n",
    "H0: Bk = 0\n",
    "H1: Bk != 0\n",
    "'''\n",
    "round(reg_2.pvalues, 5)"
   ]
  },
  {
   "cell_type": "code",
   "execution_count": 9,
   "metadata": {
    "colab": {
     "base_uri": "https://localhost:8080/"
    },
    "executionInfo": {
     "elapsed": 237,
     "status": "ok",
     "timestamp": 1658781680916,
     "user": {
      "displayName": "Charles Massami",
      "userId": "04969195849510864546"
     },
     "user_tz": 180
    },
    "id": "2sXGeS4vnhCg",
    "outputId": "ab95d9d9-0045-42dc-c07a-c43b66e9e81c"
   },
   "outputs": [
    {
     "data": {
      "text/plain": [
       "66.72217292310248"
      ]
     },
     "execution_count": 9,
     "metadata": {},
     "output_type": "execute_result"
    }
   ],
   "source": [
    "# Soma dos quadrados total de log(salary) [Total Sum of Squares for lsalary]\n",
    "reg_2.centered_tss"
   ]
  },
  {
   "cell_type": "code",
   "execution_count": null,
   "metadata": {
    "id": "Tc9EFBwyI2UA"
   },
   "outputs": [],
   "source": []
  },
  {
   "cell_type": "code",
   "execution_count": null,
   "metadata": {
    "id": "ONmJozE4I2bY"
   },
   "outputs": [],
   "source": []
  },
  {
   "cell_type": "markdown",
   "metadata": {
    "id": "GOHXZGNZI4Gp"
   },
   "source": [
    "### Calculando a Soma dos Quadrados Total (SQT) manualmente\n",
    "#### Em inglês: Total Sum of Squares (SST na abreviatura constante em Wooldridge, capítulo 3, item Goodness-of-Fit )"
   ]
  },
  {
   "cell_type": "code",
   "execution_count": 11,
   "metadata": {
    "colab": {
     "base_uri": "https://localhost:8080/"
    },
    "executionInfo": {
     "elapsed": 256,
     "status": "ok",
     "timestamp": 1658782577856,
     "user": {
      "displayName": "Charles Massami",
      "userId": "04969195849510864546"
     },
     "user_tz": 180
    },
    "id": "Sj7v9fQJni18",
    "outputId": "f3f8d3f4-035a-446a-bdaa-38286874ff0c"
   },
   "outputs": [
    {
     "data": {
      "text/plain": [
       "66.72217292310248"
      ]
     },
     "execution_count": 11,
     "metadata": {},
     "output_type": "execute_result"
    }
   ],
   "source": [
    "# Total Sum of Squares for lsalary\n",
    "# Obtido anteriormente pelo comando: reg_2.centered_tss\n",
    "desvio_media = df['lsalary'] - df['lsalary'].mean()\n",
    "desvio_media_quadrado = desvio_media**2\n",
    "soma_desvio_media_quadrado = desvio_media_quadrado.sum()\n",
    "\n",
    "soma_desvio_media_quadrado"
   ]
  },
  {
   "cell_type": "code",
   "execution_count": null,
   "metadata": {
    "id": "gGMW6gjzGJtV"
   },
   "outputs": [],
   "source": []
  },
  {
   "cell_type": "code",
   "execution_count": null,
   "metadata": {
    "id": "kFV9FqCZKCz9"
   },
   "outputs": [],
   "source": []
  }
 ],
 "metadata": {
  "colab": {
   "authorship_tag": "ABX9TyP6vtK0IhfGrOi9Yrx6cF0P",
   "collapsed_sections": [],
   "name": "6_4.ipynb",
   "provenance": []
  },
  "kernelspec": {
   "display_name": "Python 3",
   "language": "python",
   "name": "python3"
  },
  "language_info": {
   "codemirror_mode": {
    "name": "ipython",
    "version": 3
   },
   "file_extension": ".py",
   "mimetype": "text/x-python",
   "name": "python",
   "nbconvert_exporter": "python",
   "pygments_lexer": "ipython3",
   "version": "3.7.3"
  }
 },
 "nbformat": 4,
 "nbformat_minor": 1
}
