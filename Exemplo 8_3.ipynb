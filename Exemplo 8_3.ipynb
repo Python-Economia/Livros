{
 "cells": [
  {
   "cell_type": "code",
   "execution_count": null,
   "metadata": {},
   "outputs": [],
   "source": [
    "'''\n",
    "Introdução à Econometria - Uma abordagem moderna (Tradução da 6 edição norte-americana)\n",
    "Autor: WOOLDRIDGE, J. M.\n",
    "Editora: CENGAGE LEARNING\n",
    "\n",
    "Cap. 8: Heterocedasticidade (Heteroskedasticity)\n",
    "Exemplo 8.3: Estatística LM robusta em relação à heterocedasticidade\n",
    "             (HETEROSKEDASTICITY-ROBUST LM STATISTIC)\n",
    "             \n",
    "Arquivo com os dados: crime1.xls\n",
    "\n",
    "Arquivo com dados em:\n",
    "http://students.cengage.com.br/dashboard/private/livroView.jsf;jsessionid=95E9AD889A4A4B7ABBD2A5251F1E14BE?id=104577\n",
    "\n",
    "Em caso de dúvidas ou problemas, solicitamos, por gentileza, entrar em contato pelo e-mail:\n",
    "python.economia@gmail.com\n",
    "'''"
   ]
  },
  {
   "cell_type": "code",
   "execution_count": 1,
   "metadata": {},
   "outputs": [],
   "source": [
    "import pandas as pd\n",
    "import statsmodels.formula.api as smf\n",
    "import numpy as np\n",
    "import statsmodels.iolib.summary2 as sis"
   ]
  },
  {
   "cell_type": "code",
   "execution_count": 2,
   "metadata": {},
   "outputs": [],
   "source": [
    "df = pd.read_excel('crime1.xls',\n",
    "                   header=None,\n",
    "                   usecols=[0, 3, 4, 6, 7, 8, 10, 11],\n",
    "                   names=['narr86', 'pcnv', 'avgsen', 'ptime86', 'qemp86', 'inc86', 'black', 'hispan'])"
   ]
  },
  {
   "cell_type": "code",
   "execution_count": 3,
   "metadata": {},
   "outputs": [
    {
     "data": {
      "text/html": [
       "<div>\n",
       "<style scoped>\n",
       "    .dataframe tbody tr th:only-of-type {\n",
       "        vertical-align: middle;\n",
       "    }\n",
       "\n",
       "    .dataframe tbody tr th {\n",
       "        vertical-align: top;\n",
       "    }\n",
       "\n",
       "    .dataframe thead th {\n",
       "        text-align: right;\n",
       "    }\n",
       "</style>\n",
       "<table border=\"1\" class=\"dataframe\">\n",
       "  <thead>\n",
       "    <tr style=\"text-align: right;\">\n",
       "      <th></th>\n",
       "      <th>narr86</th>\n",
       "      <th>pcnv</th>\n",
       "      <th>avgsen</th>\n",
       "      <th>ptime86</th>\n",
       "      <th>qemp86</th>\n",
       "      <th>inc86</th>\n",
       "      <th>black</th>\n",
       "      <th>hispan</th>\n",
       "    </tr>\n",
       "  </thead>\n",
       "  <tbody>\n",
       "    <tr>\n",
       "      <th>0</th>\n",
       "      <td>0</td>\n",
       "      <td>0.38</td>\n",
       "      <td>17.6</td>\n",
       "      <td>12</td>\n",
       "      <td>0.0</td>\n",
       "      <td>0.0</td>\n",
       "      <td>0</td>\n",
       "      <td>0</td>\n",
       "    </tr>\n",
       "    <tr>\n",
       "      <th>1</th>\n",
       "      <td>2</td>\n",
       "      <td>0.44</td>\n",
       "      <td>0.0</td>\n",
       "      <td>0</td>\n",
       "      <td>1.0</td>\n",
       "      <td>0.8</td>\n",
       "      <td>0</td>\n",
       "      <td>1</td>\n",
       "    </tr>\n",
       "  </tbody>\n",
       "</table>\n",
       "</div>"
      ],
      "text/plain": [
       "   narr86  pcnv  avgsen  ptime86  qemp86  inc86  black  hispan\n",
       "0       0  0.38    17.6       12     0.0    0.0      0       0\n",
       "1       2  0.44     0.0        0     1.0    0.8      0       1"
      ]
     },
     "execution_count": 3,
     "metadata": {},
     "output_type": "execute_result"
    }
   ],
   "source": [
    "df.head(2)"
   ]
  },
  {
   "cell_type": "code",
   "execution_count": 4,
   "metadata": {},
   "outputs": [
    {
     "name": "stdout",
     "output_type": "stream",
     "text": [
      "<class 'pandas.core.frame.DataFrame'>\n",
      "RangeIndex: 2725 entries, 0 to 2724\n",
      "Data columns (total 8 columns):\n",
      " #   Column   Non-Null Count  Dtype  \n",
      "---  ------   --------------  -----  \n",
      " 0   narr86   2725 non-null   int64  \n",
      " 1   pcnv     2725 non-null   float64\n",
      " 2   avgsen   2725 non-null   float64\n",
      " 3   ptime86  2725 non-null   int64  \n",
      " 4   qemp86   2725 non-null   float64\n",
      " 5   inc86    2725 non-null   float64\n",
      " 6   black    2725 non-null   int64  \n",
      " 7   hispan   2725 non-null   int64  \n",
      "dtypes: float64(4), int64(4)\n",
      "memory usage: 170.4 KB\n"
     ]
    }
   ],
   "source": [
    "df.info()"
   ]
  },
  {
   "cell_type": "code",
   "execution_count": 5,
   "metadata": {},
   "outputs": [
    {
     "data": {
      "text/plain": [
       "narr86     0\n",
       "pcnv       0\n",
       "avgsen     0\n",
       "ptime86    0\n",
       "qemp86     0\n",
       "inc86      0\n",
       "black      0\n",
       "hispan     0\n",
       "dtype: int64"
      ]
     },
     "execution_count": 5,
     "metadata": {},
     "output_type": "execute_result"
    }
   ],
   "source": [
    "# Verifica se alguma variável possui dados faltantes\n",
    "df.isna().sum()"
   ]
  },
  {
   "cell_type": "code",
   "execution_count": null,
   "metadata": {},
   "outputs": [],
   "source": []
  },
  {
   "cell_type": "code",
   "execution_count": null,
   "metadata": {},
   "outputs": [],
   "source": []
  },
  {
   "cell_type": "code",
   "execution_count": null,
   "metadata": {},
   "outputs": [],
   "source": []
  },
  {
   "cell_type": "markdown",
   "metadata": {},
   "source": [
    "### Solução sugerida"
   ]
  },
  {
   "cell_type": "code",
   "execution_count": 6,
   "metadata": {},
   "outputs": [],
   "source": [
    "model = smf.ols('narr86 ~ pcnv + avgsen + np.square(avgsen) + ptime86 + qemp86 + inc86 + black + hispan', data=df)\n",
    "reg = model.fit()\n",
    "reg_robust = model.fit(cov_type='HC0')    # implementa procedimento robusto em relação à heterocedasticidade"
   ]
  },
  {
   "cell_type": "code",
   "execution_count": 7,
   "metadata": {},
   "outputs": [
    {
     "name": "stdout",
     "output_type": "stream",
     "text": [
      "             Exemplo 8.3\n",
      "=====================================\n",
      "                  se_usual se_robusto\n",
      "-------------------------------------\n",
      "Intercept         0.5670   0.5670    \n",
      "                  (0.0361) (0.0402)  \n",
      "pcnv              -0.1356  -0.1356   \n",
      "                  (0.0404) (0.0336)  \n",
      "avgsen            0.0178   0.0178    \n",
      "                  (0.0097) (0.0101)  \n",
      "np.square(avgsen) -0.0005  -0.0005   \n",
      "                  (0.0003) (0.0002)  \n",
      "ptime86           -0.0394  -0.0394   \n",
      "                  (0.0087) (0.0062)  \n",
      "qemp86            -0.0505  -0.0505   \n",
      "                  (0.0144) (0.0142)  \n",
      "inc86             -0.0015  -0.0015   \n",
      "                  (0.0003) (0.0002)  \n",
      "black             0.3246   0.3246    \n",
      "                  (0.0454) (0.0584)  \n",
      "hispan            0.1934   0.1934    \n",
      "                  (0.0397) (0.0402)  \n",
      "R-squared         0.0728   0.0728    \n",
      "R-squared Adj.    0.0701   0.0701    \n",
      "=====================================\n",
      "Standard errors in parentheses.\n",
      "Núm. de obs.: 2725\n"
     ]
    }
   ],
   "source": [
    "results_table = sis.summary_col(results=[reg, reg_robust],\n",
    "                            float_format='%0.4f',\n",
    "                            stars = False,\n",
    "                            model_names=['se_usual',\n",
    "                                         'se_robusto'])\n",
    "\n",
    "results_table.add_title('Exemplo 8.3')\n",
    "results_table.add_text(f'Núm. de obs.: {int(model.nobs)}')\n",
    "print(results_table)"
   ]
  },
  {
   "cell_type": "code",
   "execution_count": 8,
   "metadata": {},
   "outputs": [
    {
     "data": {
      "text/plain": [
       "Intercept            15.725311\n",
       "pcnv                 -3.358825\n",
       "avgsen                1.840039\n",
       "np.square(avgsen)    -1.738336\n",
       "ptime86              -4.527519\n",
       "qemp86               -3.499055\n",
       "inc86                -4.345149\n",
       "black                 7.146872\n",
       "hispan                4.870607\n",
       "dtype: float64"
      ]
     },
     "execution_count": 8,
     "metadata": {},
     "output_type": "execute_result"
    }
   ],
   "source": [
    "# Estatística t usual\n",
    "reg.tvalues"
   ]
  },
  {
   "cell_type": "code",
   "execution_count": 9,
   "metadata": {},
   "outputs": [
    {
     "data": {
      "text/plain": [
       "Intercept            14.101635\n",
       "pcnv                 -4.039638\n",
       "avgsen                1.765289\n",
       "np.square(avgsen)    -2.490154\n",
       "ptime86              -6.334825\n",
       "qemp86               -3.562351\n",
       "inc86                -6.457633\n",
       "black                 5.556660\n",
       "hispan                4.806659\n",
       "dtype: float64"
      ]
     },
     "execution_count": 9,
     "metadata": {},
     "output_type": "execute_result"
    }
   ],
   "source": [
    "# Estatísticas t robusta\n",
    "reg_robust.tvalues"
   ]
  },
  {
   "cell_type": "code",
   "execution_count": null,
   "metadata": {},
   "outputs": [],
   "source": []
  },
  {
   "cell_type": "code",
   "execution_count": null,
   "metadata": {},
   "outputs": [],
   "source": []
  },
  {
   "cell_type": "code",
   "execution_count": null,
   "metadata": {},
   "outputs": [],
   "source": []
  },
  {
   "cell_type": "code",
   "execution_count": 11,
   "metadata": {},
   "outputs": [
    {
     "name": "stdout",
     "output_type": "stream",
     "text": [
      "estatística LM usual: 3.46\n",
      "valor p: 0.18\n"
     ]
    }
   ],
   "source": [
    "'''\n",
    "Estatística LM usual\n",
    "\n",
    "H0: B_avgsen = B_avgsen2 = 0             # avgsen2: avgsen ao quadrado \n",
    "H1: pelo menos um dos parâmetros na hipótese nula é diferente de zero\n",
    "'''\n",
    "# Modelo restrito: sem \"avgsen\" e \"avgsen2\" \n",
    "model_restrito = smf.ols('narr86 ~ pcnv + ptime86 + qemp86 + inc86 + black + hispan', data=df)\n",
    "reg_restrito = model_restrito.fit()\n",
    "\n",
    "lm = reg.compare_lm_test(reg_restrito)   # Note que \"reg\" refere-se ao modelo irrestrito (com todas as variáveis)\n",
    "print(f\"estatística LM usual: {round(lm[0], 2)}\")\n",
    "print(f\"valor p: {round(lm[1], 2)}\")\n"
   ]
  },
  {
   "cell_type": "code",
   "execution_count": null,
   "metadata": {},
   "outputs": [],
   "source": []
  },
  {
   "cell_type": "code",
   "execution_count": 14,
   "metadata": {},
   "outputs": [
    {
     "name": "stdout",
     "output_type": "stream",
     "text": [
      "estatística LM robusta: 4.02\n",
      "valor p: 0.134\n"
     ]
    }
   ],
   "source": [
    "'''\n",
    "Estatística LM robusta em relação à heterocedasticidade\n",
    "\n",
    "H0: B_avgsen = B_avgsen2 = 0             # avgsen2: avgsen ao quadrado \n",
    "H1: pelo menos um dos parâmetros na hipótese nula é diferente de zero\n",
    "'''\n",
    "# Modelo restrito: sem \"avgsen\" e \"avgsen2\" \n",
    "model_restrito = smf.ols('narr86 ~ pcnv + ptime86 + qemp86 + inc86 + black + hispan', data=df)\n",
    "reg_restrito = model_restrito.fit()\n",
    "\n",
    "lm_robusto = reg_robust.compare_lm_test(reg_restrito)\n",
    "print(f\"estatística LM robusta: {round(lm_robusto[0], 3)}\")\n",
    "print(f\"valor p: {round(lm_robusto[1], 3)}\")"
   ]
  },
  {
   "cell_type": "code",
   "execution_count": null,
   "metadata": {},
   "outputs": [],
   "source": []
  },
  {
   "cell_type": "code",
   "execution_count": null,
   "metadata": {},
   "outputs": [],
   "source": []
  },
  {
   "cell_type": "code",
   "execution_count": null,
   "metadata": {},
   "outputs": [],
   "source": []
  },
  {
   "cell_type": "markdown",
   "metadata": {},
   "source": [
    "### Estatística LM robusta em relação à heterocedasticidade\n",
    "Conforme passos estabelecidos no item 8-2a do livro do Wooldrige"
   ]
  },
  {
   "cell_type": "code",
   "execution_count": null,
   "metadata": {},
   "outputs": [],
   "source": [
    "'''\n",
    "Estatística LM robusta em relação à heterocedasticidade\n",
    "\n",
    "H0: B_avgsen = B_avgsen2 = 0             # avgsen2: avgsen ao quadrado \n",
    "H1: pelo menos um dos parâmetros na hipótese nula é diferente de zero\n",
    "'''"
   ]
  },
  {
   "cell_type": "code",
   "execution_count": 13,
   "metadata": {},
   "outputs": [],
   "source": [
    "import scipy.stats"
   ]
  },
  {
   "cell_type": "code",
   "execution_count": 15,
   "metadata": {},
   "outputs": [],
   "source": [
    "# Passo 1\n",
    "model_restrito = smf.ols('narr86 ~ pcnv + ptime86 + qemp86 + inc86 + black + hispan', data=df)\n",
    "reg_restrito = model_restrito.fit()\n",
    "resid_model_restrito = reg_restrito.resid"
   ]
  },
  {
   "cell_type": "code",
   "execution_count": 16,
   "metadata": {},
   "outputs": [],
   "source": [
    "# Passo 2\n",
    "q = 2 # Número de variáveis independentes excluídas no modelo restrito, conforme Hipótese nula (avgsen e np.square(avgsen))\n",
    "\n",
    "modelo_1 = smf.ols('avgsen ~ pcnv + ptime86 + qemp86 + inc86 + black + hispan', data=df)\n",
    "reg_1 = modelo_1.fit()\n",
    "residuos_1 = reg_1.resid \n",
    "\n",
    "modelo_2 = smf.ols('np.square(avgsen) ~ pcnv + ptime86 + qemp86 + inc86 + black + hispan', data=df)\n",
    "reg_2 = modelo_2.fit()\n",
    "residuos_2 = reg_2.resid"
   ]
  },
  {
   "cell_type": "code",
   "execution_count": 17,
   "metadata": {},
   "outputs": [],
   "source": [
    "# Passo 3\n",
    "produto_1 = residuos_1 * resid_model_restrito\n",
    "produto_2 = residuos_2 * resid_model_restrito\n",
    "\n",
    "df_apoio = pd.DataFrame({'produto_1': produto_1, 'produto_2': produto_2}) "
   ]
  },
  {
   "cell_type": "code",
   "execution_count": 18,
   "metadata": {},
   "outputs": [
    {
     "data": {
      "text/plain": [
       "3.9970849092837852"
      ]
     },
     "execution_count": 18,
     "metadata": {},
     "output_type": "execute_result"
    }
   ],
   "source": [
    "# Passo 4\n",
    "modelo_final = smf.ols('1 ~ produto_1 + produto_2 - 1', data=df_apoio)   # - 1: retira o intercepto\n",
    "reg_final = modelo_final.fit()\n",
    "\n",
    "n = reg_final.nobs\n",
    "SQR1 = reg_final.ssr         # Soma dos quadrados dos resíduos\n",
    "\n",
    "estatistica_LM_robusta = n - SQR1\n",
    "estatistica_LM_robusta"
   ]
  },
  {
   "cell_type": "code",
   "execution_count": 19,
   "metadata": {},
   "outputs": [
    {
     "data": {
      "text/plain": [
       "0.13553268437609245"
      ]
     },
     "execution_count": 19,
     "metadata": {},
     "output_type": "execute_result"
    }
   ],
   "source": [
    "valor_p = 1 - scipy.stats.chi2.cdf(estatistica_LM_robusta, df=q) # q é o número de variáveis excluídas conforme Passo 2\n",
    "valor_p"
   ]
  },
  {
   "cell_type": "code",
   "execution_count": null,
   "metadata": {},
   "outputs": [],
   "source": []
  },
  {
   "cell_type": "code",
   "execution_count": null,
   "metadata": {},
   "outputs": [],
   "source": []
  },
  {
   "cell_type": "code",
   "execution_count": null,
   "metadata": {},
   "outputs": [],
   "source": []
  },
  {
   "cell_type": "markdown",
   "metadata": {},
   "source": [
    "### Ponto de reversão de 'avgsen' sobre 'narr86'"
   ]
  },
  {
   "cell_type": "code",
   "execution_count": 20,
   "metadata": {},
   "outputs": [],
   "source": [
    "import sympy as sp"
   ]
  },
  {
   "cell_type": "code",
   "execution_count": 21,
   "metadata": {},
   "outputs": [
    {
     "data": {
      "text/plain": [
       "Intercept            0.567013\n",
       "pcnv                -0.135595\n",
       "avgsen               0.017841\n",
       "np.square(avgsen)   -0.000516\n",
       "ptime86             -0.039360\n",
       "qemp86              -0.050507\n",
       "inc86               -0.001480\n",
       "black                0.324602\n",
       "hispan               0.193380\n",
       "dtype: float64"
      ]
     },
     "execution_count": 21,
     "metadata": {},
     "output_type": "execute_result"
    }
   ],
   "source": [
    "'''\n",
    "Ponto de reversão de 'avgsen' sobre 'narr86' (em que o efeito de 'avgsen' sobre 'narr86' passa de positivo para negativo)\n",
    "Para encontrar o ponto de reversão devemos fazer: \n",
    "(d_narr86 / d_avgsen) = 0\n",
    "Em que (d_narr86 / d_avgsen) é a derivada parcial de narr86 em relação à avgsen \n",
    "Note que o atributo \"params\" nos dá as estimativas de MQO\n",
    "'''\n",
    "reg.params"
   ]
  },
  {
   "cell_type": "code",
   "execution_count": 22,
   "metadata": {},
   "outputs": [
    {
     "data": {
      "text/latex": [
       "$\\displaystyle \\left\\{17.2768618691324\\right\\}$"
      ],
      "text/plain": [
       "{17.2768618691324}"
      ]
     },
     "execution_count": 22,
     "metadata": {},
     "output_type": "execute_result"
    }
   ],
   "source": [
    "# Usamos o Sympy para calcular o ponto de reversão\n",
    "\n",
    "# Definimos as variáveis\n",
    "narr86, pcnv, avgsen, ptime86, qemp86, inc86, black, hispan =\\\n",
    "sp.symbols('narr86 pcnv avgsen ptime86 qemp86 inc86 black hispan')\n",
    "\n",
    "# Definimos \"narr86\" como sendo uma função\n",
    "narr86 = sp.symbols('narr86', cls=sp.Function)\n",
    "\n",
    "# Definimos a função narr86\n",
    "narr86 = reg.params[0] + reg.params[1]*pcnv + reg.params[2]*avgsen + reg.params[3]*np.square(avgsen) +\\\n",
    "reg.params[4]*ptime86 + reg.params[5]*qemp86 + reg.params[6]*inc86 + reg.params[7]*black + reg.params[8]*hispan\n",
    "\n",
    "# Calculamos a expressão da derivada parcial de narr86 em relação à variável avgsen\n",
    "exp = narr86.diff(avgsen)           \n",
    "\n",
    "# Obtemos o ponto de reversão [o valor de 'avgsen' para o qual exp = 0]\n",
    "ponto_reversao = sp.solveset(exp, symbol=avgsen, domain=sp.Reals)\n",
    "ponto_reversao"
   ]
  },
  {
   "cell_type": "code",
   "execution_count": null,
   "metadata": {},
   "outputs": [],
   "source": []
  },
  {
   "cell_type": "code",
   "execution_count": null,
   "metadata": {},
   "outputs": [],
   "source": []
  },
  {
   "cell_type": "code",
   "execution_count": null,
   "metadata": {},
   "outputs": [],
   "source": []
  }
 ],
 "metadata": {
  "kernelspec": {
   "display_name": "Python 3",
   "language": "python",
   "name": "python3"
  },
  "language_info": {
   "codemirror_mode": {
    "name": "ipython",
    "version": 3
   },
   "file_extension": ".py",
   "mimetype": "text/x-python",
   "name": "python",
   "nbconvert_exporter": "python",
   "pygments_lexer": "ipython3",
   "version": "3.7.3"
  }
 },
 "nbformat": 4,
 "nbformat_minor": 2
}
