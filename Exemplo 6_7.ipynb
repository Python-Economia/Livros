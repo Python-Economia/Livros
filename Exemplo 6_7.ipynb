{
 "cells": [
  {
   "cell_type": "code",
   "execution_count": null,
   "metadata": {
    "id": "YikL_TxD9AsP"
   },
   "outputs": [],
   "source": [
    "'''\n",
    "Introdução à Econometria - Uma abordagem moderna (Tradução da 6 edição norte-americana)\n",
    "Autor: WOOLDRIDGE, J. M.\n",
    "Editora: CENGAGE LEARNING\n",
    "\n",
    "Cap. 6: Análise de regressão múltipla: problemas adicionais (Multiple Regression Analysis: Further Issues)\n",
    "Exemplo 6.7: Previsão de salários de diretores-executivos\n",
    "             (PREDICTING CEO SALARIES)\n",
    "             \n",
    "Arquivo com os dados: ceosal2.xls\n",
    "\n",
    "Arquivo com dados em:\n",
    "http://students.cengage.com.br/dashboard/private/livroView.jsf;jsessionid=95E9AD889A4A4B7ABBD2A5251F1E14BE?id=104577\n",
    "\n",
    "Em caso de dúvidas ou problemas, solicitamos, por gentileza, entrar em contato pelo e-mail:\n",
    "python.economia@gmail.com\n",
    "'''"
   ]
  },
  {
   "cell_type": "code",
   "execution_count": 1,
   "metadata": {
    "colab": {
     "base_uri": "https://localhost:8080/"
    },
    "executionInfo": {
     "elapsed": 592,
     "status": "ok",
     "timestamp": 1659042625217,
     "user": {
      "displayName": "Charles Massami",
      "userId": "04969195849510864546"
     },
     "user_tz": 180
    },
    "id": "PwNHiNyO_UdU",
    "outputId": "221719e1-4703-4e41-83bc-2c181214155e"
   },
   "outputs": [],
   "source": [
    "import pandas as pd\n",
    "import numpy as np\n",
    "import statsmodels.formula.api as smf"
   ]
  },
  {
   "cell_type": "code",
   "execution_count": 2,
   "metadata": {
    "id": "w6ncNFEe9i75"
   },
   "outputs": [],
   "source": [
    "# Em decorrência do objetivo deste exemplo 6.7, iremos importar apenas os dados de salary na forma nível e não na forma logaritmica\n",
    "\n",
    "df = pd.read_excel('ceosal2.xls',\n",
    "                   header=None,\n",
    "                   usecols=[0, 5, 10, 11],\n",
    "                   names=['salary', 'ceoten', 'lsales', 'lmktval'])"
   ]
  },
  {
   "cell_type": "code",
   "execution_count": 3,
   "metadata": {
    "id": "UAWSbhKg9i-I"
   },
   "outputs": [
    {
     "data": {
      "text/html": [
       "<div>\n",
       "<style scoped>\n",
       "    .dataframe tbody tr th:only-of-type {\n",
       "        vertical-align: middle;\n",
       "    }\n",
       "\n",
       "    .dataframe tbody tr th {\n",
       "        vertical-align: top;\n",
       "    }\n",
       "\n",
       "    .dataframe thead th {\n",
       "        text-align: right;\n",
       "    }\n",
       "</style>\n",
       "<table border=\"1\" class=\"dataframe\">\n",
       "  <thead>\n",
       "    <tr style=\"text-align: right;\">\n",
       "      <th></th>\n",
       "      <th>salary</th>\n",
       "      <th>ceoten</th>\n",
       "      <th>lsales</th>\n",
       "      <th>lmktval</th>\n",
       "    </tr>\n",
       "  </thead>\n",
       "  <tbody>\n",
       "    <tr>\n",
       "      <th>0</th>\n",
       "      <td>1161</td>\n",
       "      <td>2</td>\n",
       "      <td>8.732305</td>\n",
       "      <td>10.051910</td>\n",
       "    </tr>\n",
       "    <tr>\n",
       "      <th>1</th>\n",
       "      <td>600</td>\n",
       "      <td>10</td>\n",
       "      <td>5.645447</td>\n",
       "      <td>7.003066</td>\n",
       "    </tr>\n",
       "    <tr>\n",
       "      <th>2</th>\n",
       "      <td>379</td>\n",
       "      <td>3</td>\n",
       "      <td>5.129899</td>\n",
       "      <td>7.003066</td>\n",
       "    </tr>\n",
       "    <tr>\n",
       "      <th>3</th>\n",
       "      <td>651</td>\n",
       "      <td>22</td>\n",
       "      <td>7.003066</td>\n",
       "      <td>6.907755</td>\n",
       "    </tr>\n",
       "    <tr>\n",
       "      <th>4</th>\n",
       "      <td>497</td>\n",
       "      <td>6</td>\n",
       "      <td>5.860786</td>\n",
       "      <td>5.958425</td>\n",
       "    </tr>\n",
       "  </tbody>\n",
       "</table>\n",
       "</div>"
      ],
      "text/plain": [
       "   salary  ceoten    lsales    lmktval\n",
       "0    1161       2  8.732305  10.051910\n",
       "1     600      10  5.645447   7.003066\n",
       "2     379       3  5.129899   7.003066\n",
       "3     651      22  7.003066   6.907755\n",
       "4     497       6  5.860786   5.958425"
      ]
     },
     "execution_count": 3,
     "metadata": {},
     "output_type": "execute_result"
    }
   ],
   "source": [
    "df.head()"
   ]
  },
  {
   "cell_type": "code",
   "execution_count": null,
   "metadata": {
    "id": "CUlSK_dO9nXp"
   },
   "outputs": [],
   "source": []
  },
  {
   "cell_type": "code",
   "execution_count": null,
   "metadata": {
    "id": "yoYlFqsJ9nbR"
   },
   "outputs": [],
   "source": []
  },
  {
   "cell_type": "markdown",
   "metadata": {
    "id": "1GQ0iWPs9qgk"
   },
   "source": [
    "### Comandos sugeridos"
   ]
  },
  {
   "cell_type": "markdown",
   "metadata": {
    "id": "3KCmaCGR95U-"
   },
   "source": [
    "#### Regressão por Mínimos Quadrados Ordinários (MQO ou OLS na sigla em inglês)"
   ]
  },
  {
   "cell_type": "code",
   "execution_count": 4,
   "metadata": {
    "colab": {
     "base_uri": "https://localhost:8080/",
     "height": 494
    },
    "executionInfo": {
     "elapsed": 265,
     "status": "ok",
     "timestamp": 1659042920002,
     "user": {
      "displayName": "Charles Massami",
      "userId": "04969195849510864546"
     },
     "user_tz": 180
    },
    "id": "i4hkCk3C9ngh",
    "outputId": "60ce4223-5341-4372-f243-a4d16aad85ee"
   },
   "outputs": [
    {
     "data": {
      "text/html": [
       "<table class=\"simpletable\">\n",
       "<caption>OLS Regression Results</caption>\n",
       "<tr>\n",
       "  <th>Dep. Variable:</th>     <td>np.log(salary)</td>  <th>  R-squared:         </th> <td>   0.318</td>\n",
       "</tr>\n",
       "<tr>\n",
       "  <th>Model:</th>                   <td>OLS</td>       <th>  Adj. R-squared:    </th> <td>   0.306</td>\n",
       "</tr>\n",
       "<tr>\n",
       "  <th>Method:</th>             <td>Least Squares</td>  <th>  F-statistic:       </th> <td>   26.91</td>\n",
       "</tr>\n",
       "<tr>\n",
       "  <th>Date:</th>             <td>Sat, 30 Jul 2022</td> <th>  Prob (F-statistic):</th> <td>2.47e-14</td>\n",
       "</tr>\n",
       "<tr>\n",
       "  <th>Time:</th>                 <td>09:48:43</td>     <th>  Log-Likelihood:    </th> <td> -128.12</td>\n",
       "</tr>\n",
       "<tr>\n",
       "  <th>No. Observations:</th>      <td>   177</td>      <th>  AIC:               </th> <td>   264.2</td>\n",
       "</tr>\n",
       "<tr>\n",
       "  <th>Df Residuals:</th>          <td>   173</td>      <th>  BIC:               </th> <td>   276.9</td>\n",
       "</tr>\n",
       "<tr>\n",
       "  <th>Df Model:</th>              <td>     3</td>      <th>                     </th>     <td> </td>   \n",
       "</tr>\n",
       "<tr>\n",
       "  <th>Covariance Type:</th>      <td>nonrobust</td>    <th>                     </th>     <td> </td>   \n",
       "</tr>\n",
       "</table>\n",
       "<table class=\"simpletable\">\n",
       "<tr>\n",
       "      <td></td>         <th>coef</th>     <th>std err</th>      <th>t</th>      <th>P>|t|</th>  <th>[0.025</th>    <th>0.975]</th>  \n",
       "</tr>\n",
       "<tr>\n",
       "  <th>Intercept</th> <td>    4.5038</td> <td>    0.257</td> <td>   17.509</td> <td> 0.000</td> <td>    3.996</td> <td>    5.012</td>\n",
       "</tr>\n",
       "<tr>\n",
       "  <th>lsales</th>    <td>    0.1629</td> <td>    0.039</td> <td>    4.150</td> <td> 0.000</td> <td>    0.085</td> <td>    0.240</td>\n",
       "</tr>\n",
       "<tr>\n",
       "  <th>lmktval</th>   <td>    0.1092</td> <td>    0.050</td> <td>    2.203</td> <td> 0.029</td> <td>    0.011</td> <td>    0.207</td>\n",
       "</tr>\n",
       "<tr>\n",
       "  <th>ceoten</th>    <td>    0.0117</td> <td>    0.005</td> <td>    2.198</td> <td> 0.029</td> <td>    0.001</td> <td>    0.022</td>\n",
       "</tr>\n",
       "</table>\n",
       "<table class=\"simpletable\">\n",
       "<tr>\n",
       "  <th>Omnibus:</th>       <td>25.596</td> <th>  Durbin-Watson:     </th> <td>   2.044</td>\n",
       "</tr>\n",
       "<tr>\n",
       "  <th>Prob(Omnibus):</th> <td> 0.000</td> <th>  Jarque-Bera (JB):  </th> <td> 123.522</td>\n",
       "</tr>\n",
       "<tr>\n",
       "  <th>Skew:</th>          <td>-0.291</td> <th>  Prob(JB):          </th> <td>1.51e-27</td>\n",
       "</tr>\n",
       "<tr>\n",
       "  <th>Kurtosis:</th>      <td> 7.051</td> <th>  Cond. No.          </th> <td>    95.3</td>\n",
       "</tr>\n",
       "</table><br/><br/>Notes:<br/>[1] Standard Errors assume that the covariance matrix of the errors is correctly specified."
      ],
      "text/plain": [
       "<class 'statsmodels.iolib.summary.Summary'>\n",
       "\"\"\"\n",
       "                            OLS Regression Results                            \n",
       "==============================================================================\n",
       "Dep. Variable:         np.log(salary)   R-squared:                       0.318\n",
       "Model:                            OLS   Adj. R-squared:                  0.306\n",
       "Method:                 Least Squares   F-statistic:                     26.91\n",
       "Date:                Sat, 30 Jul 2022   Prob (F-statistic):           2.47e-14\n",
       "Time:                        09:48:43   Log-Likelihood:                -128.12\n",
       "No. Observations:                 177   AIC:                             264.2\n",
       "Df Residuals:                     173   BIC:                             276.9\n",
       "Df Model:                           3                                         \n",
       "Covariance Type:            nonrobust                                         \n",
       "==============================================================================\n",
       "                 coef    std err          t      P>|t|      [0.025      0.975]\n",
       "------------------------------------------------------------------------------\n",
       "Intercept      4.5038      0.257     17.509      0.000       3.996       5.012\n",
       "lsales         0.1629      0.039      4.150      0.000       0.085       0.240\n",
       "lmktval        0.1092      0.050      2.203      0.029       0.011       0.207\n",
       "ceoten         0.0117      0.005      2.198      0.029       0.001       0.022\n",
       "==============================================================================\n",
       "Omnibus:                       25.596   Durbin-Watson:                   2.044\n",
       "Prob(Omnibus):                  0.000   Jarque-Bera (JB):              123.522\n",
       "Skew:                          -0.291   Prob(JB):                     1.51e-27\n",
       "Kurtosis:                       7.051   Cond. No.                         95.3\n",
       "==============================================================================\n",
       "\n",
       "Notes:\n",
       "[1] Standard Errors assume that the covariance matrix of the errors is correctly specified.\n",
       "\"\"\""
      ]
     },
     "execution_count": 4,
     "metadata": {},
     "output_type": "execute_result"
    }
   ],
   "source": [
    "modelo = smf.ols(formula='np.log(salary) ~ lsales + lmktval + ceoten', data=df)\n",
    "reg = modelo.fit()\n",
    "reg.summary()"
   ]
  },
  {
   "cell_type": "code",
   "execution_count": null,
   "metadata": {
    "id": "bNpey9CzpjhK"
   },
   "outputs": [],
   "source": []
  },
  {
   "cell_type": "code",
   "execution_count": null,
   "metadata": {
    "id": "cCq-LDmDcPSJ"
   },
   "outputs": [],
   "source": []
  },
  {
   "cell_type": "markdown",
   "metadata": {
    "id": "sBLulyFcpk7i"
   },
   "source": [
    "#### Definição de uma função para previsão de y (nível) quando o modelo tem como variável dependente log(y)"
   ]
  },
  {
   "cell_type": "code",
   "execution_count": null,
   "metadata": {
    "id": "llLWbjHodLX8"
   },
   "outputs": [],
   "source": [
    "# Vamos definir uma função para tornar o programa mais simples"
   ]
  },
  {
   "cell_type": "code",
   "execution_count": 5,
   "metadata": {
    "id": "L2IM_opcpjoR"
   },
   "outputs": [],
   "source": [
    "def previsao(endog, exog, regressao, tipo):\n",
    "    '''\n",
    "    Obtém a previsão de y (na forma nível) quando temos um modelo com a variável dependente log(y)\n",
    "    endog: Série do pandas\n",
    "           Série do pandas com os valores observados de y (na forma nível)\n",
    "    exog: dict\n",
    "           Dicionário contendo os valores de interesse das variáveis exógenas para obtenção da previsão de y\n",
    "    regressao: statsmodels.regression.linear_model.RegressionResultsWrapper\n",
    "           Retorno obtido pela aplicação do método fit()\n",
    "    tipo: int\n",
    "          1:'Smearing Estimate'\n",
    "          2:'Regression Estimate'\n",
    "    \n",
    "    returno da funcao: tuple\n",
    "           (estimativa_alpha_zero, previsao_y_nivel)\n",
    "    '''\n",
    "    if tipo == 1:\n",
    "        log_y = np.log(endog)\n",
    "        u_chapeu = log_y - regressao.predict()\n",
    "        exp_u_chapeu = np.exp(u_chapeu)\n",
    "        soma_exp_u_chapeu = exp_u_chapeu.sum()\n",
    "        estimativa_alpha_zero =  soma_exp_u_chapeu / regressao.nobs # [Fórmula 6.43]\n",
    "    if tipo == 2:\n",
    "        valores_ajustados = regressao.predict()\n",
    "        m_chapeu_i = np.exp(valores_ajustados)\n",
    "        modelo_auxiliar = smf.ols(formula=f'{endog.name} ' + '~ - 1 + m_chapeu_i', data=df) # -1 é colocado para retirar o intercepto\n",
    "        reg_auxiliar = modelo_auxiliar.fit()\n",
    "        estimativa_alpha_zero = reg_auxiliar.params[0]         # [Fórmula 6.44]\n",
    "    log_y_chapeu = regressao.predict(exog)\n",
    "    y_chapeu = estimativa_alpha_zero * np.exp(log_y_chapeu)  # [Fórmula 6.42, utilizando (6.43) ou (6.44)]\n",
    "    return (estimativa_alpha_zero, y_chapeu[0])\n"
   ]
  },
  {
   "cell_type": "code",
   "execution_count": null,
   "metadata": {
    "id": "XPIQ2C0Xuak6"
   },
   "outputs": [],
   "source": []
  },
  {
   "cell_type": "code",
   "execution_count": null,
   "metadata": {
    "id": "nkXz1x0yxyov"
   },
   "outputs": [],
   "source": []
  },
  {
   "cell_type": "markdown",
   "metadata": {
    "id": "el_9i7J6R_nm"
   },
   "source": [
    "#### Previsão de salary (nível) utilizando o \"Duan smearing estimate of alpha zero\""
   ]
  },
  {
   "cell_type": "code",
   "execution_count": 6,
   "metadata": {
    "colab": {
     "base_uri": "https://localhost:8080/"
    },
    "executionInfo": {
     "elapsed": 253,
     "status": "ok",
     "timestamp": 1659045370075,
     "user": {
      "displayName": "Charles Massami",
      "userId": "04969195849510864546"
     },
     "user_tz": 180
    },
    "id": "fVwAgtcExzYO",
    "outputId": "fd5c04da-f075-4158-b9de-d2e2eb1596cb"
   },
   "outputs": [
    {
     "data": {
      "text/plain": [
       "(1.135661323998864, 1263.0594799806931)"
      ]
     },
     "execution_count": 6,
     "metadata": {},
     "output_type": "execute_result"
    }
   ],
   "source": [
    "valores_exog = {'lsales': np.log(5000), 'lmktval': np.log(10000), 'ceoten': 10}\n",
    "\n",
    "previsao(endog=df['salary'], exog=valores_exog, regressao=reg, tipo=1)"
   ]
  },
  {
   "cell_type": "code",
   "execution_count": null,
   "metadata": {
    "id": "vm9cRCZuN-D9"
   },
   "outputs": [],
   "source": [
    "# O resultado acima difere do salário previsto no livro (1262,077) em decorrência dos arredondamentos feitos pelo autor do livro"
   ]
  },
  {
   "cell_type": "code",
   "execution_count": null,
   "metadata": {
    "id": "cLUN3GdIxziu"
   },
   "outputs": [],
   "source": []
  },
  {
   "cell_type": "code",
   "execution_count": null,
   "metadata": {
    "id": "TotJ4cwnRn_s"
   },
   "outputs": [],
   "source": []
  },
  {
   "cell_type": "markdown",
   "metadata": {
    "id": "AGsDGDZ7SYVP"
   },
   "source": [
    "#### Previsão de salary (nível) com o Regression estimate of alpha zero"
   ]
  },
  {
   "cell_type": "code",
   "execution_count": 7,
   "metadata": {
    "colab": {
     "base_uri": "https://localhost:8080/"
    },
    "executionInfo": {
     "elapsed": 237,
     "status": "ok",
     "timestamp": 1659045375494,
     "user": {
      "displayName": "Charles Massami",
      "userId": "04969195849510864546"
     },
     "user_tz": 180
    },
    "id": "xaVsSYAQx1AG",
    "outputId": "5eb9b8a5-4cee-43f0-d476-cadfd7c23699"
   },
   "outputs": [
    {
     "data": {
      "text/plain": [
       "(1.1168566404542437, 1242.1452925225549)"
      ]
     },
     "execution_count": 7,
     "metadata": {},
     "output_type": "execute_result"
    }
   ],
   "source": [
    "valores_exog = {'lsales': np.log(5000), 'lmktval': np.log(10000), 'ceoten': 10}\n",
    "\n",
    "previsao(endog=df['salary'], exog=valores_exog, regressao=reg, tipo=2)"
   ]
  },
  {
   "cell_type": "code",
   "execution_count": null,
   "metadata": {
    "id": "hEuBG6sMOW_W"
   },
   "outputs": [],
   "source": [
    "# O resultado acima difere do salário previsto no livro (1240,968) em decorrência dos arredondamentos feitos pelo autor do livro"
   ]
  },
  {
   "cell_type": "code",
   "execution_count": null,
   "metadata": {
    "id": "nGz0hDM0x1Cd"
   },
   "outputs": [],
   "source": []
  },
  {
   "cell_type": "code",
   "execution_count": null,
   "metadata": {
    "id": "FXOJHA6nOXB6"
   },
   "outputs": [],
   "source": []
  },
  {
   "cell_type": "code",
   "execution_count": null,
   "metadata": {
    "id": "dt1eRDi0PB70"
   },
   "outputs": [],
   "source": []
  },
  {
   "cell_type": "code",
   "execution_count": null,
   "metadata": {
    "id": "cWRv6OVYRMyV"
   },
   "outputs": [],
   "source": []
  }
 ],
 "metadata": {
  "colab": {
   "authorship_tag": "ABX9TyMThwq0MjOQBTvU3w/EEfGK",
   "collapsed_sections": [],
   "name": "Exemplo 6_7 (FUNCAO).ipynb",
   "provenance": []
  },
  "kernelspec": {
   "display_name": "Python 3",
   "language": "python",
   "name": "python3"
  },
  "language_info": {
   "codemirror_mode": {
    "name": "ipython",
    "version": 3
   },
   "file_extension": ".py",
   "mimetype": "text/x-python",
   "name": "python",
   "nbconvert_exporter": "python",
   "pygments_lexer": "ipython3",
   "version": "3.7.3"
  }
 },
 "nbformat": 4,
 "nbformat_minor": 1
}
