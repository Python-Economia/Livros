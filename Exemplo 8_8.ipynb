{
 "cells": [
  {
   "cell_type": "code",
   "execution_count": null,
   "metadata": {},
   "outputs": [],
   "source": [
    "'''\n",
    "Introdução à Econometria - Uma abordagem moderna (Tradução da 6 edição norte-americana)\n",
    "Autor: WOOLDRIDGE, J.\n",
    "Editora: CENGAGE LEARNING\n",
    "\n",
    "Cap. 8: Heterocedasticidade (Heteroskedasticity)\n",
    "Exemplo 8.8: Participação de mulheres casadas na força de trabalho\n",
    "             (LABOR FORCE PARTICIPATION OF MARRIED WOMEN)\n",
    "\n",
    "Arquivo com os dados: mroz.xls\n",
    "\n",
    "Arquivo com dados em:\n",
    "http://students.cengage.com.br/dashboard/private/livroView.jsf;jsessionid=95E9AD889A4A4B7ABBD2A5251F1E14BE?id=104577\n",
    "\n",
    "Em caso de dúvidas ou problemas, solicitamos, por gentileza, entrar em contato pelo e-mail:\n",
    "python.economia@gmail.com\n",
    "'''"
   ]
  },
  {
   "cell_type": "code",
   "execution_count": 1,
   "metadata": {},
   "outputs": [],
   "source": [
    "import pandas as pd\n",
    "import statsmodels.formula.api as smf"
   ]
  },
  {
   "cell_type": "code",
   "execution_count": 2,
   "metadata": {},
   "outputs": [],
   "source": [
    "df = pd.read_excel('mroz.xls',\n",
    "                   header=None,\n",
    "                   usecols=[0, 2, 3, 4, 5, 18, 19, 21],\n",
    "                   names=['inlf', 'kidslt6', 'kidsge6', 'age', 'educ', 'exper', 'nwifeinc', 'expersq'])"
   ]
  },
  {
   "cell_type": "code",
   "execution_count": 3,
   "metadata": {},
   "outputs": [
    {
     "data": {
      "text/html": [
       "<div>\n",
       "<style scoped>\n",
       "    .dataframe tbody tr th:only-of-type {\n",
       "        vertical-align: middle;\n",
       "    }\n",
       "\n",
       "    .dataframe tbody tr th {\n",
       "        vertical-align: top;\n",
       "    }\n",
       "\n",
       "    .dataframe thead th {\n",
       "        text-align: right;\n",
       "    }\n",
       "</style>\n",
       "<table border=\"1\" class=\"dataframe\">\n",
       "  <thead>\n",
       "    <tr style=\"text-align: right;\">\n",
       "      <th></th>\n",
       "      <th>inlf</th>\n",
       "      <th>kidslt6</th>\n",
       "      <th>kidsge6</th>\n",
       "      <th>age</th>\n",
       "      <th>educ</th>\n",
       "      <th>exper</th>\n",
       "      <th>nwifeinc</th>\n",
       "      <th>expersq</th>\n",
       "    </tr>\n",
       "  </thead>\n",
       "  <tbody>\n",
       "    <tr>\n",
       "      <th>0</th>\n",
       "      <td>1</td>\n",
       "      <td>1</td>\n",
       "      <td>0</td>\n",
       "      <td>32</td>\n",
       "      <td>12</td>\n",
       "      <td>14</td>\n",
       "      <td>10.910060</td>\n",
       "      <td>196</td>\n",
       "    </tr>\n",
       "    <tr>\n",
       "      <th>1</th>\n",
       "      <td>1</td>\n",
       "      <td>0</td>\n",
       "      <td>2</td>\n",
       "      <td>30</td>\n",
       "      <td>12</td>\n",
       "      <td>5</td>\n",
       "      <td>19.499980</td>\n",
       "      <td>25</td>\n",
       "    </tr>\n",
       "    <tr>\n",
       "      <th>2</th>\n",
       "      <td>1</td>\n",
       "      <td>1</td>\n",
       "      <td>3</td>\n",
       "      <td>35</td>\n",
       "      <td>12</td>\n",
       "      <td>15</td>\n",
       "      <td>12.039910</td>\n",
       "      <td>225</td>\n",
       "    </tr>\n",
       "    <tr>\n",
       "      <th>3</th>\n",
       "      <td>1</td>\n",
       "      <td>0</td>\n",
       "      <td>3</td>\n",
       "      <td>34</td>\n",
       "      <td>12</td>\n",
       "      <td>6</td>\n",
       "      <td>6.799996</td>\n",
       "      <td>36</td>\n",
       "    </tr>\n",
       "    <tr>\n",
       "      <th>4</th>\n",
       "      <td>1</td>\n",
       "      <td>1</td>\n",
       "      <td>2</td>\n",
       "      <td>31</td>\n",
       "      <td>14</td>\n",
       "      <td>7</td>\n",
       "      <td>20.100060</td>\n",
       "      <td>49</td>\n",
       "    </tr>\n",
       "  </tbody>\n",
       "</table>\n",
       "</div>"
      ],
      "text/plain": [
       "   inlf  kidslt6  kidsge6  age  educ  exper   nwifeinc  expersq\n",
       "0     1        1        0   32    12     14  10.910060      196\n",
       "1     1        0        2   30    12      5  19.499980       25\n",
       "2     1        1        3   35    12     15  12.039910      225\n",
       "3     1        0        3   34    12      6   6.799996       36\n",
       "4     1        1        2   31    14      7  20.100060       49"
      ]
     },
     "execution_count": 3,
     "metadata": {},
     "output_type": "execute_result"
    }
   ],
   "source": [
    "df.head()"
   ]
  },
  {
   "cell_type": "code",
   "execution_count": null,
   "metadata": {},
   "outputs": [],
   "source": []
  },
  {
   "cell_type": "code",
   "execution_count": null,
   "metadata": {},
   "outputs": [],
   "source": []
  },
  {
   "cell_type": "markdown",
   "metadata": {},
   "source": [
    "### Solução sugerida"
   ]
  },
  {
   "cell_type": "code",
   "execution_count": null,
   "metadata": {},
   "outputs": [],
   "source": [
    "'''\n",
    "Procedimento para estimar o Modelo de Probabilidade Linear por MQGF (MQGF pois usamos h_chapeu)\n",
    "Segue o item do livro: Estimando o modelo de probabilidade linear por mínimos quadrados ponderados\n",
    "'''"
   ]
  },
  {
   "cell_type": "code",
   "execution_count": 4,
   "metadata": {},
   "outputs": [],
   "source": [
    "# Passo 1: Estime o modelo por MQO e obtenha os valores estimados y_chapeu\n",
    "modelo_passo_1 = smf.ols('inlf ~ nwifeinc + educ + exper + expersq + age + kidslt6 + kidsge6', data=df)\n",
    "reg_passo_1 = modelo_passo_1.fit()\n",
    "y_chapeu = reg_passo_1.fittedvalues   "
   ]
  },
  {
   "cell_type": "code",
   "execution_count": 5,
   "metadata": {},
   "outputs": [
    {
     "name": "stdout",
     "output_type": "stream",
     "text": [
      "Há valores em y_chapeu fora do intervalo aberto ]0, 1[.    \n",
      "Estime o modelo por MQO com as estatísticas robustas em relação à heterocedasticidade.\n"
     ]
    }
   ],
   "source": [
    "'''\n",
    "Passo 2: Se todos os valores estimados (valores em y_chapeu) estiverem no intervalo aberto ]0, 1[, prossiga para o Passo 3.\n",
    "         Se houver algum valor de y_chapeu fora do intervalo aberto ]0, 1[, abandone MQGF e estime o modelo por MQO\n",
    "         utilizando as estatísticas robustas em relação à heterocedasticidade.\n",
    "'''\n",
    "\n",
    "teste = y_chapeu.between(0, 1, inclusive='neither')\n",
    "if teste.sum() == teste.size:\n",
    "    print('Todos os valores estimados estão no intervalo aberto ]0, 1[.\\nProssiga para o passo 3')\n",
    "else:\n",
    "    print('Há valores em y_chapeu fora do intervalo aberto ]0, 1[.\\\n",
    "    \\nEstime o modelo por MQO com as estatísticas robustas em relação à heterocedasticidade.')"
   ]
  },
  {
   "cell_type": "code",
   "execution_count": null,
   "metadata": {},
   "outputs": [],
   "source": [
    "'''\n",
    "Passo 3: Construa as variâncias estimadas na equação (8.47): \n",
    "         h_chapeu = y_chapeu * (1 - y_chapeu)\n",
    "\n",
    "Não implementado pois no Passo 2 verificou-se que há valores em y_chapeu fora do intervalo aberto ]0, 1[\n",
    "Para implementação, ver exemplo 8.9.\n",
    "'''"
   ]
  },
  {
   "cell_type": "code",
   "execution_count": null,
   "metadata": {},
   "outputs": [],
   "source": [
    "'''\n",
    "Passo 4: Estime a equação do passo 1 por MQP usando peso = 1 / h_chapeu\n",
    "Não implementado pois no Passo 2 verificou-se que há valores em y_chapeu fora do intervalo aberto ]0, 1[\n",
    "Para implementação, ver exemplo 8.9.\n",
    "'''"
   ]
  },
  {
   "cell_type": "code",
   "execution_count": null,
   "metadata": {},
   "outputs": [],
   "source": []
  },
  {
   "cell_type": "code",
   "execution_count": null,
   "metadata": {},
   "outputs": [],
   "source": [
    "# Pela conclusão do Passo 2, vamos estimar o modelo por MQO com os procedimentos robustos em relação à heterocedasticidade.\n",
    "# Os erros padrão não robustos são colocados na tabela para comparação, seguindo o exemplo do livro."
   ]
  },
  {
   "cell_type": "code",
   "execution_count": 6,
   "metadata": {},
   "outputs": [],
   "source": [
    "modelo = smf.ols('inlf ~ nwifeinc + educ + exper + expersq + age + kidslt6 + kidsge6', data=df)\n",
    "reg = modelo.fit()"
   ]
  },
  {
   "cell_type": "code",
   "execution_count": 7,
   "metadata": {},
   "outputs": [
    {
     "name": "stdout",
     "output_type": "stream",
     "text": [
      "Exemplo 8.8 [Variável dependente: inlf]\n",
      "\n",
      "           estimativas MQO  nonrobust SE  robust SE\n",
      "Intercept            0.586         0.154      0.151\n",
      "nwifeinc            -0.003         0.001      0.002\n",
      "educ                 0.038         0.007      0.007\n",
      "exper                0.039         0.006      0.006\n",
      "expersq             -0.001         0.000      0.000\n",
      "age                 -0.016         0.002      0.002\n",
      "kidslt6             -0.262         0.034      0.032\n",
      "kidsge6              0.013         0.013      0.013\n",
      "\n",
      "Observações: 753\n",
      "R-quadrado: 0.264\n"
     ]
    }
   ],
   "source": [
    "tabela = pd.DataFrame({'estimativas MQO': round(reg.params, 3), \n",
    "                       'nonrobust SE': round(reg.bse, 3), \n",
    "                       'robust SE': round(reg.HC0_se, 3)})\n",
    "print('Exemplo 8.8 [Variável dependente: inlf]\\n')\n",
    "print(tabela)\n",
    "print(f'\\nObservações: {int(reg.nobs)}')\n",
    "print(f'R-quadrado: {round(reg.rsquared, 3)}')"
   ]
  },
  {
   "cell_type": "code",
   "execution_count": null,
   "metadata": {},
   "outputs": [],
   "source": []
  },
  {
   "cell_type": "code",
   "execution_count": null,
   "metadata": {},
   "outputs": [],
   "source": []
  },
  {
   "cell_type": "code",
   "execution_count": null,
   "metadata": {},
   "outputs": [],
   "source": []
  },
  {
   "cell_type": "markdown",
   "metadata": {},
   "source": [
    "### Comandos comentados (Relacionados ao Passo 2)"
   ]
  },
  {
   "cell_type": "code",
   "execution_count": 10,
   "metadata": {},
   "outputs": [
    {
     "data": {
      "text/plain": [
       "0   -0.1\n",
       "1    0.0\n",
       "2    0.5\n",
       "3    1.0\n",
       "4    1.1\n",
       "dtype: float64"
      ]
     },
     "execution_count": 10,
     "metadata": {},
     "output_type": "execute_result"
    }
   ],
   "source": [
    "# Cria uma série do pandas (apenas para ilustração)\n",
    "serie = pd.Series([-0.1, 0, 0.5, 1, 1.1])\n",
    "serie"
   ]
  },
  {
   "cell_type": "code",
   "execution_count": 9,
   "metadata": {},
   "outputs": [
    {
     "data": {
      "text/plain": [
       "0    False\n",
       "1    False\n",
       "2     True\n",
       "3    False\n",
       "4    False\n",
       "dtype: bool"
      ]
     },
     "execution_count": 9,
     "metadata": {},
     "output_type": "execute_result"
    }
   ],
   "source": [
    "# Abaixo, o método \"between()\" verifica se os valores da variável \"serie\" estão no intervalo entre 0 e 1.\n",
    "# inclusive = 'neither' determina que o intervalo entre 0 e 1 é um intervalo aberto (não inclui os extremos 0 e 1)\n",
    "# Note que, dos valores constantes na variável \"serie\", apenas 0.5 está no intervalo aberto ]0, 1[.\n",
    "\n",
    "teste = serie.between(0, 1, inclusive='neither')\n",
    "teste"
   ]
  },
  {
   "cell_type": "code",
   "execution_count": 11,
   "metadata": {},
   "outputs": [
    {
     "data": {
      "text/plain": [
       "1"
      ]
     },
     "execution_count": 11,
     "metadata": {},
     "output_type": "execute_result"
    }
   ],
   "source": [
    "# Em uma Série do pandas com valores booleanos, o método \"sum()\"\" faz a soma o número de valores True\n",
    "teste.sum() "
   ]
  },
  {
   "cell_type": "code",
   "execution_count": 12,
   "metadata": {},
   "outputs": [
    {
     "data": {
      "text/plain": [
       "5"
      ]
     },
     "execution_count": 12,
     "metadata": {},
     "output_type": "execute_result"
    }
   ],
   "source": [
    "# O atributo size retorna o número de elementos\n",
    "teste.size"
   ]
  },
  {
   "cell_type": "code",
   "execution_count": 13,
   "metadata": {},
   "outputs": [
    {
     "data": {
      "text/plain": [
       "False"
      ]
     },
     "execution_count": 13,
     "metadata": {},
     "output_type": "execute_result"
    }
   ],
   "source": [
    "# verifica se o número de elementos True é igual ao número de elementos em \"teste\" (se há algum False na variável \"teste\")\n",
    "# Se todos os elementos da variável \"teste\" for True, devemos ter True como resultado do teste abaixo.\n",
    "teste.sum() == teste.size"
   ]
  },
  {
   "cell_type": "code",
   "execution_count": null,
   "metadata": {},
   "outputs": [],
   "source": []
  },
  {
   "cell_type": "code",
   "execution_count": null,
   "metadata": {},
   "outputs": [],
   "source": []
  }
 ],
 "metadata": {
  "kernelspec": {
   "display_name": "Python 3",
   "language": "python",
   "name": "python3"
  },
  "language_info": {
   "codemirror_mode": {
    "name": "ipython",
    "version": 3
   },
   "file_extension": ".py",
   "mimetype": "text/x-python",
   "name": "python",
   "nbconvert_exporter": "python",
   "pygments_lexer": "ipython3",
   "version": "3.7.3"
  }
 },
 "nbformat": 4,
 "nbformat_minor": 2
}
