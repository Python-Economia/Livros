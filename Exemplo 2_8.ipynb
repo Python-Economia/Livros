{
 "cells": [
  {
   "cell_type": "code",
   "execution_count": null,
   "metadata": {
    "id": "USWqgpJsL50e"
   },
   "outputs": [],
   "source": [
    "'''\n",
    "Introdução à Econometria - Uma abordagem moderna (Tradução da 6 edição norte-americana)\n",
    "Autor: WOOLDRIDGE, J. M.\n",
    "Editora: CENGAGE LEARNING\n",
    "\n",
    "Cap. 2: Modelo de regressão simples (The Simple Regression Model)\n",
    "Exemplo 2.8: Salário de CEOs e retornos sobre o patrimônio líquido\n",
    "             (CEO SALARY AND RETURN ON EQUITY)\n",
    "             \n",
    "Arquivo com os dados: ceosal1.xls\n",
    "\n",
    "Arquivo com dados em:\n",
    "http://students.cengage.com.br/dashboard/private/livroView.jsf;jsessionid=95E9AD889A4A4B7ABBD2A5251F1E14BE?id=104577\n",
    "\n",
    "Em caso de dúvidas ou problemas, solicitamos, por gentileza, entrar em contato pelo e-mail:\n",
    "python.economia@gmail.com\n",
    "'''"
   ]
  },
  {
   "cell_type": "code",
   "execution_count": 1,
   "metadata": {
    "colab": {
     "base_uri": "https://localhost:8080/"
    },
    "executionInfo": {
     "elapsed": 1453,
     "status": "ok",
     "timestamp": 1658777296026,
     "user": {
      "displayName": "Charles Massami",
      "userId": "04969195849510864546"
     },
     "user_tz": 180
    },
    "id": "U16EbHJRNH5a",
    "outputId": "7fffcaae-e110-4b2e-d095-95ab9dd94e5a"
   },
   "outputs": [],
   "source": [
    "import pandas as pd\n",
    "import statsmodels.formula.api as smf"
   ]
  },
  {
   "cell_type": "code",
   "execution_count": 2,
   "metadata": {
    "executionInfo": {
     "elapsed": 941,
     "status": "ok",
     "timestamp": 1658777300086,
     "user": {
      "displayName": "Charles Massami",
      "userId": "04969195849510864546"
     },
     "user_tz": 180
    },
    "id": "48m7ru52NLpx"
   },
   "outputs": [],
   "source": [
    "df = pd.read_excel('ceosal1.xls',\n",
    "                   header=None,\n",
    "                   usecols=[0, 3],\n",
    "                   names=['salary', 'roe'])"
   ]
  },
  {
   "cell_type": "code",
   "execution_count": 3,
   "metadata": {
    "colab": {
     "base_uri": "https://localhost:8080/",
     "height": 206
    },
    "executionInfo": {
     "elapsed": 5,
     "status": "ok",
     "timestamp": 1658777303219,
     "user": {
      "displayName": "Charles Massami",
      "userId": "04969195849510864546"
     },
     "user_tz": 180
    },
    "id": "C4DdHGPFNNzx",
    "outputId": "6cb28acf-ca62-4486-ac00-1f6f840bc588"
   },
   "outputs": [
    {
     "data": {
      "text/html": [
       "<div>\n",
       "<style scoped>\n",
       "    .dataframe tbody tr th:only-of-type {\n",
       "        vertical-align: middle;\n",
       "    }\n",
       "\n",
       "    .dataframe tbody tr th {\n",
       "        vertical-align: top;\n",
       "    }\n",
       "\n",
       "    .dataframe thead th {\n",
       "        text-align: right;\n",
       "    }\n",
       "</style>\n",
       "<table border=\"1\" class=\"dataframe\">\n",
       "  <thead>\n",
       "    <tr style=\"text-align: right;\">\n",
       "      <th></th>\n",
       "      <th>salary</th>\n",
       "      <th>roe</th>\n",
       "    </tr>\n",
       "  </thead>\n",
       "  <tbody>\n",
       "    <tr>\n",
       "      <th>0</th>\n",
       "      <td>1095</td>\n",
       "      <td>14.1</td>\n",
       "    </tr>\n",
       "    <tr>\n",
       "      <th>1</th>\n",
       "      <td>1001</td>\n",
       "      <td>10.9</td>\n",
       "    </tr>\n",
       "    <tr>\n",
       "      <th>2</th>\n",
       "      <td>1122</td>\n",
       "      <td>23.5</td>\n",
       "    </tr>\n",
       "    <tr>\n",
       "      <th>3</th>\n",
       "      <td>578</td>\n",
       "      <td>5.9</td>\n",
       "    </tr>\n",
       "    <tr>\n",
       "      <th>4</th>\n",
       "      <td>1368</td>\n",
       "      <td>13.8</td>\n",
       "    </tr>\n",
       "  </tbody>\n",
       "</table>\n",
       "</div>"
      ],
      "text/plain": [
       "   salary   roe\n",
       "0    1095  14.1\n",
       "1    1001  10.9\n",
       "2    1122  23.5\n",
       "3     578   5.9\n",
       "4    1368  13.8"
      ]
     },
     "execution_count": 3,
     "metadata": {},
     "output_type": "execute_result"
    }
   ],
   "source": [
    "df.head()"
   ]
  },
  {
   "cell_type": "code",
   "execution_count": null,
   "metadata": {
    "id": "ZfOm-cUkNN2o"
   },
   "outputs": [],
   "source": []
  },
  {
   "cell_type": "code",
   "execution_count": null,
   "metadata": {
    "id": "33LiXz45NN7p"
   },
   "outputs": [],
   "source": []
  },
  {
   "cell_type": "markdown",
   "metadata": {
    "id": "zs9YwgMeNSGD"
   },
   "source": [
    "#### Comando sugeridos"
   ]
  },
  {
   "cell_type": "markdown",
   "metadata": {
    "id": "14pL_DnbNegj"
   },
   "source": [
    "#### Regressão por Mínimos Quadrados Ordinários (MQO ou OLS na sigla em inglês)"
   ]
  },
  {
   "cell_type": "code",
   "execution_count": 4,
   "metadata": {
    "colab": {
     "base_uri": "https://localhost:8080/",
     "height": 452
    },
    "executionInfo": {
     "elapsed": 702,
     "status": "ok",
     "timestamp": 1658777312787,
     "user": {
      "displayName": "Charles Massami",
      "userId": "04969195849510864546"
     },
     "user_tz": 180
    },
    "id": "5p4G_O0jNO45",
    "outputId": "83bdeaf6-8fcc-4dfd-b5cf-b735ae4a7a73"
   },
   "outputs": [],
   "source": [
    "modelo = smf.ols(formula='salary ~ roe', data=df)\n",
    "reg = modelo.fit()"
   ]
  },
  {
   "cell_type": "code",
   "execution_count": 5,
   "metadata": {
    "id": "YoSfvj4EYSyX"
   },
   "outputs": [
    {
     "name": "stdout",
     "output_type": "stream",
     "text": [
      "Variável dependente: salary\n",
      "\n",
      "Intercept    963.191\n",
      "roe           18.501\n",
      "dtype: float64\n",
      "\n",
      "n = 209, R2 = 0.0132\n"
     ]
    }
   ],
   "source": [
    "n_observacoes = int(reg.nobs)\n",
    "r_quadrado = round(reg.rsquared, 4)\n",
    "\n",
    "print('Variável dependente: salary\\n')\n",
    "print(round(reg.params, 3))\n",
    "print(f'\\nn = {n_observacoes}, R2 = {r_quadrado}')"
   ]
  },
  {
   "cell_type": "code",
   "execution_count": null,
   "metadata": {},
   "outputs": [],
   "source": [
    "'''\n",
    "Reta de regressão de MQO (2.39)                 ou função de regressão amostral\n",
    "\n",
    "salary_chapeu = 963.191 + 18.501 * roe\n",
    "'''"
   ]
  },
  {
   "cell_type": "code",
   "execution_count": null,
   "metadata": {},
   "outputs": [],
   "source": []
  },
  {
   "cell_type": "code",
   "execution_count": 6,
   "metadata": {
    "colab": {
     "base_uri": "https://localhost:8080/"
    },
    "executionInfo": {
     "elapsed": 377,
     "status": "ok",
     "timestamp": 1658777321538,
     "user": {
      "displayName": "Charles Massami",
      "userId": "04969195849510864546"
     },
     "user_tz": 180
    },
    "id": "P_JmWd6KQko6",
    "outputId": "b8fe7f5a-0b56-4fd8-f8a0-409a33067cb4"
   },
   "outputs": [
    {
     "data": {
      "text/plain": [
       "0.0131886248141444"
      ]
     },
     "execution_count": 6,
     "metadata": {},
     "output_type": "execute_result"
    }
   ],
   "source": [
    "# Obtemos o R-quadrado (já apresentado acima) com o atributo \"rsquared\"\n",
    "reg.rsquared"
   ]
  },
  {
   "cell_type": "code",
   "execution_count": 7,
   "metadata": {
    "colab": {
     "base_uri": "https://localhost:8080/"
    },
    "executionInfo": {
     "elapsed": 405,
     "status": "ok",
     "timestamp": 1658777410193,
     "user": {
      "displayName": "Charles Massami",
      "userId": "04969195849510864546"
     },
     "user_tz": 180
    },
    "id": "2sXGeS4vnhCg",
    "outputId": "f722d5ae-755c-4b16-edf3-7393d62686f9"
   },
   "outputs": [
    {
     "data": {
      "text/plain": [
       "0.0132"
      ]
     },
     "execution_count": 7,
     "metadata": {},
     "output_type": "execute_result"
    }
   ],
   "source": [
    "# Podemos arredondar o R-quadrado para quatro casas decimais com a função round()\n",
    "round(reg.rsquared, 4)"
   ]
  },
  {
   "cell_type": "code",
   "execution_count": null,
   "metadata": {
    "id": "Sj7v9fQJni18"
   },
   "outputs": [],
   "source": []
  },
  {
   "cell_type": "code",
   "execution_count": null,
   "metadata": {
    "id": "Bqp0fxBvni9E"
   },
   "outputs": [],
   "source": []
  }
 ],
 "metadata": {
  "colab": {
   "authorship_tag": "ABX9TyP5xrjEL+dulzEhwPbc1wVE",
   "collapsed_sections": [],
   "name": "2_8.ipynb",
   "provenance": []
  },
  "kernelspec": {
   "display_name": "Python 3",
   "language": "python",
   "name": "python3"
  },
  "language_info": {
   "codemirror_mode": {
    "name": "ipython",
    "version": 3
   },
   "file_extension": ".py",
   "mimetype": "text/x-python",
   "name": "python",
   "nbconvert_exporter": "python",
   "pygments_lexer": "ipython3",
   "version": "3.7.3"
  }
 },
 "nbformat": 4,
 "nbformat_minor": 1
}
