{
 "cells": [
  {
   "cell_type": "code",
   "execution_count": null,
   "metadata": {},
   "outputs": [],
   "source": [
    "'''\n",
    "Introdução à Econometria - Uma abordagem moderna (Tradução da 6 edição norte-americana)\n",
    "Autor: WOOLDRIDGE, J. M.\n",
    "Editora: CENGAGE LEARNING\n",
    "\n",
    "Cap. 6: Análise de regressão múltipla: problemas adicionais (Multiple Regression Analysis: Further Issues)\n",
    "Tabela 6.1: Efeitos da dimensão dos dados\n",
    "             (EFFECTS OF Data Scaling)\n",
    "             \n",
    "Arquivo com os dados: bwght.xls\n",
    "\n",
    "Arquivo com dados em:\n",
    "http://students.cengage.com.br/dashboard/private/livroView.jsf;jsessionid=95E9AD889A4A4B7ABBD2A5251F1E14BE?id=104577\n",
    "\n",
    "Em caso de dúvidas ou problemas, solicitamos, por gentileza, entrar em contato pelo e-mail:\n",
    "python.economia@gmail.com\n",
    "'''"
   ]
  },
  {
   "cell_type": "code",
   "execution_count": 1,
   "metadata": {},
   "outputs": [],
   "source": [
    "import pandas as pd\n",
    "import numpy as np\n",
    "import statsmodels.formula.api as smf\n",
    "import statsmodels.iolib.summary2 as sis"
   ]
  },
  {
   "cell_type": "code",
   "execution_count": 2,
   "metadata": {},
   "outputs": [],
   "source": [
    "df = pd.read_excel('bwght.xls',\n",
    "                   header=None,\n",
    "                   usecols=[0, 3, 9],\n",
    "                   names=['faminc', 'bwght', 'cigs'])"
   ]
  },
  {
   "cell_type": "code",
   "execution_count": 3,
   "metadata": {},
   "outputs": [
    {
     "data": {
      "text/html": [
       "<div>\n",
       "<style scoped>\n",
       "    .dataframe tbody tr th:only-of-type {\n",
       "        vertical-align: middle;\n",
       "    }\n",
       "\n",
       "    .dataframe tbody tr th {\n",
       "        vertical-align: top;\n",
       "    }\n",
       "\n",
       "    .dataframe thead th {\n",
       "        text-align: right;\n",
       "    }\n",
       "</style>\n",
       "<table border=\"1\" class=\"dataframe\">\n",
       "  <thead>\n",
       "    <tr style=\"text-align: right;\">\n",
       "      <th></th>\n",
       "      <th>faminc</th>\n",
       "      <th>bwght</th>\n",
       "      <th>cigs</th>\n",
       "    </tr>\n",
       "  </thead>\n",
       "  <tbody>\n",
       "    <tr>\n",
       "      <th>0</th>\n",
       "      <td>13.5</td>\n",
       "      <td>109</td>\n",
       "      <td>0</td>\n",
       "    </tr>\n",
       "    <tr>\n",
       "      <th>1</th>\n",
       "      <td>7.5</td>\n",
       "      <td>133</td>\n",
       "      <td>0</td>\n",
       "    </tr>\n",
       "    <tr>\n",
       "      <th>2</th>\n",
       "      <td>0.5</td>\n",
       "      <td>129</td>\n",
       "      <td>0</td>\n",
       "    </tr>\n",
       "    <tr>\n",
       "      <th>3</th>\n",
       "      <td>15.5</td>\n",
       "      <td>126</td>\n",
       "      <td>0</td>\n",
       "    </tr>\n",
       "    <tr>\n",
       "      <th>4</th>\n",
       "      <td>27.5</td>\n",
       "      <td>134</td>\n",
       "      <td>0</td>\n",
       "    </tr>\n",
       "  </tbody>\n",
       "</table>\n",
       "</div>"
      ],
      "text/plain": [
       "   faminc  bwght  cigs\n",
       "0    13.5    109     0\n",
       "1     7.5    133     0\n",
       "2     0.5    129     0\n",
       "3    15.5    126     0\n",
       "4    27.5    134     0"
      ]
     },
     "execution_count": 3,
     "metadata": {},
     "output_type": "execute_result"
    }
   ],
   "source": [
    "df.head()"
   ]
  },
  {
   "cell_type": "code",
   "execution_count": 4,
   "metadata": {},
   "outputs": [],
   "source": [
    "df['bwghtlbs'] = df['bwght'] / 16   # bwght: peso dos recém-nascidos em onças; bwghtlbs: peso em libras\n",
    "df['packs'] = df['cigs'] / 20  # cigs: núm. médio de cigarros que a mãe fumou por dia na gravidez; 1 pack contém 20 gicarros"
   ]
  },
  {
   "cell_type": "code",
   "execution_count": 5,
   "metadata": {},
   "outputs": [
    {
     "data": {
      "text/html": [
       "<div>\n",
       "<style scoped>\n",
       "    .dataframe tbody tr th:only-of-type {\n",
       "        vertical-align: middle;\n",
       "    }\n",
       "\n",
       "    .dataframe tbody tr th {\n",
       "        vertical-align: top;\n",
       "    }\n",
       "\n",
       "    .dataframe thead th {\n",
       "        text-align: right;\n",
       "    }\n",
       "</style>\n",
       "<table border=\"1\" class=\"dataframe\">\n",
       "  <thead>\n",
       "    <tr style=\"text-align: right;\">\n",
       "      <th></th>\n",
       "      <th>faminc</th>\n",
       "      <th>bwght</th>\n",
       "      <th>cigs</th>\n",
       "      <th>bwghtlbs</th>\n",
       "      <th>packs</th>\n",
       "    </tr>\n",
       "  </thead>\n",
       "  <tbody>\n",
       "    <tr>\n",
       "      <th>0</th>\n",
       "      <td>13.5</td>\n",
       "      <td>109</td>\n",
       "      <td>0</td>\n",
       "      <td>6.8125</td>\n",
       "      <td>0.0</td>\n",
       "    </tr>\n",
       "    <tr>\n",
       "      <th>1</th>\n",
       "      <td>7.5</td>\n",
       "      <td>133</td>\n",
       "      <td>0</td>\n",
       "      <td>8.3125</td>\n",
       "      <td>0.0</td>\n",
       "    </tr>\n",
       "    <tr>\n",
       "      <th>2</th>\n",
       "      <td>0.5</td>\n",
       "      <td>129</td>\n",
       "      <td>0</td>\n",
       "      <td>8.0625</td>\n",
       "      <td>0.0</td>\n",
       "    </tr>\n",
       "    <tr>\n",
       "      <th>3</th>\n",
       "      <td>15.5</td>\n",
       "      <td>126</td>\n",
       "      <td>0</td>\n",
       "      <td>7.8750</td>\n",
       "      <td>0.0</td>\n",
       "    </tr>\n",
       "    <tr>\n",
       "      <th>4</th>\n",
       "      <td>27.5</td>\n",
       "      <td>134</td>\n",
       "      <td>0</td>\n",
       "      <td>8.3750</td>\n",
       "      <td>0.0</td>\n",
       "    </tr>\n",
       "  </tbody>\n",
       "</table>\n",
       "</div>"
      ],
      "text/plain": [
       "   faminc  bwght  cigs  bwghtlbs  packs\n",
       "0    13.5    109     0    6.8125    0.0\n",
       "1     7.5    133     0    8.3125    0.0\n",
       "2     0.5    129     0    8.0625    0.0\n",
       "3    15.5    126     0    7.8750    0.0\n",
       "4    27.5    134     0    8.3750    0.0"
      ]
     },
     "execution_count": 5,
     "metadata": {},
     "output_type": "execute_result"
    }
   ],
   "source": [
    "df.head()"
   ]
  },
  {
   "cell_type": "code",
   "execution_count": null,
   "metadata": {},
   "outputs": [],
   "source": []
  },
  {
   "cell_type": "code",
   "execution_count": null,
   "metadata": {},
   "outputs": [],
   "source": []
  },
  {
   "cell_type": "markdown",
   "metadata": {},
   "source": [
    "### Comandos sugeridos"
   ]
  },
  {
   "cell_type": "code",
   "execution_count": 6,
   "metadata": {},
   "outputs": [],
   "source": [
    "# Regressão pelo Método de Mínimos Quadrados Ordinários (MQO ou OLS na sigla em inglês)\n",
    "modelo_1 = smf.ols(formula='bwght ~ cigs + faminc', data=df)\n",
    "reg_1 = modelo_1.fit()\n",
    "\n",
    "modelo_2 = smf.ols(formula='bwghtlbs ~ cigs + faminc', data=df)\n",
    "reg_2 = modelo_2.fit()\n",
    "\n",
    "modelo_3 = smf.ols(formula='bwght ~ packs + faminc', data=df)\n",
    "reg_3 = modelo_3.fit()"
   ]
  },
  {
   "cell_type": "code",
   "execution_count": 7,
   "metadata": {},
   "outputs": [
    {
     "name": "stdout",
     "output_type": "stream",
     "text": [
      "   Tabela 6.1 Efeitos da dimensão dos dados\n",
      "===============================================\n",
      "               (1) bwght (2) bwghtlbs (3) bwght\n",
      "-----------------------------------------------\n",
      "cigs           -0.4634   -0.0290               \n",
      "               (0.0916)  (0.0057)              \n",
      "packs                                 -9.2682  \n",
      "                                      (1.8315) \n",
      "faminc         0.0928    0.0058       0.0928   \n",
      "               (0.0292)  (0.0018)     (0.0292) \n",
      "Intercept      116.9741  7.3109       116.9741 \n",
      "               (1.0490)  (0.0656)     (1.0490) \n",
      "R-squared      0.0298    0.0298       0.0298   \n",
      "R-squared Adj. 0.0284    0.0284       0.0284   \n",
      "Observacoes    1388      1388         1388     \n",
      "SQR            557485.51 2177.68      557485.51\n",
      "EPR            20.063    1.254        20.063   \n",
      "===============================================\n",
      "Standard errors in parentheses.\n"
     ]
    }
   ],
   "source": [
    "results_table = sis.summary_col(results=[reg_1, reg_2, reg_3],\n",
    "                            float_format='%0.4f',\n",
    "                            stars = False,\n",
    "                            model_names=['(1) bwght',\n",
    "                                         '(2) bwghtlbs',\n",
    "                                         '(3) bwght'],\n",
    "                            regressor_order=['cigs', 'packs', 'faminc', 'Intercept'],\n",
    "                            info_dict={'Observacoes':  lambda x: '%d' %x.nobs,\n",
    "                                       'SQR': lambda x: '%.2f' %x.ssr, \n",
    "                                       'EPR': lambda x: '%.3f' %x.mse_resid**0.5,})\n",
    "\n",
    "results_table.add_title('Tabela 6.1 Efeitos da dimensão dos dados')\n",
    "print(results_table)"
   ]
  },
  {
   "cell_type": "code",
   "execution_count": null,
   "metadata": {},
   "outputs": [],
   "source": [
    "'''\n",
    "SQR: soma dos quadrados dos resíduos\n",
    "(sigla inglês do SQR: ssr, sum of squared residuals)\n",
    "\n",
    "EPR: Erro Padrão da Regressão, também chamado de raiz do erro quadrado médio \n",
    "(sigla inglês do EPR: SER, standard error of the regression, também chamado de root mean squared error (root mse))\n",
    "'''"
   ]
  },
  {
   "cell_type": "code",
   "execution_count": null,
   "metadata": {},
   "outputs": [],
   "source": [
    "# Nota: no livro, a estimativa de MQO do parâmetro de \"cigs\" na coluna 2 consta como 0.0289, quando deveria estar -0,0289."
   ]
  },
  {
   "cell_type": "code",
   "execution_count": null,
   "metadata": {},
   "outputs": [],
   "source": []
  },
  {
   "cell_type": "code",
   "execution_count": null,
   "metadata": {},
   "outputs": [],
   "source": []
  },
  {
   "cell_type": "markdown",
   "metadata": {},
   "source": [
    "### Comparações entre reg_1 (bwght em onças) e reg_2 (bwght em libras)"
   ]
  },
  {
   "cell_type": "code",
   "execution_count": null,
   "metadata": {},
   "outputs": [],
   "source": [
    "# Comparação entre os coeficientes estimados"
   ]
  },
  {
   "cell_type": "code",
   "execution_count": 8,
   "metadata": {},
   "outputs": [
    {
     "data": {
      "text/plain": [
       "Intercept    116.974130\n",
       "cigs          -0.463408\n",
       "faminc         0.092765\n",
       "dtype: float64"
      ]
     },
     "execution_count": 8,
     "metadata": {},
     "output_type": "execute_result"
    }
   ],
   "source": [
    "reg_1.params"
   ]
  },
  {
   "cell_type": "code",
   "execution_count": 9,
   "metadata": {},
   "outputs": [
    {
     "data": {
      "text/plain": [
       "Intercept    7.310883\n",
       "cigs        -0.028963\n",
       "faminc       0.005798\n",
       "dtype: float64"
      ]
     },
     "execution_count": 9,
     "metadata": {},
     "output_type": "execute_result"
    }
   ],
   "source": [
    "reg_2.params"
   ]
  },
  {
   "cell_type": "code",
   "execution_count": 10,
   "metadata": {},
   "outputs": [
    {
     "data": {
      "text/plain": [
       "Intercept    7.310883\n",
       "cigs        -0.028963\n",
       "faminc       0.005798\n",
       "dtype: float64"
      ]
     },
     "execution_count": 10,
     "metadata": {},
     "output_type": "execute_result"
    }
   ],
   "source": [
    "# reg_2.params = reg_1.params / 16\n",
    "reg_1.params / 16"
   ]
  },
  {
   "cell_type": "code",
   "execution_count": null,
   "metadata": {},
   "outputs": [],
   "source": []
  },
  {
   "cell_type": "code",
   "execution_count": null,
   "metadata": {},
   "outputs": [],
   "source": []
  },
  {
   "cell_type": "code",
   "execution_count": null,
   "metadata": {},
   "outputs": [],
   "source": [
    "# Comparação entre os erros padrão"
   ]
  },
  {
   "cell_type": "code",
   "execution_count": 11,
   "metadata": {},
   "outputs": [
    {
     "data": {
      "text/plain": [
       "Intercept    1.048984\n",
       "cigs         0.091577\n",
       "faminc       0.029188\n",
       "dtype: float64"
      ]
     },
     "execution_count": 11,
     "metadata": {},
     "output_type": "execute_result"
    }
   ],
   "source": [
    "reg_1.bse"
   ]
  },
  {
   "cell_type": "code",
   "execution_count": 12,
   "metadata": {},
   "outputs": [
    {
     "data": {
      "text/plain": [
       "Intercept    0.065562\n",
       "cigs         0.005724\n",
       "faminc       0.001824\n",
       "dtype: float64"
      ]
     },
     "execution_count": 12,
     "metadata": {},
     "output_type": "execute_result"
    }
   ],
   "source": [
    "reg_2.bse"
   ]
  },
  {
   "cell_type": "code",
   "execution_count": 13,
   "metadata": {},
   "outputs": [
    {
     "data": {
      "text/plain": [
       "Intercept    0.065562\n",
       "cigs         0.005724\n",
       "faminc       0.001824\n",
       "dtype: float64"
      ]
     },
     "execution_count": 13,
     "metadata": {},
     "output_type": "execute_result"
    }
   ],
   "source": [
    "# reg_2.bse = reg_1.bse / 16\n",
    "reg_1.bse / 16"
   ]
  },
  {
   "cell_type": "code",
   "execution_count": null,
   "metadata": {},
   "outputs": [],
   "source": []
  },
  {
   "cell_type": "code",
   "execution_count": null,
   "metadata": {},
   "outputs": [],
   "source": []
  },
  {
   "cell_type": "code",
   "execution_count": null,
   "metadata": {},
   "outputs": [],
   "source": [
    "# Comparação entre os valores das estatísticas t (para H0: Bi=0; H1: Bi!=0)"
   ]
  },
  {
   "cell_type": "code",
   "execution_count": 14,
   "metadata": {},
   "outputs": [
    {
     "data": {
      "text/plain": [
       "Intercept    111.511821\n",
       "cigs          -5.060315\n",
       "faminc         3.178195\n",
       "dtype: float64"
      ]
     },
     "execution_count": 14,
     "metadata": {},
     "output_type": "execute_result"
    }
   ],
   "source": [
    "reg_1.tvalues"
   ]
  },
  {
   "cell_type": "code",
   "execution_count": 15,
   "metadata": {},
   "outputs": [
    {
     "data": {
      "text/plain": [
       "Intercept    111.511821\n",
       "cigs          -5.060315\n",
       "faminc         3.178195\n",
       "dtype: float64"
      ]
     },
     "execution_count": 15,
     "metadata": {},
     "output_type": "execute_result"
    }
   ],
   "source": [
    "reg_2.tvalues"
   ]
  },
  {
   "cell_type": "code",
   "execution_count": null,
   "metadata": {},
   "outputs": [],
   "source": []
  },
  {
   "cell_type": "code",
   "execution_count": null,
   "metadata": {},
   "outputs": [],
   "source": []
  },
  {
   "cell_type": "code",
   "execution_count": null,
   "metadata": {},
   "outputs": [],
   "source": [
    "# Comparação entre os intervalos de confiança de 95%"
   ]
  },
  {
   "cell_type": "code",
   "execution_count": 16,
   "metadata": {},
   "outputs": [
    {
     "data": {
      "text/html": [
       "<div>\n",
       "<style scoped>\n",
       "    .dataframe tbody tr th:only-of-type {\n",
       "        vertical-align: middle;\n",
       "    }\n",
       "\n",
       "    .dataframe tbody tr th {\n",
       "        vertical-align: top;\n",
       "    }\n",
       "\n",
       "    .dataframe thead th {\n",
       "        text-align: right;\n",
       "    }\n",
       "</style>\n",
       "<table border=\"1\" class=\"dataframe\">\n",
       "  <thead>\n",
       "    <tr style=\"text-align: right;\">\n",
       "      <th></th>\n",
       "      <th>0</th>\n",
       "      <th>1</th>\n",
       "    </tr>\n",
       "  </thead>\n",
       "  <tbody>\n",
       "    <tr>\n",
       "      <th>Intercept</th>\n",
       "      <td>114.916361</td>\n",
       "      <td>119.031900</td>\n",
       "    </tr>\n",
       "    <tr>\n",
       "      <th>cigs</th>\n",
       "      <td>-0.643052</td>\n",
       "      <td>-0.283763</td>\n",
       "    </tr>\n",
       "    <tr>\n",
       "      <th>faminc</th>\n",
       "      <td>0.035508</td>\n",
       "      <td>0.150022</td>\n",
       "    </tr>\n",
       "  </tbody>\n",
       "</table>\n",
       "</div>"
      ],
      "text/plain": [
       "                    0           1\n",
       "Intercept  114.916361  119.031900\n",
       "cigs        -0.643052   -0.283763\n",
       "faminc       0.035508    0.150022"
      ]
     },
     "execution_count": 16,
     "metadata": {},
     "output_type": "execute_result"
    }
   ],
   "source": [
    "reg_1.conf_int(alpha=0.05)"
   ]
  },
  {
   "cell_type": "code",
   "execution_count": 17,
   "metadata": {},
   "outputs": [
    {
     "data": {
      "text/html": [
       "<div>\n",
       "<style scoped>\n",
       "    .dataframe tbody tr th:only-of-type {\n",
       "        vertical-align: middle;\n",
       "    }\n",
       "\n",
       "    .dataframe tbody tr th {\n",
       "        vertical-align: top;\n",
       "    }\n",
       "\n",
       "    .dataframe thead th {\n",
       "        text-align: right;\n",
       "    }\n",
       "</style>\n",
       "<table border=\"1\" class=\"dataframe\">\n",
       "  <thead>\n",
       "    <tr style=\"text-align: right;\">\n",
       "      <th></th>\n",
       "      <th>0</th>\n",
       "      <th>1</th>\n",
       "    </tr>\n",
       "  </thead>\n",
       "  <tbody>\n",
       "    <tr>\n",
       "      <th>Intercept</th>\n",
       "      <td>7.182273</td>\n",
       "      <td>7.439494</td>\n",
       "    </tr>\n",
       "    <tr>\n",
       "      <th>cigs</th>\n",
       "      <td>-0.040191</td>\n",
       "      <td>-0.017735</td>\n",
       "    </tr>\n",
       "    <tr>\n",
       "      <th>faminc</th>\n",
       "      <td>0.002219</td>\n",
       "      <td>0.009376</td>\n",
       "    </tr>\n",
       "  </tbody>\n",
       "</table>\n",
       "</div>"
      ],
      "text/plain": [
       "                  0         1\n",
       "Intercept  7.182273  7.439494\n",
       "cigs      -0.040191 -0.017735\n",
       "faminc     0.002219  0.009376"
      ]
     },
     "execution_count": 17,
     "metadata": {},
     "output_type": "execute_result"
    }
   ],
   "source": [
    "reg_2.conf_int(alpha=0.05)"
   ]
  },
  {
   "cell_type": "code",
   "execution_count": 18,
   "metadata": {},
   "outputs": [
    {
     "data": {
      "text/html": [
       "<div>\n",
       "<style scoped>\n",
       "    .dataframe tbody tr th:only-of-type {\n",
       "        vertical-align: middle;\n",
       "    }\n",
       "\n",
       "    .dataframe tbody tr th {\n",
       "        vertical-align: top;\n",
       "    }\n",
       "\n",
       "    .dataframe thead th {\n",
       "        text-align: right;\n",
       "    }\n",
       "</style>\n",
       "<table border=\"1\" class=\"dataframe\">\n",
       "  <thead>\n",
       "    <tr style=\"text-align: right;\">\n",
       "      <th></th>\n",
       "      <th>0</th>\n",
       "      <th>1</th>\n",
       "    </tr>\n",
       "  </thead>\n",
       "  <tbody>\n",
       "    <tr>\n",
       "      <th>Intercept</th>\n",
       "      <td>7.182273</td>\n",
       "      <td>7.439494</td>\n",
       "    </tr>\n",
       "    <tr>\n",
       "      <th>cigs</th>\n",
       "      <td>-0.040191</td>\n",
       "      <td>-0.017735</td>\n",
       "    </tr>\n",
       "    <tr>\n",
       "      <th>faminc</th>\n",
       "      <td>0.002219</td>\n",
       "      <td>0.009376</td>\n",
       "    </tr>\n",
       "  </tbody>\n",
       "</table>\n",
       "</div>"
      ],
      "text/plain": [
       "                  0         1\n",
       "Intercept  7.182273  7.439494\n",
       "cigs      -0.040191 -0.017735\n",
       "faminc     0.002219  0.009376"
      ]
     },
     "execution_count": 18,
     "metadata": {},
     "output_type": "execute_result"
    }
   ],
   "source": [
    "# reg_2.conf_int(alpha=0.05) = reg_1.conf_int(alpha=0.05) / 16\n",
    "reg_1.conf_int(alpha=0.05) / 16"
   ]
  },
  {
   "cell_type": "code",
   "execution_count": null,
   "metadata": {},
   "outputs": [],
   "source": []
  },
  {
   "cell_type": "code",
   "execution_count": null,
   "metadata": {},
   "outputs": [],
   "source": []
  },
  {
   "cell_type": "code",
   "execution_count": null,
   "metadata": {},
   "outputs": [],
   "source": [
    "# Comparação entre a SQR"
   ]
  },
  {
   "cell_type": "code",
   "execution_count": 19,
   "metadata": {},
   "outputs": [
    {
     "data": {
      "text/plain": [
       "557485.5109072427"
      ]
     },
     "execution_count": 19,
     "metadata": {},
     "output_type": "execute_result"
    }
   ],
   "source": [
    "reg_1.ssr"
   ]
  },
  {
   "cell_type": "code",
   "execution_count": 20,
   "metadata": {},
   "outputs": [
    {
     "data": {
      "text/plain": [
       "2177.6777769814166"
      ]
     },
     "execution_count": 20,
     "metadata": {},
     "output_type": "execute_result"
    }
   ],
   "source": [
    "reg_2.ssr"
   ]
  },
  {
   "cell_type": "code",
   "execution_count": 21,
   "metadata": {},
   "outputs": [
    {
     "data": {
      "text/plain": [
       "2177.6777769814166"
      ]
     },
     "execution_count": 21,
     "metadata": {},
     "output_type": "execute_result"
    }
   ],
   "source": [
    "# SQR de reg_2 = SQR de reg_1 / 256\n",
    "reg_1.ssr / 256"
   ]
  },
  {
   "cell_type": "code",
   "execution_count": null,
   "metadata": {},
   "outputs": [],
   "source": []
  },
  {
   "cell_type": "code",
   "execution_count": null,
   "metadata": {},
   "outputs": [],
   "source": []
  },
  {
   "cell_type": "code",
   "execution_count": null,
   "metadata": {},
   "outputs": [],
   "source": [
    "# Comparação entre o EPR"
   ]
  },
  {
   "cell_type": "code",
   "execution_count": 22,
   "metadata": {},
   "outputs": [
    {
     "data": {
      "text/plain": [
       "20.062816710857437"
      ]
     },
     "execution_count": 22,
     "metadata": {},
     "output_type": "execute_result"
    }
   ],
   "source": [
    "reg_1.mse_resid**0.5"
   ]
  },
  {
   "cell_type": "code",
   "execution_count": 23,
   "metadata": {},
   "outputs": [
    {
     "data": {
      "text/plain": [
       "1.2539260444285898"
      ]
     },
     "execution_count": 23,
     "metadata": {},
     "output_type": "execute_result"
    }
   ],
   "source": [
    "reg_2.mse_resid**0.5"
   ]
  },
  {
   "cell_type": "code",
   "execution_count": 24,
   "metadata": {},
   "outputs": [
    {
     "data": {
      "text/plain": [
       "1.2539260444285898"
      ]
     },
     "execution_count": 24,
     "metadata": {},
     "output_type": "execute_result"
    }
   ],
   "source": [
    "# EPR de reg_2 = EPR de reg_1 / 16\n",
    "reg_1.mse_resid**0.5 / 16"
   ]
  },
  {
   "cell_type": "code",
   "execution_count": null,
   "metadata": {},
   "outputs": [],
   "source": []
  },
  {
   "cell_type": "code",
   "execution_count": null,
   "metadata": {},
   "outputs": [],
   "source": []
  },
  {
   "cell_type": "markdown",
   "metadata": {},
   "source": [
    "### Comparações entre reg_1 (variável cigs) e reg_3 (variável packs no lugar de cigs)"
   ]
  },
  {
   "cell_type": "code",
   "execution_count": null,
   "metadata": {},
   "outputs": [],
   "source": [
    "# Comparações entre os coeficientes MQO"
   ]
  },
  {
   "cell_type": "code",
   "execution_count": 25,
   "metadata": {},
   "outputs": [
    {
     "data": {
      "text/plain": [
       "116.97413047527954"
      ]
     },
     "execution_count": 25,
     "metadata": {},
     "output_type": "execute_result"
    }
   ],
   "source": [
    "reg_1.params['Intercept']"
   ]
  },
  {
   "cell_type": "code",
   "execution_count": 26,
   "metadata": {},
   "outputs": [
    {
     "data": {
      "text/plain": [
       "116.97413047527951"
      ]
     },
     "execution_count": 26,
     "metadata": {},
     "output_type": "execute_result"
    }
   ],
   "source": [
    "reg_3.params['Intercept']"
   ]
  },
  {
   "cell_type": "code",
   "execution_count": 27,
   "metadata": {},
   "outputs": [
    {
     "data": {
      "text/plain": [
       "0.09276473837218335"
      ]
     },
     "execution_count": 27,
     "metadata": {},
     "output_type": "execute_result"
    }
   ],
   "source": [
    "reg_1.params['faminc']"
   ]
  },
  {
   "cell_type": "code",
   "execution_count": 28,
   "metadata": {},
   "outputs": [
    {
     "data": {
      "text/plain": [
       "0.09276473837218827"
      ]
     },
     "execution_count": 28,
     "metadata": {},
     "output_type": "execute_result"
    }
   ],
   "source": [
    "reg_3.params['faminc']"
   ]
  },
  {
   "cell_type": "code",
   "execution_count": 29,
   "metadata": {},
   "outputs": [
    {
     "data": {
      "text/plain": [
       "-0.4634075402018808"
      ]
     },
     "execution_count": 29,
     "metadata": {},
     "output_type": "execute_result"
    }
   ],
   "source": [
    "reg_1.params['cigs']"
   ]
  },
  {
   "cell_type": "code",
   "execution_count": 30,
   "metadata": {},
   "outputs": [
    {
     "data": {
      "text/plain": [
       "-9.268150804037788"
      ]
     },
     "execution_count": 30,
     "metadata": {},
     "output_type": "execute_result"
    }
   ],
   "source": [
    "reg_3.params['packs']"
   ]
  },
  {
   "cell_type": "code",
   "execution_count": 31,
   "metadata": {},
   "outputs": [
    {
     "data": {
      "text/plain": [
       "-9.268150804037615"
      ]
     },
     "execution_count": 31,
     "metadata": {},
     "output_type": "execute_result"
    }
   ],
   "source": [
    "# b_packs = b_cigs * 20\n",
    "reg_1.params['cigs'] * 20 "
   ]
  },
  {
   "cell_type": "code",
   "execution_count": null,
   "metadata": {},
   "outputs": [],
   "source": []
  },
  {
   "cell_type": "code",
   "execution_count": null,
   "metadata": {},
   "outputs": [],
   "source": []
  },
  {
   "cell_type": "code",
   "execution_count": null,
   "metadata": {},
   "outputs": [],
   "source": [
    "# Comparação entre os erros padrão"
   ]
  },
  {
   "cell_type": "code",
   "execution_count": 32,
   "metadata": {},
   "outputs": [
    {
     "data": {
      "text/plain": [
       "0.09157682326692307"
      ]
     },
     "execution_count": 32,
     "metadata": {},
     "output_type": "execute_result"
    }
   ],
   "source": [
    "reg_1.bse['cigs']"
   ]
  },
  {
   "cell_type": "code",
   "execution_count": 33,
   "metadata": {},
   "outputs": [
    {
     "data": {
      "text/plain": [
       "1.8315364653384516"
      ]
     },
     "execution_count": 33,
     "metadata": {},
     "output_type": "execute_result"
    }
   ],
   "source": [
    "reg_3.bse['packs']"
   ]
  },
  {
   "cell_type": "code",
   "execution_count": 34,
   "metadata": {},
   "outputs": [
    {
     "data": {
      "text/plain": [
       "1.8315364653384614"
      ]
     },
     "execution_count": 34,
     "metadata": {},
     "output_type": "execute_result"
    }
   ],
   "source": [
    "# erro padrão de packs = (erro padrão de cigs) * 20 \n",
    "reg_1.bse['cigs'] * 20"
   ]
  },
  {
   "cell_type": "code",
   "execution_count": null,
   "metadata": {},
   "outputs": [],
   "source": []
  },
  {
   "cell_type": "code",
   "execution_count": null,
   "metadata": {},
   "outputs": [],
   "source": []
  },
  {
   "cell_type": "code",
   "execution_count": null,
   "metadata": {},
   "outputs": [],
   "source": [
    "# Comparação entre os valores das estatísticas t de cigs e packs (para H0: Bi=0; H1: Bi!=0)"
   ]
  },
  {
   "cell_type": "code",
   "execution_count": 35,
   "metadata": {},
   "outputs": [
    {
     "data": {
      "text/plain": [
       "-5.060314648076032"
      ]
     },
     "execution_count": 35,
     "metadata": {},
     "output_type": "execute_result"
    }
   ],
   "source": [
    "reg_1.tvalues['cigs']"
   ]
  },
  {
   "cell_type": "code",
   "execution_count": 36,
   "metadata": {},
   "outputs": [
    {
     "data": {
      "text/plain": [
       "-5.060314648076153"
      ]
     },
     "execution_count": 36,
     "metadata": {},
     "output_type": "execute_result"
    }
   ],
   "source": [
    "reg_3.tvalues['packs']"
   ]
  },
  {
   "cell_type": "code",
   "execution_count": null,
   "metadata": {},
   "outputs": [],
   "source": []
  },
  {
   "cell_type": "code",
   "execution_count": null,
   "metadata": {},
   "outputs": [],
   "source": []
  },
  {
   "cell_type": "markdown",
   "metadata": {},
   "source": [
    "### Comparação entre reg_1 e reg_2 (variável dependente na forma logarítmica)"
   ]
  },
  {
   "cell_type": "code",
   "execution_count": 37,
   "metadata": {},
   "outputs": [],
   "source": [
    "modelo_oncas = smf.ols(formula='np.log(bwght) ~ cigs + faminc', data=df)\n",
    "reg_oncas = modelo_oncas.fit()\n",
    "\n",
    "modelo_libras = smf.ols(formula='np.log(bwghtlbs) ~ cigs + faminc', data=df)\n",
    "reg_libras = modelo_libras.fit()"
   ]
  },
  {
   "cell_type": "code",
   "execution_count": 39,
   "metadata": {},
   "outputs": [
    {
     "name": "stdout",
     "output_type": "stream",
     "text": [
      " Comparação: log_bwght em onças e em libras\n",
      "=============================================\n",
      "               (1) log_bwght (2) log_bwghtlbs\n",
      "---------------------------------------------\n",
      "cigs           -0.0040       -0.0040         \n",
      "               (0.0009)      (0.0009)        \n",
      "faminc         0.0008        0.0008          \n",
      "               (0.0003)      (0.0003)        \n",
      "Intercept      4.7440        1.9714          \n",
      "               (0.0098)      (0.0098)        \n",
      "R-squared      0.0265        0.0265          \n",
      "R-squared Adj. 0.0251        0.0251          \n",
      "SQR            49.09         49.09           \n",
      "EPR            0.188         0.188           \n",
      "=============================================\n",
      "Standard errors in parentheses.\n"
     ]
    }
   ],
   "source": [
    "results_table = sis.summary_col(results=[reg_oncas, reg_libras],\n",
    "                            float_format='%0.4f',\n",
    "                            stars = False,\n",
    "                            model_names=['(1) log_bwght',\n",
    "                                         '(2) log_bwghtlbs'],\n",
    "                            regressor_order=['cigs', 'faminc', 'Intercept'],\n",
    "                            info_dict={'SQR': lambda x: '%.2f' %x.ssr, 'EPR': lambda x: '%.3f' %x.mse_resid**0.5,})\n",
    "\n",
    "results_table.add_title('Comparação: log_bwght em onças e em libras')\n",
    "print(results_table)"
   ]
  },
  {
   "cell_type": "code",
   "execution_count": null,
   "metadata": {},
   "outputs": [],
   "source": [
    "# Os coeficientes de cigs e faminc são iguais nas duas regressões. Apenas o intercepto difere."
   ]
  },
  {
   "cell_type": "code",
   "execution_count": null,
   "metadata": {},
   "outputs": [],
   "source": []
  },
  {
   "cell_type": "code",
   "execution_count": null,
   "metadata": {},
   "outputs": [],
   "source": []
  },
  {
   "cell_type": "markdown",
   "metadata": {},
   "source": [
    "### Parâmetro \"info_dict\" d a função \"sis.summary_col()\""
   ]
  },
  {
   "cell_type": "code",
   "execution_count": null,
   "metadata": {},
   "outputs": [],
   "source": [
    "'''\n",
    "info_dict={'SQR': lambda x: x.ssr}\n",
    "O comando acima irá criar uma linha chamada 'SQR' e fará: \n",
    "reg_1.ssr\n",
    "reg_2.ssr\n",
    "reg_3.ssr\n",
    "\n",
    "(reg_1, reg_2 e reg_3 os três elementos da lista passada para o parâmetro \"results\")\n",
    "'''"
   ]
  },
  {
   "cell_type": "code",
   "execution_count": 40,
   "metadata": {},
   "outputs": [
    {
     "data": {
      "text/plain": [
       "'5.00'"
      ]
     },
     "execution_count": 40,
     "metadata": {},
     "output_type": "execute_result"
    }
   ],
   "source": [
    "# Para mais sobre o código desta célula, pesquise por \"marcador de posição em python\"\n",
    "n = 5.\n",
    "s = '%.2f' %n #compõe a string com a variável n. %.2f indica que \"colocaremos\" na string um número com duas casas decimais.\n",
    "s"
   ]
  },
  {
   "cell_type": "code",
   "execution_count": null,
   "metadata": {},
   "outputs": [],
   "source": [
    "'''\n",
    "info_dict={'SQR': lambda x: '%.2f' %x.ssr}\n",
    "O comando acima irá criar uma linha chamada 'SQR' e fará: \n",
    "'%.2f' %reg_1.ssr  -> compõe a string com reg_1.ssr; %.2f indica que colocaremos um número com duas casas decimais.\n",
    "'%.2f' %reg_2.ssr\n",
    "'%.2f' %reg_3.ssr\n",
    "\n",
    "(reg_1, reg_2 e reg_3 os três elementos da lista passada para o parâmetro \"results\")\n",
    "\n",
    "Obs:\n",
    "(%d indicaria que colocaríamos um número inteiro)\n",
    "(%s indicaria que colocaríamos uma string)\n",
    "'''"
   ]
  },
  {
   "cell_type": "code",
   "execution_count": null,
   "metadata": {},
   "outputs": [],
   "source": []
  },
  {
   "cell_type": "code",
   "execution_count": null,
   "metadata": {},
   "outputs": [],
   "source": []
  }
 ],
 "metadata": {
  "kernelspec": {
   "display_name": "Python 3",
   "language": "python",
   "name": "python3"
  },
  "language_info": {
   "codemirror_mode": {
    "name": "ipython",
    "version": 3
   },
   "file_extension": ".py",
   "mimetype": "text/x-python",
   "name": "python",
   "nbconvert_exporter": "python",
   "pygments_lexer": "ipython3",
   "version": "3.7.3"
  }
 },
 "nbformat": 4,
 "nbformat_minor": 2
}
