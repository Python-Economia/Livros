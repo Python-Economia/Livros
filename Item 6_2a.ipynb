{
 "cells": [
  {
   "cell_type": "code",
   "execution_count": null,
   "metadata": {},
   "outputs": [],
   "source": [
    "'''\n",
    "Introdução à Econometria - Uma abordagem moderna (Tradução da 6 edição norte-americana)\n",
    "Autor: WOOLDRIDGE, J. M.\n",
    "Editora: CENGAGE LEARNING\n",
    "\n",
    "Cap. 6: Análise de regressão múltipla: problemas adicionais (Multiple Regression Analysis: Further Issues)\n",
    "Item 6.2a: Um pouco mais sobre o uso de formas funcionais logarítmicas\n",
    "             (More on Using Logarithmic Functional Forms)\n",
    "             \n",
    "Arquivo com os dados: hprice2.xls\n",
    "\n",
    "Arquivo com dados em:\n",
    "http://students.cengage.com.br/dashboard/private/livroView.jsf;jsessionid=95E9AD889A4A4B7ABBD2A5251F1E14BE?id=104577\n",
    "\n",
    "Em caso de dúvidas ou problemas, solicitamos, por gentileza, entrar em contato pelo e-mail:\n",
    "python.economia@gmail.com\n",
    "'''"
   ]
  },
  {
   "cell_type": "code",
   "execution_count": 1,
   "metadata": {},
   "outputs": [],
   "source": [
    "import pandas as pd\n",
    "import numpy as np\n",
    "import statsmodels.formula.api as smf"
   ]
  },
  {
   "cell_type": "code",
   "execution_count": 2,
   "metadata": {},
   "outputs": [],
   "source": [
    "df = pd.read_excel('hprice2.xls',\n",
    "                   header=None,\n",
    "                   usecols=[3, 7, 9, 10],\n",
    "                   names=['rooms', 'stratio','lprice', 'lnox'])"
   ]
  },
  {
   "cell_type": "code",
   "execution_count": 3,
   "metadata": {},
   "outputs": [
    {
     "data": {
      "text/html": [
       "<div>\n",
       "<style scoped>\n",
       "    .dataframe tbody tr th:only-of-type {\n",
       "        vertical-align: middle;\n",
       "    }\n",
       "\n",
       "    .dataframe tbody tr th {\n",
       "        vertical-align: top;\n",
       "    }\n",
       "\n",
       "    .dataframe thead th {\n",
       "        text-align: right;\n",
       "    }\n",
       "</style>\n",
       "<table border=\"1\" class=\"dataframe\">\n",
       "  <thead>\n",
       "    <tr style=\"text-align: right;\">\n",
       "      <th></th>\n",
       "      <th>rooms</th>\n",
       "      <th>stratio</th>\n",
       "      <th>lprice</th>\n",
       "      <th>lnox</th>\n",
       "    </tr>\n",
       "  </thead>\n",
       "  <tbody>\n",
       "    <tr>\n",
       "      <th>0</th>\n",
       "      <td>6.57</td>\n",
       "      <td>15.3</td>\n",
       "      <td>10.085810</td>\n",
       "      <td>1.682688</td>\n",
       "    </tr>\n",
       "    <tr>\n",
       "      <th>1</th>\n",
       "      <td>6.42</td>\n",
       "      <td>17.8</td>\n",
       "      <td>9.980402</td>\n",
       "      <td>1.545433</td>\n",
       "    </tr>\n",
       "    <tr>\n",
       "      <th>2</th>\n",
       "      <td>7.18</td>\n",
       "      <td>17.8</td>\n",
       "      <td>10.454500</td>\n",
       "      <td>1.545433</td>\n",
       "    </tr>\n",
       "    <tr>\n",
       "      <th>3</th>\n",
       "      <td>7.00</td>\n",
       "      <td>18.7</td>\n",
       "      <td>10.416310</td>\n",
       "      <td>1.521699</td>\n",
       "    </tr>\n",
       "    <tr>\n",
       "      <th>4</th>\n",
       "      <td>7.15</td>\n",
       "      <td>18.7</td>\n",
       "      <td>10.496790</td>\n",
       "      <td>1.521699</td>\n",
       "    </tr>\n",
       "  </tbody>\n",
       "</table>\n",
       "</div>"
      ],
      "text/plain": [
       "   rooms  stratio     lprice      lnox\n",
       "0   6.57     15.3  10.085810  1.682688\n",
       "1   6.42     17.8   9.980402  1.545433\n",
       "2   7.18     17.8  10.454500  1.545433\n",
       "3   7.00     18.7  10.416310  1.521699\n",
       "4   7.15     18.7  10.496790  1.521699"
      ]
     },
     "execution_count": 3,
     "metadata": {},
     "output_type": "execute_result"
    }
   ],
   "source": [
    "df.head()"
   ]
  },
  {
   "cell_type": "code",
   "execution_count": null,
   "metadata": {},
   "outputs": [],
   "source": []
  },
  {
   "cell_type": "code",
   "execution_count": null,
   "metadata": {},
   "outputs": [],
   "source": []
  },
  {
   "cell_type": "markdown",
   "metadata": {},
   "source": [
    "### Comandos sugeridos"
   ]
  },
  {
   "cell_type": "code",
   "execution_count": 4,
   "metadata": {},
   "outputs": [
    {
     "data": {
      "text/html": [
       "<table class=\"simpletable\">\n",
       "<caption>OLS Regression Results</caption>\n",
       "<tr>\n",
       "  <th>Dep. Variable:</th>         <td>lprice</td>      <th>  R-squared:         </th> <td>   0.514</td>\n",
       "</tr>\n",
       "<tr>\n",
       "  <th>Model:</th>                   <td>OLS</td>       <th>  Adj. R-squared:    </th> <td>   0.512</td>\n",
       "</tr>\n",
       "<tr>\n",
       "  <th>Method:</th>             <td>Least Squares</td>  <th>  F-statistic:       </th> <td>   265.7</td>\n",
       "</tr>\n",
       "<tr>\n",
       "  <th>Date:</th>             <td>Fri, 08 Jul 2022</td> <th>  Prob (F-statistic):</th> <td>1.79e-79</td>\n",
       "</tr>\n",
       "<tr>\n",
       "  <th>Time:</th>                 <td>19:23:18</td>     <th>  Log-Likelihood:    </th> <td> -83.009</td>\n",
       "</tr>\n",
       "<tr>\n",
       "  <th>No. Observations:</th>      <td>   506</td>      <th>  AIC:               </th> <td>   172.0</td>\n",
       "</tr>\n",
       "<tr>\n",
       "  <th>Df Residuals:</th>          <td>   503</td>      <th>  BIC:               </th> <td>   184.7</td>\n",
       "</tr>\n",
       "<tr>\n",
       "  <th>Df Model:</th>              <td>     2</td>      <th>                     </th>     <td> </td>   \n",
       "</tr>\n",
       "<tr>\n",
       "  <th>Covariance Type:</th>      <td>nonrobust</td>    <th>                     </th>     <td> </td>   \n",
       "</tr>\n",
       "</table>\n",
       "<table class=\"simpletable\">\n",
       "<tr>\n",
       "      <td></td>         <th>coef</th>     <th>std err</th>      <th>t</th>      <th>P>|t|</th>  <th>[0.025</th>    <th>0.975]</th>  \n",
       "</tr>\n",
       "<tr>\n",
       "  <th>Intercept</th> <td>    9.2337</td> <td>    0.188</td> <td>   49.183</td> <td> 0.000</td> <td>    8.865</td> <td>    9.603</td>\n",
       "</tr>\n",
       "<tr>\n",
       "  <th>lnox</th>      <td>   -0.7177</td> <td>    0.066</td> <td>  -10.818</td> <td> 0.000</td> <td>   -0.848</td> <td>   -0.587</td>\n",
       "</tr>\n",
       "<tr>\n",
       "  <th>rooms</th>     <td>    0.3059</td> <td>    0.019</td> <td>   16.086</td> <td> 0.000</td> <td>    0.269</td> <td>    0.343</td>\n",
       "</tr>\n",
       "</table>\n",
       "<table class=\"simpletable\">\n",
       "<tr>\n",
       "  <th>Omnibus:</th>       <td>52.327</td> <th>  Durbin-Watson:     </th> <td>   0.603</td>\n",
       "</tr>\n",
       "<tr>\n",
       "  <th>Prob(Omnibus):</th> <td> 0.000</td> <th>  Jarque-Bera (JB):  </th> <td> 327.011</td>\n",
       "</tr>\n",
       "<tr>\n",
       "  <th>Skew:</th>          <td> 0.042</td> <th>  Prob(JB):          </th> <td>9.78e-72</td>\n",
       "</tr>\n",
       "<tr>\n",
       "  <th>Kurtosis:</th>      <td> 6.937</td> <th>  Cond. No.          </th> <td>    102.</td>\n",
       "</tr>\n",
       "</table><br/><br/>Notes:<br/>[1] Standard Errors assume that the covariance matrix of the errors is correctly specified."
      ],
      "text/plain": [
       "<class 'statsmodels.iolib.summary.Summary'>\n",
       "\"\"\"\n",
       "                            OLS Regression Results                            \n",
       "==============================================================================\n",
       "Dep. Variable:                 lprice   R-squared:                       0.514\n",
       "Model:                            OLS   Adj. R-squared:                  0.512\n",
       "Method:                 Least Squares   F-statistic:                     265.7\n",
       "Date:                Fri, 08 Jul 2022   Prob (F-statistic):           1.79e-79\n",
       "Time:                        19:23:18   Log-Likelihood:                -83.009\n",
       "No. Observations:                 506   AIC:                             172.0\n",
       "Df Residuals:                     503   BIC:                             184.7\n",
       "Df Model:                           2                                         \n",
       "Covariance Type:            nonrobust                                         \n",
       "==============================================================================\n",
       "                 coef    std err          t      P>|t|      [0.025      0.975]\n",
       "------------------------------------------------------------------------------\n",
       "Intercept      9.2337      0.188     49.183      0.000       8.865       9.603\n",
       "lnox          -0.7177      0.066    -10.818      0.000      -0.848      -0.587\n",
       "rooms          0.3059      0.019     16.086      0.000       0.269       0.343\n",
       "==============================================================================\n",
       "Omnibus:                       52.327   Durbin-Watson:                   0.603\n",
       "Prob(Omnibus):                  0.000   Jarque-Bera (JB):              327.011\n",
       "Skew:                           0.042   Prob(JB):                     9.78e-72\n",
       "Kurtosis:                       6.937   Cond. No.                         102.\n",
       "==============================================================================\n",
       "\n",
       "Notes:\n",
       "[1] Standard Errors assume that the covariance matrix of the errors is correctly specified.\n",
       "\"\"\""
      ]
     },
     "execution_count": 4,
     "metadata": {},
     "output_type": "execute_result"
    }
   ],
   "source": [
    "# Regressão pelo Método de Mínimos Quadrados Ordinários (MQO ou OLS na sigla em inglês)\n",
    "modelo_1 = smf.ols(formula='lprice ~ lnox + rooms', data=df)\n",
    "reg_1 = modelo_1.fit()\n",
    "reg_1.summary()"
   ]
  },
  {
   "cell_type": "code",
   "execution_count": 5,
   "metadata": {},
   "outputs": [
    {
     "data": {
      "text/plain": [
       "Intercept    9.233737\n",
       "lnox        -0.717673\n",
       "rooms        0.305918\n",
       "dtype: float64"
      ]
     },
     "execution_count": 5,
     "metadata": {},
     "output_type": "execute_result"
    }
   ],
   "source": [
    "reg_1.params"
   ]
  },
  {
   "cell_type": "code",
   "execution_count": null,
   "metadata": {},
   "outputs": [],
   "source": [
    "'''\n",
    "Estimamos que um cômodo a mais aumenta o preço em APROXIMADAMENTE 30,59% (=100*0,3059)\n",
    "'''"
   ]
  },
  {
   "cell_type": "code",
   "execution_count": 6,
   "metadata": {},
   "outputs": [
    {
     "data": {
      "text/plain": [
       "35.78713947404548"
      ]
     },
     "execution_count": 6,
     "metadata": {},
     "output_type": "execute_result"
    }
   ],
   "source": [
    "'''\n",
    "Quanto maior as mudanças percentuais estimadas, a aproximação da célula acima (com o uso direto do coeficiente estimado de\n",
    "rooms) se torna cada vez mais imprecisa. \n",
    "Neste exemplo, a mudança exata estimada em \"price\" quando \"rooms\" aumenta em 1 é: 100 * [exp(b_rooms * 1) - 1]\n",
    "'''\n",
    "100 * (np.exp(reg_1.params['rooms']) - 1)"
   ]
  },
  {
   "cell_type": "code",
   "execution_count": null,
   "metadata": {},
   "outputs": [],
   "source": [
    "'''\n",
    "Conclusão: a mudança exata estimada em \"price\" quando \"rooms\" aumenta em 1 é 35,79%. Note que a mudança estimada aproximada \n",
    "quando utilizamos diretamente o coeficiente calculado de rooms é 30,59%.\n",
    "'''"
   ]
  },
  {
   "cell_type": "code",
   "execution_count": 7,
   "metadata": {},
   "outputs": [
    {
     "data": {
      "text/plain": [
       "-26.35532320119748"
      ]
     },
     "execution_count": 7,
     "metadata": {},
     "output_type": "execute_result"
    }
   ],
   "source": [
    "# Neste exemplo, a mudança exata estimada em \"price\" quando \"rooms\" diminui em 1 é: 100 * [exp(b_rooms * -1) - 1]\n",
    "100 * (np.exp(reg_1.params['rooms'] * -1) - 1)"
   ]
  },
  {
   "cell_type": "code",
   "execution_count": null,
   "metadata": {},
   "outputs": [],
   "source": [
    "# Conclusão: a mudança exata estimada em \"price\" quando \"rooms\" diminui em 1 (um cômodo a menos) é -26,36%"
   ]
  },
  {
   "cell_type": "code",
   "execution_count": null,
   "metadata": {},
   "outputs": [],
   "source": []
  },
  {
   "cell_type": "code",
   "execution_count": null,
   "metadata": {},
   "outputs": [],
   "source": []
  },
  {
   "cell_type": "markdown",
   "metadata": {},
   "source": [
    "### Inclusão da relação aluno-professor no modelo anterior (variável stratio)"
   ]
  },
  {
   "cell_type": "code",
   "execution_count": 9,
   "metadata": {},
   "outputs": [
    {
     "data": {
      "text/plain": [
       "Intercept    10.359458\n",
       "lnox         -0.645329\n",
       "rooms         0.256727\n",
       "stratio      -0.050873\n",
       "dtype: float64"
      ]
     },
     "execution_count": 9,
     "metadata": {},
     "output_type": "execute_result"
    }
   ],
   "source": [
    "# Regressão pelo Método de Mínimos Quadrados Ordinários (MQO ou OLS na sigla em inglês)\n",
    "modelo_2 = smf.ols(formula='lprice ~ lnox + rooms + stratio', data=df)\n",
    "reg_2 = modelo_2.fit()\n",
    "reg_2.params"
   ]
  },
  {
   "cell_type": "code",
   "execution_count": null,
   "metadata": {},
   "outputs": [],
   "source": []
  },
  {
   "cell_type": "code",
   "execution_count": null,
   "metadata": {},
   "outputs": [],
   "source": [
    "'''\n",
    "Estimamos que se \"stratio\" aumenta em um, o preço diminui em APROXIMADAMENTE 5.09% (=100*-0,05087)\n",
    "(no livro, consta uma diminuição estimada no preço de aproximadamente 5,2%)\n",
    "'''"
   ]
  },
  {
   "cell_type": "code",
   "execution_count": 10,
   "metadata": {},
   "outputs": [
    {
     "data": {
      "text/plain": [
       "-4.96009893733993"
      ]
     },
     "execution_count": 10,
     "metadata": {},
     "output_type": "execute_result"
    }
   ],
   "source": [
    "# Neste exemplo, a mudança exata estimada em \"price\" quando \"stratio\" aumenta em 1 é: 100 * [exp(b_stratio * 1) - 1]\n",
    "100 * (np.exp(reg_2.params['stratio']) - 1)"
   ]
  },
  {
   "cell_type": "code",
   "execution_count": null,
   "metadata": {},
   "outputs": [],
   "source": [
    "# Assim, a mudança exata estimada em \"price\" quando \"stratio\" aumenta em 1 é -4,96%\n",
    "# (no livro, consta uma diminuição estimada (exata) no preço de 5,1%)"
   ]
  },
  {
   "cell_type": "code",
   "execution_count": null,
   "metadata": {},
   "outputs": [],
   "source": []
  },
  {
   "cell_type": "code",
   "execution_count": null,
   "metadata": {},
   "outputs": [],
   "source": []
  },
  {
   "cell_type": "code",
   "execution_count": 11,
   "metadata": {},
   "outputs": [
    {
     "data": {
      "text/plain": [
       "-25.43668569083151"
      ]
     },
     "execution_count": 11,
     "metadata": {},
     "output_type": "execute_result"
    }
   ],
   "source": [
    "# Se aumentamos \"stratio\" em 5, estimamos que o preço varia em APROXIMADAMENTE -25,44% (no livro consta -26%)\n",
    "5 * (reg_2.params['stratio'] * 100)"
   ]
  },
  {
   "cell_type": "code",
   "execution_count": 12,
   "metadata": {},
   "outputs": [
    {
     "data": {
      "text/plain": [
       "-22.45927136583613"
      ]
     },
     "execution_count": 12,
     "metadata": {},
     "output_type": "execute_result"
    }
   ],
   "source": [
    "# a mudança exata estimada em \"price\" quando \"stratio\" aumenta em 5 é: 100 * [exp(b_stratio * 5) - 1]\n",
    "100 * (np.exp(reg_2.params['stratio'] * 5) - 1)"
   ]
  },
  {
   "cell_type": "code",
   "execution_count": null,
   "metadata": {},
   "outputs": [],
   "source": [
    "# Assim, a mudança exata estimada em \"price\" quando \"stratio\" aumenta em 5 é -22,46% (no livro consta -22,9%)"
   ]
  },
  {
   "cell_type": "code",
   "execution_count": null,
   "metadata": {},
   "outputs": [],
   "source": []
  },
  {
   "cell_type": "code",
   "execution_count": null,
   "metadata": {},
   "outputs": [],
   "source": []
  }
 ],
 "metadata": {
  "kernelspec": {
   "display_name": "Python 3",
   "language": "python",
   "name": "python3"
  },
  "language_info": {
   "codemirror_mode": {
    "name": "ipython",
    "version": 3
   },
   "file_extension": ".py",
   "mimetype": "text/x-python",
   "name": "python",
   "nbconvert_exporter": "python",
   "pygments_lexer": "ipython3",
   "version": "3.7.3"
  }
 },
 "nbformat": 4,
 "nbformat_minor": 2
}
