{
 "cells": [
  {
   "cell_type": "code",
   "execution_count": null,
   "metadata": {},
   "outputs": [],
   "source": [
    "'''\n",
    "Introdução à Econometria - Uma abordagem moderna (Tradução da 6 edição norte-americana)\n",
    "Autor: WOOLDRIDGE, J.\n",
    "Editora: CENGAGE LEARNING\n",
    "\n",
    "Cap. 8: Heterocedasticidade (Heteroskedasticity)\n",
    "Exemplo 8.1: Equação log dos salário com erros padrão robustos em relação à heterocedasticidade\n",
    "             (LOG WAGE EQUATIONS WITH HETEROSKEDASTICITY-ROBUST STANDARD ERRORS)\n",
    "             \n",
    "Arquivo com os dados: wage1.xls\n",
    "\n",
    "Arquivo com dados em:\n",
    "http://students.cengage.com.br/dashboard/private/livroView.jsf;jsessionid=95E9AD889A4A4B7ABBD2A5251F1E14BE?id=104577\n",
    "\n",
    "Em caso de dúvidas ou problemas, solicitamos, por gentileza, entrar em contato pelo e-mail:\n",
    "python.economia@gmail.com\n",
    "'''"
   ]
  },
  {
   "cell_type": "code",
   "execution_count": 1,
   "metadata": {},
   "outputs": [],
   "source": [
    "import pandas as pd\n",
    "import statsmodels.formula.api as smf\n",
    "\n",
    "import statsmodels.iolib.summary2 as sis"
   ]
  },
  {
   "cell_type": "code",
   "execution_count": 2,
   "metadata": {},
   "outputs": [],
   "source": [
    "df = pd.read_excel('wage1.xls',\n",
    "                   header=None,\n",
    "                   usecols=[1, 2, 3, 5, 6, 21, 22, 23],\n",
    "                   names=['educ', 'exper', 'tenure', 'female', 'married', 'log_wage', 'expersq', 'tenuresq'])"
   ]
  },
  {
   "cell_type": "code",
   "execution_count": 3,
   "metadata": {},
   "outputs": [
    {
     "data": {
      "text/html": [
       "<div>\n",
       "<style scoped>\n",
       "    .dataframe tbody tr th:only-of-type {\n",
       "        vertical-align: middle;\n",
       "    }\n",
       "\n",
       "    .dataframe tbody tr th {\n",
       "        vertical-align: top;\n",
       "    }\n",
       "\n",
       "    .dataframe thead th {\n",
       "        text-align: right;\n",
       "    }\n",
       "</style>\n",
       "<table border=\"1\" class=\"dataframe\">\n",
       "  <thead>\n",
       "    <tr style=\"text-align: right;\">\n",
       "      <th></th>\n",
       "      <th>educ</th>\n",
       "      <th>exper</th>\n",
       "      <th>tenure</th>\n",
       "      <th>female</th>\n",
       "      <th>married</th>\n",
       "      <th>log_wage</th>\n",
       "      <th>expersq</th>\n",
       "      <th>tenuresq</th>\n",
       "    </tr>\n",
       "  </thead>\n",
       "  <tbody>\n",
       "    <tr>\n",
       "      <th>0</th>\n",
       "      <td>11</td>\n",
       "      <td>2</td>\n",
       "      <td>0</td>\n",
       "      <td>1</td>\n",
       "      <td>0</td>\n",
       "      <td>1.131402</td>\n",
       "      <td>4</td>\n",
       "      <td>0</td>\n",
       "    </tr>\n",
       "    <tr>\n",
       "      <th>1</th>\n",
       "      <td>12</td>\n",
       "      <td>22</td>\n",
       "      <td>2</td>\n",
       "      <td>1</td>\n",
       "      <td>1</td>\n",
       "      <td>1.175573</td>\n",
       "      <td>484</td>\n",
       "      <td>4</td>\n",
       "    </tr>\n",
       "  </tbody>\n",
       "</table>\n",
       "</div>"
      ],
      "text/plain": [
       "   educ  exper  tenure  female  married  log_wage  expersq  tenuresq\n",
       "0    11      2       0       1        0  1.131402        4         0\n",
       "1    12     22       2       1        1  1.175573      484         4"
      ]
     },
     "execution_count": 3,
     "metadata": {},
     "output_type": "execute_result"
    }
   ],
   "source": [
    "df.head(2)"
   ]
  },
  {
   "cell_type": "code",
   "execution_count": 4,
   "metadata": {},
   "outputs": [],
   "source": [
    "df['male'] = df['female'].map({0: 1, 1: 0}) #cria uma coluna em que 1 indica \"homem\" e 0 indica \"mulher\"\n",
    "df['single'] = df['married'].map({0: 1, 1: 0}) #cria uma coluna em que 1 indica \"solteiro\" e 0 indica \"casado(a)\""
   ]
  },
  {
   "cell_type": "code",
   "execution_count": 5,
   "metadata": {},
   "outputs": [
    {
     "data": {
      "text/html": [
       "<div>\n",
       "<style scoped>\n",
       "    .dataframe tbody tr th:only-of-type {\n",
       "        vertical-align: middle;\n",
       "    }\n",
       "\n",
       "    .dataframe tbody tr th {\n",
       "        vertical-align: top;\n",
       "    }\n",
       "\n",
       "    .dataframe thead th {\n",
       "        text-align: right;\n",
       "    }\n",
       "</style>\n",
       "<table border=\"1\" class=\"dataframe\">\n",
       "  <thead>\n",
       "    <tr style=\"text-align: right;\">\n",
       "      <th></th>\n",
       "      <th>educ</th>\n",
       "      <th>exper</th>\n",
       "      <th>tenure</th>\n",
       "      <th>female</th>\n",
       "      <th>married</th>\n",
       "      <th>log_wage</th>\n",
       "      <th>expersq</th>\n",
       "      <th>tenuresq</th>\n",
       "      <th>male</th>\n",
       "      <th>single</th>\n",
       "    </tr>\n",
       "  </thead>\n",
       "  <tbody>\n",
       "    <tr>\n",
       "      <th>0</th>\n",
       "      <td>11</td>\n",
       "      <td>2</td>\n",
       "      <td>0</td>\n",
       "      <td>1</td>\n",
       "      <td>0</td>\n",
       "      <td>1.131402</td>\n",
       "      <td>4</td>\n",
       "      <td>0</td>\n",
       "      <td>0</td>\n",
       "      <td>1</td>\n",
       "    </tr>\n",
       "    <tr>\n",
       "      <th>1</th>\n",
       "      <td>12</td>\n",
       "      <td>22</td>\n",
       "      <td>2</td>\n",
       "      <td>1</td>\n",
       "      <td>1</td>\n",
       "      <td>1.175573</td>\n",
       "      <td>484</td>\n",
       "      <td>4</td>\n",
       "      <td>0</td>\n",
       "      <td>0</td>\n",
       "    </tr>\n",
       "    <tr>\n",
       "      <th>2</th>\n",
       "      <td>11</td>\n",
       "      <td>2</td>\n",
       "      <td>0</td>\n",
       "      <td>0</td>\n",
       "      <td>0</td>\n",
       "      <td>1.098612</td>\n",
       "      <td>4</td>\n",
       "      <td>0</td>\n",
       "      <td>1</td>\n",
       "      <td>1</td>\n",
       "    </tr>\n",
       "    <tr>\n",
       "      <th>3</th>\n",
       "      <td>8</td>\n",
       "      <td>44</td>\n",
       "      <td>28</td>\n",
       "      <td>0</td>\n",
       "      <td>1</td>\n",
       "      <td>1.791759</td>\n",
       "      <td>1936</td>\n",
       "      <td>784</td>\n",
       "      <td>1</td>\n",
       "      <td>0</td>\n",
       "    </tr>\n",
       "    <tr>\n",
       "      <th>4</th>\n",
       "      <td>12</td>\n",
       "      <td>7</td>\n",
       "      <td>2</td>\n",
       "      <td>0</td>\n",
       "      <td>1</td>\n",
       "      <td>1.667707</td>\n",
       "      <td>49</td>\n",
       "      <td>4</td>\n",
       "      <td>1</td>\n",
       "      <td>0</td>\n",
       "    </tr>\n",
       "  </tbody>\n",
       "</table>\n",
       "</div>"
      ],
      "text/plain": [
       "   educ  exper  tenure  female  married  log_wage  expersq  tenuresq  male  \\\n",
       "0    11      2       0       1        0  1.131402        4         0     0   \n",
       "1    12     22       2       1        1  1.175573      484         4     0   \n",
       "2    11      2       0       0        0  1.098612        4         0     1   \n",
       "3     8     44      28       0        1  1.791759     1936       784     1   \n",
       "4    12      7       2       0        1  1.667707       49         4     1   \n",
       "\n",
       "   single  \n",
       "0       1  \n",
       "1       0  \n",
       "2       1  \n",
       "3       0  \n",
       "4       0  "
      ]
     },
     "execution_count": 5,
     "metadata": {},
     "output_type": "execute_result"
    }
   ],
   "source": [
    "df.head()"
   ]
  },
  {
   "cell_type": "code",
   "execution_count": 6,
   "metadata": {},
   "outputs": [],
   "source": [
    "df['marmale'] = df['married'] * df['male'] #cria uma coluna em que 1 indica \"homem casado\"\n",
    "df['marfem'] = df['married'] * df['female'] #cria uma coluna em que 1 indica \"mulher casada\"\n",
    "df['singfem'] = df['single'] * df['female'] #cria uma coluna em que 1 indica \"mulher solteira\""
   ]
  },
  {
   "cell_type": "code",
   "execution_count": 7,
   "metadata": {},
   "outputs": [
    {
     "data": {
      "text/html": [
       "<div>\n",
       "<style scoped>\n",
       "    .dataframe tbody tr th:only-of-type {\n",
       "        vertical-align: middle;\n",
       "    }\n",
       "\n",
       "    .dataframe tbody tr th {\n",
       "        vertical-align: top;\n",
       "    }\n",
       "\n",
       "    .dataframe thead th {\n",
       "        text-align: right;\n",
       "    }\n",
       "</style>\n",
       "<table border=\"1\" class=\"dataframe\">\n",
       "  <thead>\n",
       "    <tr style=\"text-align: right;\">\n",
       "      <th></th>\n",
       "      <th>educ</th>\n",
       "      <th>exper</th>\n",
       "      <th>tenure</th>\n",
       "      <th>female</th>\n",
       "      <th>married</th>\n",
       "      <th>log_wage</th>\n",
       "      <th>expersq</th>\n",
       "      <th>tenuresq</th>\n",
       "      <th>male</th>\n",
       "      <th>single</th>\n",
       "      <th>marmale</th>\n",
       "      <th>marfem</th>\n",
       "      <th>singfem</th>\n",
       "    </tr>\n",
       "  </thead>\n",
       "  <tbody>\n",
       "    <tr>\n",
       "      <th>0</th>\n",
       "      <td>11</td>\n",
       "      <td>2</td>\n",
       "      <td>0</td>\n",
       "      <td>1</td>\n",
       "      <td>0</td>\n",
       "      <td>1.131402</td>\n",
       "      <td>4</td>\n",
       "      <td>0</td>\n",
       "      <td>0</td>\n",
       "      <td>1</td>\n",
       "      <td>0</td>\n",
       "      <td>0</td>\n",
       "      <td>1</td>\n",
       "    </tr>\n",
       "    <tr>\n",
       "      <th>1</th>\n",
       "      <td>12</td>\n",
       "      <td>22</td>\n",
       "      <td>2</td>\n",
       "      <td>1</td>\n",
       "      <td>1</td>\n",
       "      <td>1.175573</td>\n",
       "      <td>484</td>\n",
       "      <td>4</td>\n",
       "      <td>0</td>\n",
       "      <td>0</td>\n",
       "      <td>0</td>\n",
       "      <td>1</td>\n",
       "      <td>0</td>\n",
       "    </tr>\n",
       "    <tr>\n",
       "      <th>2</th>\n",
       "      <td>11</td>\n",
       "      <td>2</td>\n",
       "      <td>0</td>\n",
       "      <td>0</td>\n",
       "      <td>0</td>\n",
       "      <td>1.098612</td>\n",
       "      <td>4</td>\n",
       "      <td>0</td>\n",
       "      <td>1</td>\n",
       "      <td>1</td>\n",
       "      <td>0</td>\n",
       "      <td>0</td>\n",
       "      <td>0</td>\n",
       "    </tr>\n",
       "    <tr>\n",
       "      <th>3</th>\n",
       "      <td>8</td>\n",
       "      <td>44</td>\n",
       "      <td>28</td>\n",
       "      <td>0</td>\n",
       "      <td>1</td>\n",
       "      <td>1.791759</td>\n",
       "      <td>1936</td>\n",
       "      <td>784</td>\n",
       "      <td>1</td>\n",
       "      <td>0</td>\n",
       "      <td>1</td>\n",
       "      <td>0</td>\n",
       "      <td>0</td>\n",
       "    </tr>\n",
       "    <tr>\n",
       "      <th>4</th>\n",
       "      <td>12</td>\n",
       "      <td>7</td>\n",
       "      <td>2</td>\n",
       "      <td>0</td>\n",
       "      <td>1</td>\n",
       "      <td>1.667707</td>\n",
       "      <td>49</td>\n",
       "      <td>4</td>\n",
       "      <td>1</td>\n",
       "      <td>0</td>\n",
       "      <td>1</td>\n",
       "      <td>0</td>\n",
       "      <td>0</td>\n",
       "    </tr>\n",
       "  </tbody>\n",
       "</table>\n",
       "</div>"
      ],
      "text/plain": [
       "   educ  exper  tenure  female  married  log_wage  expersq  tenuresq  male  \\\n",
       "0    11      2       0       1        0  1.131402        4         0     0   \n",
       "1    12     22       2       1        1  1.175573      484         4     0   \n",
       "2    11      2       0       0        0  1.098612        4         0     1   \n",
       "3     8     44      28       0        1  1.791759     1936       784     1   \n",
       "4    12      7       2       0        1  1.667707       49         4     1   \n",
       "\n",
       "   single  marmale  marfem  singfem  \n",
       "0       1        0       0        1  \n",
       "1       0        0       1        0  \n",
       "2       1        0       0        0  \n",
       "3       0        1       0        0  \n",
       "4       0        1       0        0  "
      ]
     },
     "execution_count": 7,
     "metadata": {},
     "output_type": "execute_result"
    }
   ],
   "source": [
    "df.head()"
   ]
  },
  {
   "cell_type": "code",
   "execution_count": null,
   "metadata": {},
   "outputs": [],
   "source": []
  },
  {
   "cell_type": "code",
   "execution_count": null,
   "metadata": {},
   "outputs": [],
   "source": []
  },
  {
   "cell_type": "code",
   "execution_count": null,
   "metadata": {},
   "outputs": [],
   "source": []
  },
  {
   "cell_type": "markdown",
   "metadata": {},
   "source": [
    "### Solução sugerida 1"
   ]
  },
  {
   "cell_type": "code",
   "execution_count": 8,
   "metadata": {},
   "outputs": [],
   "source": [
    "model = smf.ols('log_wage ~ marmale + marfem + singfem + educ + exper + expersq + tenure + tenuresq', data=df)\n",
    "reg = model.fit()"
   ]
  },
  {
   "cell_type": "code",
   "execution_count": 9,
   "metadata": {},
   "outputs": [
    {
     "name": "stdout",
     "output_type": "stream",
     "text": [
      "           params_MQO  se_MQO  se_robust\n",
      "Intercept      0.3214  0.1000     0.1085\n",
      "marmale        0.2127  0.0554     0.0567\n",
      "marfem        -0.1983  0.0578     0.0583\n",
      "singfem       -0.1104  0.0557     0.0566\n",
      "educ           0.0789  0.0067     0.0074\n",
      "exper          0.0268  0.0052     0.0051\n",
      "expersq       -0.0005  0.0001     0.0001\n",
      "tenure         0.0291  0.0068     0.0069\n",
      "tenuresq      -0.0005  0.0002     0.0002\n",
      "\n",
      "Núm. Obs.: 526\n",
      "R_quadrado: 0.461\n"
     ]
    }
   ],
   "source": [
    "tabela = pd.DataFrame()\n",
    "tabela['params_MQO'] = round(reg.params, 4)\n",
    "tabela['se_MQO'] = round(reg.bse, 4)\n",
    "tabela['se_robust'] = round(reg.HC0_se, 4)\n",
    "\n",
    "print(tabela)\n",
    "print(f\"\\nNúm. Obs.: {int(reg.nobs)}\\nR_quadrado: {round(reg.rsquared, 3)}\")"
   ]
  },
  {
   "cell_type": "code",
   "execution_count": null,
   "metadata": {},
   "outputs": [],
   "source": []
  },
  {
   "cell_type": "code",
   "execution_count": null,
   "metadata": {},
   "outputs": [],
   "source": []
  },
  {
   "cell_type": "code",
   "execution_count": null,
   "metadata": {},
   "outputs": [],
   "source": []
  },
  {
   "cell_type": "markdown",
   "metadata": {},
   "source": [
    "### Solução sugerida 2"
   ]
  },
  {
   "cell_type": "code",
   "execution_count": 10,
   "metadata": {},
   "outputs": [],
   "source": [
    "model = smf.ols('log_wage ~ marmale + marfem + singfem + educ + exper + expersq + tenure + tenuresq', data=df)\n",
    "reg = model.fit()\n",
    "reg_robust = model.fit(cov_type='HC0')"
   ]
  },
  {
   "cell_type": "code",
   "execution_count": 11,
   "metadata": {},
   "outputs": [
    {
     "name": "stdout",
     "output_type": "stream",
     "text": [
      "           Exemplo 8.1\n",
      "==================================\n",
      "               se_usual se_robusto\n",
      "----------------------------------\n",
      "Intercept      0.321    0.321     \n",
      "               (0.100)  (0.109)   \n",
      "marmale        0.213    0.213     \n",
      "               (0.055)  (0.057)   \n",
      "marfem         -0.198   -0.198    \n",
      "               (0.058)  (0.058)   \n",
      "singfem        -0.110   -0.110    \n",
      "               (0.056)  (0.057)   \n",
      "educ           0.079    0.079     \n",
      "               (0.007)  (0.007)   \n",
      "exper          0.027    0.027     \n",
      "               (0.005)  (0.005)   \n",
      "expersq        -0.001   -0.001    \n",
      "               (0.000)  (0.000)   \n",
      "tenure         0.029    0.029     \n",
      "               (0.007)  (0.007)   \n",
      "tenuresq       -0.001   -0.001    \n",
      "               (0.000)  (0.000)   \n",
      "R-squared      0.461    0.461     \n",
      "R-squared Adj. 0.453    0.453     \n",
      "==================================\n",
      "Standard errors in parentheses.\n",
      "Núm. de obs.: 526\n"
     ]
    }
   ],
   "source": [
    "results_table = sis.summary_col(results=[reg,reg_robust],\n",
    "                            float_format='%0.3f',\n",
    "                            stars = False,\n",
    "                            model_names=['se_usual',\n",
    "                                         'se_robusto'])\n",
    "\n",
    "results_table.add_title('Exemplo 8.1')\n",
    "results_table.add_text(f'Núm. de obs.: {int(model.nobs)}')\n",
    "print(results_table)"
   ]
  },
  {
   "cell_type": "code",
   "execution_count": null,
   "metadata": {},
   "outputs": [],
   "source": []
  },
  {
   "cell_type": "code",
   "execution_count": null,
   "metadata": {},
   "outputs": [],
   "source": []
  },
  {
   "cell_type": "code",
   "execution_count": null,
   "metadata": {},
   "outputs": [],
   "source": []
  },
  {
   "cell_type": "code",
   "execution_count": null,
   "metadata": {},
   "outputs": [],
   "source": []
  },
  {
   "cell_type": "code",
   "execution_count": null,
   "metadata": {},
   "outputs": [],
   "source": []
  },
  {
   "cell_type": "code",
   "execution_count": null,
   "metadata": {},
   "outputs": [],
   "source": []
  }
 ],
 "metadata": {
  "kernelspec": {
   "display_name": "Python 3",
   "language": "python",
   "name": "python3"
  },
  "language_info": {
   "codemirror_mode": {
    "name": "ipython",
    "version": 3
   },
   "file_extension": ".py",
   "mimetype": "text/x-python",
   "name": "python",
   "nbconvert_exporter": "python",
   "pygments_lexer": "ipython3",
   "version": "3.7.3"
  }
 },
 "nbformat": 4,
 "nbformat_minor": 2
}
