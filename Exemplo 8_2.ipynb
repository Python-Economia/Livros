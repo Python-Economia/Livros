{
 "cells": [
  {
   "cell_type": "code",
   "execution_count": null,
   "metadata": {},
   "outputs": [],
   "source": [
    "'''\n",
    "Introdução à Econometria - Uma abordagem moderna (Tradução da 6 edição norte-americana)\n",
    "Autor: WOOLDRIDGE, J. M.\n",
    "Editora: CENGAGE LEARNING\n",
    "\n",
    "Cap. 8: Heterocedasticidade (Heteroskedasticity)\n",
    "Exemplo 8.2: Estatística F robusta em relação à heterocedasticidade\n",
    "             (HETEROSKEDASTICITY-ROBUST F STATISTIC)\n",
    "             \n",
    "Arquivo com os dados: gpa3.xls\n",
    "\n",
    "Arquivo com dados em:\n",
    "http://students.cengage.com.br/dashboard/private/livroView.jsf;jsessionid=95E9AD889A4A4B7ABBD2A5251F1E14BE?id=104577\n",
    "\n",
    "Em caso de dúvidas ou problemas, solicitamos, por gentileza, entrar em contato pelo e-mail:\n",
    "python.economia@gmail.com\n",
    "'''"
   ]
  },
  {
   "cell_type": "code",
   "execution_count": 1,
   "metadata": {},
   "outputs": [],
   "source": [
    "import pandas as pd\n",
    "import statsmodels.formula.api as smf\n",
    "\n",
    "import statsmodels.iolib.summary2 as sis"
   ]
  },
  {
   "cell_type": "code",
   "execution_count": 2,
   "metadata": {},
   "outputs": [],
   "source": [
    "df = pd.read_excel('gpa3.xls',\n",
    "                   header=None,\n",
    "                   usecols=[1, 2, 3, 12, 13, 14, 15, 21],\n",
    "                   names=['sat', 'tothrs', 'cumgpa', 'spring','female','black', 'white', 'hsperc'])"
   ]
  },
  {
   "cell_type": "code",
   "execution_count": 3,
   "metadata": {},
   "outputs": [
    {
     "data": {
      "text/html": [
       "<div>\n",
       "<style scoped>\n",
       "    .dataframe tbody tr th:only-of-type {\n",
       "        vertical-align: middle;\n",
       "    }\n",
       "\n",
       "    .dataframe tbody tr th {\n",
       "        vertical-align: top;\n",
       "    }\n",
       "\n",
       "    .dataframe thead th {\n",
       "        text-align: right;\n",
       "    }\n",
       "</style>\n",
       "<table border=\"1\" class=\"dataframe\">\n",
       "  <thead>\n",
       "    <tr style=\"text-align: right;\">\n",
       "      <th></th>\n",
       "      <th>sat</th>\n",
       "      <th>tothrs</th>\n",
       "      <th>cumgpa</th>\n",
       "      <th>spring</th>\n",
       "      <th>female</th>\n",
       "      <th>black</th>\n",
       "      <th>white</th>\n",
       "      <th>hsperc</th>\n",
       "    </tr>\n",
       "  </thead>\n",
       "  <tbody>\n",
       "    <tr>\n",
       "      <th>0</th>\n",
       "      <td>920</td>\n",
       "      <td>31</td>\n",
       "      <td>2.25</td>\n",
       "      <td>0</td>\n",
       "      <td>1</td>\n",
       "      <td>0</td>\n",
       "      <td>0</td>\n",
       "      <td>40.00000</td>\n",
       "    </tr>\n",
       "    <tr>\n",
       "      <th>1</th>\n",
       "      <td>920</td>\n",
       "      <td>43</td>\n",
       "      <td>2.04</td>\n",
       "      <td>1</td>\n",
       "      <td>1</td>\n",
       "      <td>0</td>\n",
       "      <td>0</td>\n",
       "      <td>40.00000</td>\n",
       "    </tr>\n",
       "    <tr>\n",
       "      <th>2</th>\n",
       "      <td>780</td>\n",
       "      <td>28</td>\n",
       "      <td>2.03</td>\n",
       "      <td>0</td>\n",
       "      <td>0</td>\n",
       "      <td>0</td>\n",
       "      <td>1</td>\n",
       "      <td>82.92683</td>\n",
       "    </tr>\n",
       "    <tr>\n",
       "      <th>3</th>\n",
       "      <td>780</td>\n",
       "      <td>43</td>\n",
       "      <td>2.09</td>\n",
       "      <td>1</td>\n",
       "      <td>0</td>\n",
       "      <td>0</td>\n",
       "      <td>1</td>\n",
       "      <td>82.92683</td>\n",
       "    </tr>\n",
       "    <tr>\n",
       "      <th>4</th>\n",
       "      <td>810</td>\n",
       "      <td>0</td>\n",
       "      <td>0.00</td>\n",
       "      <td>0</td>\n",
       "      <td>0</td>\n",
       "      <td>0</td>\n",
       "      <td>1</td>\n",
       "      <td>35.29412</td>\n",
       "    </tr>\n",
       "  </tbody>\n",
       "</table>\n",
       "</div>"
      ],
      "text/plain": [
       "   sat  tothrs  cumgpa  spring  female  black  white    hsperc\n",
       "0  920      31    2.25       0       1      0      0  40.00000\n",
       "1  920      43    2.04       1       1      0      0  40.00000\n",
       "2  780      28    2.03       0       0      0      1  82.92683\n",
       "3  780      43    2.09       1       0      0      1  82.92683\n",
       "4  810       0    0.00       0       0      0      1  35.29412"
      ]
     },
     "execution_count": 3,
     "metadata": {},
     "output_type": "execute_result"
    }
   ],
   "source": [
    "df.head()"
   ]
  },
  {
   "cell_type": "code",
   "execution_count": null,
   "metadata": {},
   "outputs": [],
   "source": []
  },
  {
   "cell_type": "code",
   "execution_count": null,
   "metadata": {},
   "outputs": [],
   "source": []
  },
  {
   "cell_type": "code",
   "execution_count": null,
   "metadata": {},
   "outputs": [],
   "source": []
  },
  {
   "cell_type": "markdown",
   "metadata": {},
   "source": [
    "### Solução sugerida"
   ]
  },
  {
   "cell_type": "code",
   "execution_count": 4,
   "metadata": {},
   "outputs": [],
   "source": [
    "spring = (df['spring'] == 1)    # Apenas \"spring semester\"\n",
    "\n",
    "model = smf.ols('cumgpa ~ sat + hsperc + tothrs + female + black + white', data=df, subset=spring)\n",
    "reg = model.fit()\n",
    "reg_robust = model.fit(cov_type='HC0')    # implementa procedimento robusto em relação à heterocedasticidade"
   ]
  },
  {
   "cell_type": "code",
   "execution_count": 5,
   "metadata": {},
   "outputs": [
    {
     "name": "stdout",
     "output_type": "stream",
     "text": [
      "           Exemplo 8.2\n",
      "==================================\n",
      "               se_usual se_robusto\n",
      "----------------------------------\n",
      "Intercept      1.4701   1.4701    \n",
      "               (0.2298) (0.2186)  \n",
      "sat            0.0011   0.0011    \n",
      "               (0.0002) (0.0002)  \n",
      "hsperc         -0.0086  -0.0086   \n",
      "               (0.0012) (0.0014)  \n",
      "tothrs         0.0025   0.0025    \n",
      "               (0.0007) (0.0007)  \n",
      "female         0.3034   0.3034    \n",
      "               (0.0590) (0.0586)  \n",
      "black          -0.1283  -0.1283   \n",
      "               (0.1474) (0.1181)  \n",
      "white          -0.0587  -0.0587   \n",
      "               (0.1410) (0.1103)  \n",
      "R-squared      0.4006   0.4006    \n",
      "R-squared Adj. 0.3905   0.3905    \n",
      "==================================\n",
      "Standard errors in parentheses.\n",
      "Núm. de obs.: 366\n"
     ]
    }
   ],
   "source": [
    "results_table = sis.summary_col(results=[reg,reg_robust],\n",
    "                            float_format='%0.4f',\n",
    "                            stars = False,\n",
    "                            model_names=['se_usual',\n",
    "                                         'se_robusto'])\n",
    "\n",
    "results_table.add_title('Exemplo 8.2')\n",
    "results_table.add_text(f'Núm. de obs.: {int(model.nobs)}')\n",
    "print(results_table)"
   ]
  },
  {
   "cell_type": "code",
   "execution_count": 6,
   "metadata": {},
   "outputs": [
    {
     "name": "stdout",
     "output_type": "stream",
     "text": [
      "Estatística F: [0.67960436]\n",
      "Valor p: 0.5074682802133217\n"
     ]
    }
   ],
   "source": [
    "'''\n",
    "Estatística-F usual\n",
    "\n",
    "H0: B_black = B_white = 0\n",
    "H1: pelo menos um dos parâmetros na hipótese nula é diferente de zero\n",
    "'''\n",
    "\n",
    "hipotese = 'black = 0, white = 0'\n",
    "teste_f_usual = reg.f_test(hipotese)\n",
    "print(f\"Estatística F: {teste_f_usual.fvalue[0]}\")\n",
    "print(f\"Valor p: {teste_f_usual.pvalue}\")"
   ]
  },
  {
   "cell_type": "code",
   "execution_count": null,
   "metadata": {},
   "outputs": [],
   "source": []
  },
  {
   "cell_type": "code",
   "execution_count": 7,
   "metadata": {},
   "outputs": [
    {
     "name": "stdout",
     "output_type": "stream",
     "text": [
      "Estatística F: [0.74779717]\n",
      "Valor p: 0.4741441812838151\n"
     ]
    }
   ],
   "source": [
    "'''\n",
    "Estatística-F robusta em relação à heterocedasticidade\n",
    "\n",
    "H0: B_black = B_white = 0\n",
    "H1: pelo menos um dos parâmetros na hipótese nula é diferente de zero\n",
    "'''\n",
    "\n",
    "hipotese = 'black = 0, white = 0'\n",
    "teste_f_robust = reg_robust.f_test(hipotese)\n",
    "print(f\"Estatística F: {teste_f_robust.fvalue[0]}\")\n",
    "print(f\"Valor p: {teste_f_robust.pvalue}\")"
   ]
  },
  {
   "cell_type": "code",
   "execution_count": null,
   "metadata": {},
   "outputs": [],
   "source": []
  },
  {
   "cell_type": "code",
   "execution_count": null,
   "metadata": {},
   "outputs": [],
   "source": []
  },
  {
   "cell_type": "code",
   "execution_count": null,
   "metadata": {},
   "outputs": [],
   "source": []
  },
  {
   "cell_type": "code",
   "execution_count": null,
   "metadata": {},
   "outputs": [],
   "source": []
  }
 ],
 "metadata": {
  "kernelspec": {
   "display_name": "Python 3",
   "language": "python",
   "name": "python3"
  },
  "language_info": {
   "codemirror_mode": {
    "name": "ipython",
    "version": 3
   },
   "file_extension": ".py",
   "mimetype": "text/x-python",
   "name": "python",
   "nbconvert_exporter": "python",
   "pygments_lexer": "ipython3",
   "version": "3.7.3"
  }
 },
 "nbformat": 4,
 "nbformat_minor": 2
}
