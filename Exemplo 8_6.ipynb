{
 "cells": [
  {
   "cell_type": "code",
   "execution_count": null,
   "metadata": {},
   "outputs": [],
   "source": [
    "'''\n",
    "Introdução à Econometria - Uma abordagem moderna (Tradução da 6 edição norte-americana)\n",
    "Autor: WOOLDRIDGE, J. M.\n",
    "Editora: CENGAGE LEARNING\n",
    "\n",
    "Cap. 8: Heterocedasticidade (Heteroskedasticity)\n",
    "Exemplo 8.6: Equação de Patrimônio Financeiro\n",
    "             (FINANCIAL WEALTH EQUATION)\n",
    "             \n",
    "Arquivo com os dados: 401ksubs.xls\n",
    "\n",
    "Arquivo com dados em:\n",
    "http://students.cengage.com.br/dashboard/private/livroView.jsf;jsessionid=95E9AD889A4A4B7ABBD2A5251F1E14BE?id=104577\n",
    "\n",
    "Em caso de dúvidas ou problemas, solicitamos, por gentileza, entrar em contato pelo e-mail:\n",
    "python.economia@gmail.com\n",
    "'''"
   ]
  },
  {
   "cell_type": "code",
   "execution_count": 1,
   "metadata": {},
   "outputs": [],
   "source": [
    "import pandas as pd\n",
    "import statsmodels.formula.api as smf\n",
    "import numpy as np\n",
    "\n",
    "import statsmodels.iolib.summary2 as sis"
   ]
  },
  {
   "cell_type": "code",
   "execution_count": 2,
   "metadata": {},
   "outputs": [],
   "source": [
    "df = pd.read_excel('401ksubs.xls',\n",
    "                   header=None,\n",
    "                   usecols=[0, 1, 3, 4, 5, 6],\n",
    "                   names=['e401k', 'inc', 'male', 'age', 'fsize', 'nettfa'])"
   ]
  },
  {
   "cell_type": "code",
   "execution_count": 3,
   "metadata": {},
   "outputs": [
    {
     "data": {
      "text/html": [
       "<div>\n",
       "<style scoped>\n",
       "    .dataframe tbody tr th:only-of-type {\n",
       "        vertical-align: middle;\n",
       "    }\n",
       "\n",
       "    .dataframe tbody tr th {\n",
       "        vertical-align: top;\n",
       "    }\n",
       "\n",
       "    .dataframe thead th {\n",
       "        text-align: right;\n",
       "    }\n",
       "</style>\n",
       "<table border=\"1\" class=\"dataframe\">\n",
       "  <thead>\n",
       "    <tr style=\"text-align: right;\">\n",
       "      <th></th>\n",
       "      <th>e401k</th>\n",
       "      <th>inc</th>\n",
       "      <th>male</th>\n",
       "      <th>age</th>\n",
       "      <th>fsize</th>\n",
       "      <th>nettfa</th>\n",
       "    </tr>\n",
       "  </thead>\n",
       "  <tbody>\n",
       "    <tr>\n",
       "      <th>0</th>\n",
       "      <td>0</td>\n",
       "      <td>13.170</td>\n",
       "      <td>0</td>\n",
       "      <td>40</td>\n",
       "      <td>1</td>\n",
       "      <td>4.575</td>\n",
       "    </tr>\n",
       "    <tr>\n",
       "      <th>1</th>\n",
       "      <td>1</td>\n",
       "      <td>61.230</td>\n",
       "      <td>1</td>\n",
       "      <td>35</td>\n",
       "      <td>1</td>\n",
       "      <td>154.000</td>\n",
       "    </tr>\n",
       "    <tr>\n",
       "      <th>2</th>\n",
       "      <td>0</td>\n",
       "      <td>12.858</td>\n",
       "      <td>0</td>\n",
       "      <td>44</td>\n",
       "      <td>2</td>\n",
       "      <td>0.000</td>\n",
       "    </tr>\n",
       "    <tr>\n",
       "      <th>3</th>\n",
       "      <td>0</td>\n",
       "      <td>98.880</td>\n",
       "      <td>1</td>\n",
       "      <td>44</td>\n",
       "      <td>2</td>\n",
       "      <td>21.800</td>\n",
       "    </tr>\n",
       "    <tr>\n",
       "      <th>4</th>\n",
       "      <td>0</td>\n",
       "      <td>22.614</td>\n",
       "      <td>0</td>\n",
       "      <td>53</td>\n",
       "      <td>1</td>\n",
       "      <td>18.450</td>\n",
       "    </tr>\n",
       "  </tbody>\n",
       "</table>\n",
       "</div>"
      ],
      "text/plain": [
       "   e401k     inc  male  age  fsize   nettfa\n",
       "0      0  13.170     0   40      1    4.575\n",
       "1      1  61.230     1   35      1  154.000\n",
       "2      0  12.858     0   44      2    0.000\n",
       "3      0  98.880     1   44      2   21.800\n",
       "4      0  22.614     0   53      1   18.450"
      ]
     },
     "execution_count": 3,
     "metadata": {},
     "output_type": "execute_result"
    }
   ],
   "source": [
    "df.head()"
   ]
  },
  {
   "cell_type": "code",
   "execution_count": 4,
   "metadata": {},
   "outputs": [
    {
     "data": {
      "text/html": [
       "<div>\n",
       "<style scoped>\n",
       "    .dataframe tbody tr th:only-of-type {\n",
       "        vertical-align: middle;\n",
       "    }\n",
       "\n",
       "    .dataframe tbody tr th {\n",
       "        vertical-align: top;\n",
       "    }\n",
       "\n",
       "    .dataframe thead th {\n",
       "        text-align: right;\n",
       "    }\n",
       "</style>\n",
       "<table border=\"1\" class=\"dataframe\">\n",
       "  <thead>\n",
       "    <tr style=\"text-align: right;\">\n",
       "      <th></th>\n",
       "      <th>e401k</th>\n",
       "      <th>inc</th>\n",
       "      <th>male</th>\n",
       "      <th>age</th>\n",
       "      <th>fsize</th>\n",
       "      <th>nettfa</th>\n",
       "    </tr>\n",
       "  </thead>\n",
       "  <tbody>\n",
       "    <tr>\n",
       "      <th>0</th>\n",
       "      <td>0</td>\n",
       "      <td>13.170</td>\n",
       "      <td>0</td>\n",
       "      <td>40</td>\n",
       "      <td>1</td>\n",
       "      <td>4.575</td>\n",
       "    </tr>\n",
       "    <tr>\n",
       "      <th>1</th>\n",
       "      <td>1</td>\n",
       "      <td>61.230</td>\n",
       "      <td>1</td>\n",
       "      <td>35</td>\n",
       "      <td>1</td>\n",
       "      <td>154.000</td>\n",
       "    </tr>\n",
       "    <tr>\n",
       "      <th>4</th>\n",
       "      <td>0</td>\n",
       "      <td>22.614</td>\n",
       "      <td>0</td>\n",
       "      <td>53</td>\n",
       "      <td>1</td>\n",
       "      <td>18.450</td>\n",
       "    </tr>\n",
       "    <tr>\n",
       "      <th>9</th>\n",
       "      <td>1</td>\n",
       "      <td>29.100</td>\n",
       "      <td>1</td>\n",
       "      <td>45</td>\n",
       "      <td>1</td>\n",
       "      <td>29.600</td>\n",
       "    </tr>\n",
       "    <tr>\n",
       "      <th>15</th>\n",
       "      <td>0</td>\n",
       "      <td>19.074</td>\n",
       "      <td>1</td>\n",
       "      <td>43</td>\n",
       "      <td>1</td>\n",
       "      <td>0.000</td>\n",
       "    </tr>\n",
       "  </tbody>\n",
       "</table>\n",
       "</div>"
      ],
      "text/plain": [
       "    e401k     inc  male  age  fsize   nettfa\n",
       "0       0  13.170     0   40      1    4.575\n",
       "1       1  61.230     1   35      1  154.000\n",
       "4       0  22.614     0   53      1   18.450\n",
       "9       1  29.100     1   45      1   29.600\n",
       "15      0  19.074     1   43      1    0.000"
      ]
     },
     "execution_count": 4,
     "metadata": {},
     "output_type": "execute_result"
    }
   ],
   "source": [
    "filtro = (df['fsize'] == 1)    # Apenas famílias de uma única pessoa\n",
    "df_filtrado = df[filtro]\n",
    "\n",
    "df_filtrado.head()"
   ]
  },
  {
   "cell_type": "code",
   "execution_count": null,
   "metadata": {},
   "outputs": [],
   "source": []
  },
  {
   "cell_type": "code",
   "execution_count": null,
   "metadata": {},
   "outputs": [],
   "source": []
  },
  {
   "cell_type": "markdown",
   "metadata": {},
   "source": [
    "### Solução sugerida"
   ]
  },
  {
   "cell_type": "code",
   "execution_count": 5,
   "metadata": {},
   "outputs": [],
   "source": [
    "# Regressão pelo Método de Mínimos Quadrados Ordinários (MQO ou OLS na sigla em inglês)\n",
    "model_1 = smf.ols('nettfa ~ inc', data=df_filtrado)\n",
    "reg_1 = model_1.fit(cov_type='HC0')    # implementa procedimento robusto em relação à heterocedasticidade\n",
    "\n",
    "model_3 = smf.ols('nettfa ~ inc + np.square(age - 25) + male + e401k', data=df_filtrado)\n",
    "reg_3 = model_3.fit(cov_type='HC0')    # implementa procedimento robusto em relação à heterocedasticidade"
   ]
  },
  {
   "cell_type": "code",
   "execution_count": 6,
   "metadata": {},
   "outputs": [],
   "source": [
    "# Regressão pelo Método de Mínimos Quadrados Ponderados (MQP ou WLS na sigla em inglês)\n",
    "\n",
    "'''\n",
    "Hipótese utilizada neste exemplo para execução da regressão pelo método de Mínimos Quadrados Ponderados:\n",
    "var(u|inc) = sigma_quad * inc    -->  peso = 1 / inc\n",
    "'''\n",
    "peso_mqp = 1 / df_filtrado['inc'] \n",
    "\n",
    "model_2 = smf.wls('nettfa ~ inc', weights=peso_mqp, data=df_filtrado)\n",
    "reg_2 = model_2.fit()\n",
    "\n",
    "model_4 = smf.wls('nettfa ~ inc + np.square(age - 25) + male + e401k', weights=peso_mqp, data=df_filtrado)\n",
    "reg_4 = model_4.fit()\n"
   ]
  },
  {
   "cell_type": "code",
   "execution_count": 7,
   "metadata": {},
   "outputs": [
    {
     "name": "stdout",
     "output_type": "stream",
     "text": [
      "     Exemplo 8.6 [Variável dependente:nettfa]\n",
      "===================================================\n",
      "                       1       2       3       4   \n",
      "                     (MQO)   (MQP)   (MQO)   (MQP) \n",
      "---------------------------------------------------\n",
      "inc                 0.821   0.787   0.771   0.740  \n",
      "                    (0.104) (0.063) (0.099) (0.064)\n",
      "np.square(age - 25)                 0.025   0.018  \n",
      "                                    (0.004) (0.002)\n",
      "male                                2.478   1.841  \n",
      "                                    (2.056) (1.564)\n",
      "e401k                               6.886   5.188  \n",
      "                                    (2.284) (1.703)\n",
      "Intercept           -10.571 -9.581  -20.985 -16.703\n",
      "                    (2.529) (1.653) (3.491) (1.958)\n",
      "R-squared           0.083   0.071   0.128   0.112  \n",
      "R-squared Adj.      0.082   0.070   0.126   0.110  \n",
      "Núm. Obs.:          2017    2017    2017    2017   \n",
      "===================================================\n",
      "Standard errors in parentheses.\n"
     ]
    }
   ],
   "source": [
    "results_table = sis.summary_col(results=[reg_1,reg_2, reg_3, reg_4],\n",
    "                            float_format='%.3f',\n",
    "                            stars = False,\n",
    "                            model_names=['1\\n(MQO)', '2\\n(MQP)', '3\\n(MQO)', '4\\n(MQP)'],\n",
    "                            regressor_order=['inc', 'np.square(age - 25)', 'male', 'e401k', 'Intercept'],\n",
    "                            info_dict={\"Núm. Obs.:\": lambda x: f\"{int(x.nobs)}\"})\n",
    "\n",
    "results_table.add_title('Exemplo 8.6 [Variável dependente:nettfa]')\n",
    "print(results_table)"
   ]
  },
  {
   "cell_type": "code",
   "execution_count": 8,
   "metadata": {},
   "outputs": [
    {
     "name": "stdout",
     "output_type": "stream",
     "text": [
      "Estatística F: [30.66851822]\n",
      "Valor p: 2.205573511773886e-19\n"
     ]
    }
   ],
   "source": [
    "'''\n",
    "Estatística-F para o modelo 4 (em que usamos Mínimos Quadrados Ponderados)\n",
    "\n",
    "H0: B_(age - 25)**2 = 0, B_male = 0, B_e401k = 0\n",
    "H1: pelo menos um dos parâmetros na hipótese nula é diferente de zero\n",
    "'''\n",
    "\n",
    "hipotese = 'np.square(age - 25) = 0, male = 0, e401k = 0'\n",
    "teste_f = reg_4.f_test(hipotese)\n",
    "print(f\"Estatística F: {teste_f.fvalue[0]}\")\n",
    "print(f\"Valor p: {teste_f.pvalue}\")"
   ]
  },
  {
   "cell_type": "code",
   "execution_count": null,
   "metadata": {},
   "outputs": [],
   "source": [
    "'''\n",
    "Conclusão teste F\n",
    "\n",
    "O valor-p obtido é praticamente igual a zero (note que o valor de 2.2 é multiplicado por 10 elevado a -19). \n",
    "Assim temos uma forte evidência contra H0.\n",
    "'''"
   ]
  }
 ],
 "metadata": {
  "kernelspec": {
   "display_name": "Python 3",
   "language": "python",
   "name": "python3"
  },
  "language_info": {
   "codemirror_mode": {
    "name": "ipython",
    "version": 3
   },
   "file_extension": ".py",
   "mimetype": "text/x-python",
   "name": "python",
   "nbconvert_exporter": "python",
   "pygments_lexer": "ipython3",
   "version": "3.7.3"
  }
 },
 "nbformat": 4,
 "nbformat_minor": 2
}
