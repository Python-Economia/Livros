{
 "cells": [
  {
   "cell_type": "code",
   "execution_count": null,
   "metadata": {},
   "outputs": [],
   "source": [
    "'''\n",
    "Introdução à Econometria - Uma abordagem moderna (Tradução da 6 edição norte-americana)\n",
    "Autor: WOOLDRIDGE, J. M.\n",
    "Editora: CENGAGE LEARNING\n",
    "\n",
    "Cap. 6: Análise de regressão múltipla: problemas adicionais (Multiple Regression Analysis: Further Issues)\n",
    "Exemplo 6.3: Efeitos da frequência escolar no desempenho de exames finais\n",
    "             (EFFECTS OF ATTENDANCE ON FINAL EXAM PERFORMANCE)\n",
    "             \n",
    "Arquivo com os dados: attend.xls\n",
    "\n",
    "Arquivo com dados em:\n",
    "http://students.cengage.com.br/dashboard/private/livroView.jsf;jsessionid=95E9AD889A4A4B7ABBD2A5251F1E14BE?id=104577\n",
    "\n",
    "Em caso de dúvidas ou problemas, solicitamos, por gentileza, entrar em contato pelo e-mail:\n",
    "python.economia@gmail.com\n",
    "'''"
   ]
  },
  {
   "cell_type": "code",
   "execution_count": 1,
   "metadata": {},
   "outputs": [],
   "source": [
    "import pandas as pd\n",
    "import numpy as np\n",
    "import statsmodels.formula.api as smf\n",
    "import sympy as sp"
   ]
  },
  {
   "cell_type": "code",
   "execution_count": 2,
   "metadata": {},
   "outputs": [],
   "source": [
    "df = pd.read_excel('attend.xls',\n",
    "                   header=None,\n",
    "                   usecols=[2, 3, 5, 10],\n",
    "                   names=['priGPA', 'ACT', 'atndrte', 'stndfnl' ])"
   ]
  },
  {
   "cell_type": "code",
   "execution_count": 3,
   "metadata": {},
   "outputs": [
    {
     "data": {
      "text/html": [
       "<div>\n",
       "<style scoped>\n",
       "    .dataframe tbody tr th:only-of-type {\n",
       "        vertical-align: middle;\n",
       "    }\n",
       "\n",
       "    .dataframe tbody tr th {\n",
       "        vertical-align: top;\n",
       "    }\n",
       "\n",
       "    .dataframe thead th {\n",
       "        text-align: right;\n",
       "    }\n",
       "</style>\n",
       "<table border=\"1\" class=\"dataframe\">\n",
       "  <thead>\n",
       "    <tr style=\"text-align: right;\">\n",
       "      <th></th>\n",
       "      <th>priGPA</th>\n",
       "      <th>ACT</th>\n",
       "      <th>atndrte</th>\n",
       "      <th>stndfnl</th>\n",
       "    </tr>\n",
       "  </thead>\n",
       "  <tbody>\n",
       "    <tr>\n",
       "      <th>0</th>\n",
       "      <td>2.64</td>\n",
       "      <td>23</td>\n",
       "      <td>84.375</td>\n",
       "      <td>0.472689</td>\n",
       "    </tr>\n",
       "    <tr>\n",
       "      <th>1</th>\n",
       "      <td>3.52</td>\n",
       "      <td>25</td>\n",
       "      <td>68.750</td>\n",
       "      <td>0.052521</td>\n",
       "    </tr>\n",
       "    <tr>\n",
       "      <th>2</th>\n",
       "      <td>2.46</td>\n",
       "      <td>24</td>\n",
       "      <td>93.750</td>\n",
       "      <td>0.892857</td>\n",
       "    </tr>\n",
       "    <tr>\n",
       "      <th>3</th>\n",
       "      <td>2.61</td>\n",
       "      <td>20</td>\n",
       "      <td>96.875</td>\n",
       "      <td>0.262605</td>\n",
       "    </tr>\n",
       "    <tr>\n",
       "      <th>4</th>\n",
       "      <td>3.32</td>\n",
       "      <td>23</td>\n",
       "      <td>100.000</td>\n",
       "      <td>1.733193</td>\n",
       "    </tr>\n",
       "  </tbody>\n",
       "</table>\n",
       "</div>"
      ],
      "text/plain": [
       "   priGPA  ACT  atndrte   stndfnl\n",
       "0    2.64   23   84.375  0.472689\n",
       "1    3.52   25   68.750  0.052521\n",
       "2    2.46   24   93.750  0.892857\n",
       "3    2.61   20   96.875  0.262605\n",
       "4    3.32   23  100.000  1.733193"
      ]
     },
     "execution_count": 3,
     "metadata": {},
     "output_type": "execute_result"
    }
   ],
   "source": [
    "df.head()"
   ]
  },
  {
   "cell_type": "code",
   "execution_count": null,
   "metadata": {},
   "outputs": [],
   "source": []
  },
  {
   "cell_type": "code",
   "execution_count": null,
   "metadata": {},
   "outputs": [],
   "source": []
  },
  {
   "cell_type": "code",
   "execution_count": null,
   "metadata": {},
   "outputs": [],
   "source": []
  },
  {
   "cell_type": "markdown",
   "metadata": {},
   "source": [
    "### Comandos sugeridos"
   ]
  },
  {
   "cell_type": "markdown",
   "metadata": {},
   "source": [
    "#### Regressão por Mínimos Quadrados Ordinários (MQO ou OLS na sigla em inglês)"
   ]
  },
  {
   "cell_type": "code",
   "execution_count": 4,
   "metadata": {},
   "outputs": [
    {
     "data": {
      "text/html": [
       "<table class=\"simpletable\">\n",
       "<caption>OLS Regression Results</caption>\n",
       "<tr>\n",
       "  <th>Dep. Variable:</th>         <td>stndfnl</td>     <th>  R-squared:         </th> <td>   0.229</td>\n",
       "</tr>\n",
       "<tr>\n",
       "  <th>Model:</th>                   <td>OLS</td>       <th>  Adj. R-squared:    </th> <td>   0.222</td>\n",
       "</tr>\n",
       "<tr>\n",
       "  <th>Method:</th>             <td>Least Squares</td>  <th>  F-statistic:       </th> <td>   33.25</td>\n",
       "</tr>\n",
       "<tr>\n",
       "  <th>Date:</th>             <td>Fri, 22 Jul 2022</td> <th>  Prob (F-statistic):</th> <td>3.49e-35</td>\n",
       "</tr>\n",
       "<tr>\n",
       "  <th>Time:</th>                 <td>19:28:52</td>     <th>  Log-Likelihood:    </th> <td> -868.90</td>\n",
       "</tr>\n",
       "<tr>\n",
       "  <th>No. Observations:</th>      <td>   680</td>      <th>  AIC:               </th> <td>   1752.</td>\n",
       "</tr>\n",
       "<tr>\n",
       "  <th>Df Residuals:</th>          <td>   673</td>      <th>  BIC:               </th> <td>   1783.</td>\n",
       "</tr>\n",
       "<tr>\n",
       "  <th>Df Model:</th>              <td>     6</td>      <th>                     </th>     <td> </td>   \n",
       "</tr>\n",
       "<tr>\n",
       "  <th>Covariance Type:</th>      <td>nonrobust</td>    <th>                     </th>     <td> </td>   \n",
       "</tr>\n",
       "</table>\n",
       "<table class=\"simpletable\">\n",
       "<tr>\n",
       "          <td></td>             <th>coef</th>     <th>std err</th>      <th>t</th>      <th>P>|t|</th>  <th>[0.025</th>    <th>0.975]</th>  \n",
       "</tr>\n",
       "<tr>\n",
       "  <th>Intercept</th>         <td>    2.0503</td> <td>    1.360</td> <td>    1.507</td> <td> 0.132</td> <td>   -0.621</td> <td>    4.721</td>\n",
       "</tr>\n",
       "<tr>\n",
       "  <th>atndrte</th>           <td>   -0.0067</td> <td>    0.010</td> <td>   -0.656</td> <td> 0.512</td> <td>   -0.027</td> <td>    0.013</td>\n",
       "</tr>\n",
       "<tr>\n",
       "  <th>priGPA</th>            <td>   -1.6285</td> <td>    0.481</td> <td>   -3.386</td> <td> 0.001</td> <td>   -2.573</td> <td>   -0.684</td>\n",
       "</tr>\n",
       "<tr>\n",
       "  <th>ACT</th>               <td>   -0.1280</td> <td>    0.098</td> <td>   -1.300</td> <td> 0.194</td> <td>   -0.321</td> <td>    0.065</td>\n",
       "</tr>\n",
       "<tr>\n",
       "  <th>np.square(priGPA)</th> <td>    0.2959</td> <td>    0.101</td> <td>    2.928</td> <td> 0.004</td> <td>    0.097</td> <td>    0.494</td>\n",
       "</tr>\n",
       "<tr>\n",
       "  <th>np.square(ACT)</th>    <td>    0.0045</td> <td>    0.002</td> <td>    2.083</td> <td> 0.038</td> <td>    0.000</td> <td>    0.009</td>\n",
       "</tr>\n",
       "<tr>\n",
       "  <th>priGPA:atndrte</th>    <td>    0.0056</td> <td>    0.004</td> <td>    1.294</td> <td> 0.196</td> <td>   -0.003</td> <td>    0.014</td>\n",
       "</tr>\n",
       "</table>\n",
       "<table class=\"simpletable\">\n",
       "<tr>\n",
       "  <th>Omnibus:</th>       <td> 2.581</td> <th>  Durbin-Watson:     </th> <td>   2.279</td>\n",
       "</tr>\n",
       "<tr>\n",
       "  <th>Prob(Omnibus):</th> <td> 0.275</td> <th>  Jarque-Bera (JB):  </th> <td>   2.474</td>\n",
       "</tr>\n",
       "<tr>\n",
       "  <th>Skew:</th>          <td>-0.095</td> <th>  Prob(JB):          </th> <td>   0.290</td>\n",
       "</tr>\n",
       "<tr>\n",
       "  <th>Kurtosis:</th>      <td> 3.226</td> <th>  Cond. No.          </th> <td>2.43e+04</td>\n",
       "</tr>\n",
       "</table><br/><br/>Notes:<br/>[1] Standard Errors assume that the covariance matrix of the errors is correctly specified.<br/>[2] The condition number is large, 2.43e+04. This might indicate that there are<br/>strong multicollinearity or other numerical problems."
      ],
      "text/plain": [
       "<class 'statsmodels.iolib.summary.Summary'>\n",
       "\"\"\"\n",
       "                            OLS Regression Results                            \n",
       "==============================================================================\n",
       "Dep. Variable:                stndfnl   R-squared:                       0.229\n",
       "Model:                            OLS   Adj. R-squared:                  0.222\n",
       "Method:                 Least Squares   F-statistic:                     33.25\n",
       "Date:                Fri, 22 Jul 2022   Prob (F-statistic):           3.49e-35\n",
       "Time:                        19:28:52   Log-Likelihood:                -868.90\n",
       "No. Observations:                 680   AIC:                             1752.\n",
       "Df Residuals:                     673   BIC:                             1783.\n",
       "Df Model:                           6                                         \n",
       "Covariance Type:            nonrobust                                         \n",
       "=====================================================================================\n",
       "                        coef    std err          t      P>|t|      [0.025      0.975]\n",
       "-------------------------------------------------------------------------------------\n",
       "Intercept             2.0503      1.360      1.507      0.132      -0.621       4.721\n",
       "atndrte              -0.0067      0.010     -0.656      0.512      -0.027       0.013\n",
       "priGPA               -1.6285      0.481     -3.386      0.001      -2.573      -0.684\n",
       "ACT                  -0.1280      0.098     -1.300      0.194      -0.321       0.065\n",
       "np.square(priGPA)     0.2959      0.101      2.928      0.004       0.097       0.494\n",
       "np.square(ACT)        0.0045      0.002      2.083      0.038       0.000       0.009\n",
       "priGPA:atndrte        0.0056      0.004      1.294      0.196      -0.003       0.014\n",
       "==============================================================================\n",
       "Omnibus:                        2.581   Durbin-Watson:                   2.279\n",
       "Prob(Omnibus):                  0.275   Jarque-Bera (JB):                2.474\n",
       "Skew:                          -0.095   Prob(JB):                        0.290\n",
       "Kurtosis:                       3.226   Cond. No.                     2.43e+04\n",
       "==============================================================================\n",
       "\n",
       "Notes:\n",
       "[1] Standard Errors assume that the covariance matrix of the errors is correctly specified.\n",
       "[2] The condition number is large, 2.43e+04. This might indicate that there are\n",
       "strong multicollinearity or other numerical problems.\n",
       "\"\"\""
      ]
     },
     "execution_count": 4,
     "metadata": {},
     "output_type": "execute_result"
    }
   ],
   "source": [
    "# Regressão pelo Método de Mínimos Quadrados Ordinários (MQO ou OLS na sigla em inglês)\n",
    "# Inclui uma interação entre priGPA e atndrte (priGPA:atndrte)\n",
    "modelo = smf.ols(formula='stndfnl ~ atndrte + priGPA + ACT + np.square(priGPA) + np.square(ACT) + priGPA:atndrte', data=df)\n",
    "reg = modelo.fit()\n",
    "reg.summary()"
   ]
  },
  {
   "cell_type": "code",
   "execution_count": null,
   "metadata": {},
   "outputs": [],
   "source": []
  },
  {
   "cell_type": "code",
   "execution_count": null,
   "metadata": {},
   "outputs": [],
   "source": []
  },
  {
   "cell_type": "markdown",
   "metadata": {},
   "source": [
    "#### Testes de hipóteses individuais e conjuntas referentes B1 e B6"
   ]
  },
  {
   "cell_type": "code",
   "execution_count": 5,
   "metadata": {},
   "outputs": [
    {
     "data": {
      "text/plain": [
       "Intercept            0.132225\n",
       "atndrte              0.512005\n",
       "priGPA               0.000751\n",
       "ACT                  0.194047\n",
       "np.square(priGPA)    0.003523\n",
       "np.square(ACT)       0.037634\n",
       "priGPA:atndrte       0.196173\n",
       "dtype: float64"
      ]
     },
     "execution_count": 5,
     "metadata": {},
     "output_type": "execute_result"
    }
   ],
   "source": [
    "reg.pvalues"
   ]
  },
  {
   "cell_type": "code",
   "execution_count": null,
   "metadata": {},
   "outputs": [],
   "source": [
    "'''\n",
    "Teste de hipóteses individual (Teste t)\n",
    "H0: B_atndrte = 0                B_atndrte: B1\n",
    "H1: B_atndrte != 0\n",
    "\n",
    "Valor p = 51,20%. \n",
    "Valor p > 10%. Assim, atndrte é individualmente não significante se considerarmos qualquer nível padrão de nível de \n",
    "significância (1%, 5% ou 10%).\n",
    "'''"
   ]
  },
  {
   "cell_type": "code",
   "execution_count": null,
   "metadata": {},
   "outputs": [],
   "source": [
    "'''\n",
    "Teste de hipóteses individual (Teste t)\n",
    "H0: B_priGPA:atndrte = 0                (B_priGPA:atndrte): B6\n",
    "H1: B_priGPA:atndrte != 0\n",
    "\n",
    "Valor p = 19,62%. \n",
    "Valor p > 10%. Assim, priGPA:atndrte (termo de interação) é individualmente não significante se considerarmos qualquer nível \n",
    "padrão de nível de significância (1%, 5% ou 10%).\n",
    "'''"
   ]
  },
  {
   "cell_type": "code",
   "execution_count": null,
   "metadata": {},
   "outputs": [],
   "source": []
  },
  {
   "cell_type": "code",
   "execution_count": null,
   "metadata": {},
   "outputs": [],
   "source": [
    "'''\n",
    "Teste de hipóteses conjuntas (Teste F)\n",
    "H0: B_atndrte = 0, B_priGPA:atndrte = 0             B_atndrte: B1; (B_priGPA:atndrte): B6\n",
    "H1: pelo menos um dos parâmetros na hipótese nula é diferente de zero\n",
    "'''"
   ]
  },
  {
   "cell_type": "code",
   "execution_count": 6,
   "metadata": {},
   "outputs": [
    {
     "data": {
      "text/plain": [
       "array(0.01368385)"
      ]
     },
     "execution_count": 6,
     "metadata": {},
     "output_type": "execute_result"
    }
   ],
   "source": [
    "hipotese_nula = 'atndrte = 0, priGPA:atndrte = 0'\n",
    "teste_F = reg.f_test(hipotese_nula)\n",
    "teste_F.pvalue"
   ]
  },
  {
   "cell_type": "code",
   "execution_count": null,
   "metadata": {},
   "outputs": [],
   "source": [
    "'''\n",
    "Conclusão\n",
    "Como o valor p = 1,37%, rejeitamos H0 no nível de 5%.\n",
    "Assim, \"atndrte\" e \"priGPA:atndrte\" são conjuntamente significantes no nível de significância de 5% (ainda que, individualmente,\n",
    "não são significantes como vimos pelos testes t acima).\n",
    "\n",
    "'''"
   ]
  },
  {
   "cell_type": "code",
   "execution_count": null,
   "metadata": {},
   "outputs": [],
   "source": []
  },
  {
   "cell_type": "code",
   "execution_count": null,
   "metadata": {},
   "outputs": [],
   "source": []
  },
  {
   "cell_type": "markdown",
   "metadata": {},
   "source": [
    "#### Efeito parcial de atndrte sobre stndfnl (no valor médio de priGPA)"
   ]
  },
  {
   "cell_type": "code",
   "execution_count": 7,
   "metadata": {},
   "outputs": [
    {
     "data": {
      "text/plain": [
       "2.5867750000000016"
      ]
     },
     "execution_count": 7,
     "metadata": {},
     "output_type": "execute_result"
    }
   ],
   "source": [
    "# Média amostral de priGPA\n",
    "media_priGPA = df['priGPA'].mean()\n",
    "media_priGPA"
   ]
  },
  {
   "cell_type": "code",
   "execution_count": null,
   "metadata": {},
   "outputs": [],
   "source": []
  },
  {
   "cell_type": "code",
   "execution_count": 8,
   "metadata": {},
   "outputs": [],
   "source": [
    "# Estabelece variáveis como se fossem \"variáveis matemáticas\"\n",
    "B = sp.symbols('B:7', real=True)    # B será uma tupla com as variáveis simbólicas B0, B1, ..., B6\n",
    "stndfnl, atndrte, priGPA, ACT = sp.symbols('stndfnl, atndrte, priGPA, ACT', real=True)    "
   ]
  },
  {
   "cell_type": "code",
   "execution_count": 9,
   "metadata": {},
   "outputs": [
    {
     "data": {
      "text/latex": [
       "$\\displaystyle ACT^{2} B_{5} + ACT B_{3} + B_{0} + B_{1} atndrte + B_{2} priGPA + B_{4} priGPA^{2} + B_{6} atndrte priGPA$"
      ],
      "text/plain": [
       "ACT**2*B5 + ACT*B3 + B0 + B1*atndrte + B2*priGPA + B4*priGPA**2 + B6*atndrte*priGPA"
      ]
     },
     "execution_count": 9,
     "metadata": {},
     "output_type": "execute_result"
    }
   ],
   "source": [
    "# Estabelece a função stndfnl (não vamos incluir o termo de erro)\n",
    "stndfnl = B[0] + B[1] * atndrte + B[2] * priGPA + B[3] * ACT + B[4] * priGPA**2 + B[5]*ACT**2 + B[6] * priGPA*atndrte\n",
    "stndfnl"
   ]
  },
  {
   "cell_type": "code",
   "execution_count": 10,
   "metadata": {},
   "outputs": [
    {
     "data": {
      "text/plain": [
       "{B0: 'Intercept',\n",
       " B1: 'atndrte',\n",
       " B2: 'priGPA',\n",
       " B3: 'ACT',\n",
       " B4: 'np.square(priGPA)',\n",
       " B5: 'np.square(ACT)',\n",
       " B6: 'priGPA:atndrte'}"
      ]
     },
     "execution_count": 10,
     "metadata": {},
     "output_type": "execute_result"
    }
   ],
   "source": [
    "# Apenas cria um dicionário para facilitar encontrar as correspondências entre os parâmetros e as respectivas variáveis\n",
    "parametros = dict()\n",
    "for (k, var) in enumerate(reg.params.index):\n",
    "    parametros[B[k]] = var\n",
    "parametros"
   ]
  },
  {
   "cell_type": "code",
   "execution_count": null,
   "metadata": {},
   "outputs": [],
   "source": []
  },
  {
   "cell_type": "code",
   "execution_count": 11,
   "metadata": {},
   "outputs": [
    {
     "data": {
      "text/latex": [
       "$\\displaystyle B_{1} + B_{6} priGPA$"
      ],
      "text/plain": [
       "B1 + B6*priGPA"
      ]
     },
     "execution_count": 11,
     "metadata": {},
     "output_type": "execute_result"
    }
   ],
   "source": [
    "# derivada de stndfnl em relação à atndrte\n",
    "dstndfnl_datndrte = stndfnl.diff(atndrte)\n",
    "dstndfnl_datndrte"
   ]
  },
  {
   "cell_type": "code",
   "execution_count": 12,
   "metadata": {},
   "outputs": [
    {
     "data": {
      "text/latex": [
       "$\\displaystyle 0.00773655711196323$"
      ],
      "text/plain": [
       "0.00773655711196323"
      ]
     },
     "execution_count": 12,
     "metadata": {},
     "output_type": "execute_result"
    }
   ],
   "source": [
    "# Efeito parcial de atndrte sobre stndfnl no valor médio de priGPA\n",
    "dstndfnl_datndrte.subs({B[1]: reg.params['atndrte'], B[6]: reg.params['priGPA:atndrte'], priGPA:media_priGPA})"
   ]
  },
  {
   "cell_type": "code",
   "execution_count": null,
   "metadata": {},
   "outputs": [],
   "source": [
    "'''\n",
    "No valor médio de priGPA (= 2.59), o efeito de atndrte sobre stndfnl é 0.0077.\n",
    "'''"
   ]
  },
  {
   "cell_type": "code",
   "execution_count": null,
   "metadata": {},
   "outputs": [],
   "source": []
  },
  {
   "cell_type": "code",
   "execution_count": null,
   "metadata": {},
   "outputs": [],
   "source": []
  },
  {
   "cell_type": "markdown",
   "metadata": {},
   "source": [
    "#### Significância estatística do efeito parcial de atndrte sobre stndfnl calculado acima"
   ]
  },
  {
   "cell_type": "code",
   "execution_count": 13,
   "metadata": {},
   "outputs": [
    {
     "data": {
      "text/latex": [
       "$\\displaystyle B_{1} + B_{6} priGPA$"
      ],
      "text/plain": [
       "B1 + B6*priGPA"
      ]
     },
     "execution_count": 13,
     "metadata": {},
     "output_type": "execute_result"
    }
   ],
   "source": [
    "# derivada de stndfnl em relação à atndrte\n",
    "dstndfnl_datndrte"
   ]
  },
  {
   "cell_type": "code",
   "execution_count": null,
   "metadata": {},
   "outputs": [],
   "source": [
    "'''\n",
    "Queremos saber se a estimativa que obtivemos acima do efeito parcial de atndrte sobre stndfnl (=0.0077) na média de priGPA  é \n",
    "estatisticamente diferente de zero. Assim, fazemos o seguinte teste de hipóteses\n",
    "\n",
    "H0: B1 + B6 * priGPA = 0\n",
    "H1: B1 + B6 * priGPA != 0\n",
    "(para priGPA no seu valor amostral médio de 2.59)\n",
    "\n",
    "'''"
   ]
  },
  {
   "cell_type": "code",
   "execution_count": 14,
   "metadata": {},
   "outputs": [
    {
     "data": {
      "text/plain": [
       "'atndrte'"
      ]
     },
     "execution_count": 14,
     "metadata": {},
     "output_type": "execute_result"
    }
   ],
   "source": [
    "# Lembrando que B1 é o parâmetro associado à variável abaixo\n",
    "parametros[B[1]]"
   ]
  },
  {
   "cell_type": "code",
   "execution_count": 15,
   "metadata": {},
   "outputs": [
    {
     "data": {
      "text/plain": [
       "'priGPA:atndrte'"
      ]
     },
     "execution_count": 15,
     "metadata": {},
     "output_type": "execute_result"
    }
   ],
   "source": [
    "# Lembrando que B6 é o parâmetro associado à variável abaixo\n",
    "parametros[B[6]]"
   ]
  },
  {
   "cell_type": "code",
   "execution_count": 16,
   "metadata": {},
   "outputs": [],
   "source": [
    "# Para escrever a hipótese, substituímos B1 e B6 por suas respectivas variáveis: 'atndrte' e 'priGPA:atndrte'\n",
    "hipotese_nula = 'atndrte + priGPA:atndrte * 2.59 = 0'   # 2.59 é a média amostral de priGPA\n",
    "teste_t = reg.t_test(hipotese_nula)"
   ]
  },
  {
   "cell_type": "code",
   "execution_count": 17,
   "metadata": {},
   "outputs": [
    {
     "data": {
      "text/plain": [
       "array([[0.00263929]])"
      ]
     },
     "execution_count": 17,
     "metadata": {},
     "output_type": "execute_result"
    }
   ],
   "source": [
    "# Erro padrão\n",
    "teste_t.sd"
   ]
  },
  {
   "cell_type": "code",
   "execution_count": 18,
   "metadata": {},
   "outputs": [
    {
     "data": {
      "text/plain": [
       "array([[2.93812549]])"
      ]
     },
     "execution_count": 18,
     "metadata": {},
     "output_type": "execute_result"
    }
   ],
   "source": [
    "teste_t.tvalue"
   ]
  },
  {
   "cell_type": "code",
   "execution_count": 19,
   "metadata": {},
   "outputs": [
    {
     "data": {
      "text/plain": [
       "array(0.00341499)"
      ]
     },
     "execution_count": 19,
     "metadata": {},
     "output_type": "execute_result"
    }
   ],
   "source": [
    "teste_t.pvalue"
   ]
  },
  {
   "cell_type": "code",
   "execution_count": null,
   "metadata": {},
   "outputs": [],
   "source": [
    "'''\n",
    "Como o valor p (=0,3%) é menor do que 1%, concluímos que, na priGPA média, o efeito de atndrte sobre stndfnl é positivo e \n",
    "estatisticamente significante (em qualquer nível de significância padrão).\n",
    "'''"
   ]
  },
  {
   "cell_type": "code",
   "execution_count": null,
   "metadata": {},
   "outputs": [],
   "source": []
  },
  {
   "cell_type": "code",
   "execution_count": null,
   "metadata": {},
   "outputs": [],
   "source": []
  },
  {
   "cell_type": "markdown",
   "metadata": {},
   "source": [
    "#### Efeito parcial de priGPA sobre stndfnl"
   ]
  },
  {
   "cell_type": "code",
   "execution_count": 20,
   "metadata": {},
   "outputs": [
    {
     "data": {
      "text/latex": [
       "$\\displaystyle B_{2} + 2 B_{4} priGPA + B_{6} atndrte$"
      ],
      "text/plain": [
       "B2 + 2*B4*priGPA + B6*atndrte"
      ]
     },
     "execution_count": 20,
     "metadata": {},
     "output_type": "execute_result"
    }
   ],
   "source": [
    "dstndfnl_dpriGPA = stndfnl.diff(priGPA)\n",
    "dstndfnl_dpriGPA"
   ]
  },
  {
   "cell_type": "code",
   "execution_count": null,
   "metadata": {},
   "outputs": [],
   "source": []
  },
  {
   "cell_type": "code",
   "execution_count": null,
   "metadata": {},
   "outputs": [],
   "source": []
  },
  {
   "cell_type": "code",
   "execution_count": null,
   "metadata": {},
   "outputs": [],
   "source": []
  },
  {
   "cell_type": "code",
   "execution_count": null,
   "metadata": {},
   "outputs": [],
   "source": []
  },
  {
   "cell_type": "markdown",
   "metadata": {},
   "source": [
    "#### Observação: veja o que ocorre se utilizamos asterisco (*) no termo de interação, e não dois pontos (:) como no exemplo acima"
   ]
  },
  {
   "cell_type": "code",
   "execution_count": 21,
   "metadata": {},
   "outputs": [
    {
     "data": {
      "text/plain": [
       "Intercept        -0.241642\n",
       "np.square(ACT)    0.001858\n",
       "priGPA           -0.569470\n",
       "atndrte          -0.020711\n",
       "priGPA:atndrte    0.011484\n",
       "dtype: float64"
      ]
     },
     "execution_count": 21,
     "metadata": {},
     "output_type": "execute_result"
    }
   ],
   "source": [
    "modelo_ = smf.ols(formula='stndfnl ~ np.square(ACT) + priGPA*atndrte', data=df)\n",
    "reg_ = modelo_.fit()\n",
    "reg_.params"
   ]
  },
  {
   "cell_type": "code",
   "execution_count": null,
   "metadata": {},
   "outputs": [],
   "source": [
    "'''\n",
    "Embora só temos \"np.square(ACT)\" e \"priGPA*atndrte\" do lado direito da fórmula, a regressão é executada com \"priGPA\" e \n",
    "\"atndrte\" inseridas individualmente, além do termo de interação priGPA*atndrte.\n",
    "'''"
   ]
  },
  {
   "cell_type": "code",
   "execution_count": null,
   "metadata": {},
   "outputs": [],
   "source": []
  },
  {
   "cell_type": "code",
   "execution_count": null,
   "metadata": {},
   "outputs": [],
   "source": []
  },
  {
   "cell_type": "code",
   "execution_count": null,
   "metadata": {},
   "outputs": [],
   "source": []
  }
 ],
 "metadata": {
  "kernelspec": {
   "display_name": "Python 3",
   "language": "python",
   "name": "python3"
  },
  "language_info": {
   "codemirror_mode": {
    "name": "ipython",
    "version": 3
   },
   "file_extension": ".py",
   "mimetype": "text/x-python",
   "name": "python",
   "nbconvert_exporter": "python",
   "pygments_lexer": "ipython3",
   "version": "3.7.3"
  }
 },
 "nbformat": 4,
 "nbformat_minor": 2
}
