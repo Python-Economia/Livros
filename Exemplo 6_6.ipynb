{
 "cells": [
  {
   "cell_type": "code",
   "execution_count": null,
   "metadata": {
    "id": "USWqgpJsL50e"
   },
   "outputs": [],
   "source": [
    "'''\n",
    "Introdução à Econometria - Uma abordagem moderna (Tradução da 6 edição norte-americana)\n",
    "Autor: WOOLDRIDGE, J. M.\n",
    "Editora: CENGAGE LEARNING\n",
    "\n",
    "Cap. 6: Análise de regressão múltipla: problemas adicionais (Multiple Regression Analysis: Further Issues)\n",
    "Exemplo 6.6: Intervalo de confiança de notas médias futuras\n",
    "             (CONFIDENCE INTERVAL FOR FUTURE COLLEGE GPA)\n",
    "             \n",
    "Arquivo com os dados: gpa2.xls\n",
    "\n",
    "Arquivo com dados em:\n",
    "http://students.cengage.com.br/dashboard/private/livroView.jsf;jsessionid=95E9AD889A4A4B7ABBD2A5251F1E14BE?id=104577\n",
    "\n",
    "Em caso de dúvidas ou problemas, solicitamos, por gentileza, entrar em contato pelo e-mail:\n",
    "python.economia@gmail.com\n",
    "'''"
   ]
  },
  {
   "cell_type": "code",
   "execution_count": 1,
   "metadata": {
    "colab": {
     "base_uri": "https://localhost:8080/"
    },
    "executionInfo": {
     "elapsed": 1554,
     "status": "ok",
     "timestamp": 1658780316795,
     "user": {
      "displayName": "Charles Massami",
      "userId": "04969195849510864546"
     },
     "user_tz": 180
    },
    "id": "U16EbHJRNH5a",
    "outputId": "d50e1df8-ee17-4a36-eb3e-7cec3f388ed2"
   },
   "outputs": [],
   "source": [
    "import pandas as pd\n",
    "import statsmodels.formula.api as smf"
   ]
  },
  {
   "cell_type": "code",
   "execution_count": 2,
   "metadata": {
    "executionInfo": {
     "elapsed": 241,
     "status": "ok",
     "timestamp": 1658780318000,
     "user": {
      "displayName": "Charles Massami",
      "userId": "04969195849510864546"
     },
     "user_tz": 180
    },
    "id": "48m7ru52NLpx"
   },
   "outputs": [],
   "source": [
    "df = pd.read_excel('gpa2.xls',\n",
    "                   header=None,\n",
    "                   usecols=[0, 2, 5, 7, 11],\n",
    "                   names=['sat', 'colgpa', 'hsize', 'hsperc', 'hsizesq'])"
   ]
  },
  {
   "cell_type": "code",
   "execution_count": 3,
   "metadata": {
    "colab": {
     "base_uri": "https://localhost:8080/",
     "height": 206
    },
    "executionInfo": {
     "elapsed": 8,
     "status": "ok",
     "timestamp": 1658780319174,
     "user": {
      "displayName": "Charles Massami",
      "userId": "04969195849510864546"
     },
     "user_tz": 180
    },
    "id": "C4DdHGPFNNzx",
    "outputId": "60ce82bf-88f2-4f6a-b7a7-4e60c19824d6"
   },
   "outputs": [
    {
     "data": {
      "text/html": [
       "<div>\n",
       "<style scoped>\n",
       "    .dataframe tbody tr th:only-of-type {\n",
       "        vertical-align: middle;\n",
       "    }\n",
       "\n",
       "    .dataframe tbody tr th {\n",
       "        vertical-align: top;\n",
       "    }\n",
       "\n",
       "    .dataframe thead th {\n",
       "        text-align: right;\n",
       "    }\n",
       "</style>\n",
       "<table border=\"1\" class=\"dataframe\">\n",
       "  <thead>\n",
       "    <tr style=\"text-align: right;\">\n",
       "      <th></th>\n",
       "      <th>sat</th>\n",
       "      <th>colgpa</th>\n",
       "      <th>hsize</th>\n",
       "      <th>hsperc</th>\n",
       "      <th>hsizesq</th>\n",
       "    </tr>\n",
       "  </thead>\n",
       "  <tbody>\n",
       "    <tr>\n",
       "      <th>0</th>\n",
       "      <td>920</td>\n",
       "      <td>2.04</td>\n",
       "      <td>0.10</td>\n",
       "      <td>40.00000</td>\n",
       "      <td>0.0100</td>\n",
       "    </tr>\n",
       "    <tr>\n",
       "      <th>1</th>\n",
       "      <td>1170</td>\n",
       "      <td>4.00</td>\n",
       "      <td>9.40</td>\n",
       "      <td>20.31915</td>\n",
       "      <td>88.3600</td>\n",
       "    </tr>\n",
       "    <tr>\n",
       "      <th>2</th>\n",
       "      <td>810</td>\n",
       "      <td>1.78</td>\n",
       "      <td>1.19</td>\n",
       "      <td>35.29412</td>\n",
       "      <td>1.4161</td>\n",
       "    </tr>\n",
       "    <tr>\n",
       "      <th>3</th>\n",
       "      <td>940</td>\n",
       "      <td>2.42</td>\n",
       "      <td>5.71</td>\n",
       "      <td>44.13310</td>\n",
       "      <td>32.6041</td>\n",
       "    </tr>\n",
       "    <tr>\n",
       "      <th>4</th>\n",
       "      <td>1180</td>\n",
       "      <td>2.61</td>\n",
       "      <td>2.14</td>\n",
       "      <td>40.18692</td>\n",
       "      <td>4.5796</td>\n",
       "    </tr>\n",
       "  </tbody>\n",
       "</table>\n",
       "</div>"
      ],
      "text/plain": [
       "    sat  colgpa  hsize    hsperc  hsizesq\n",
       "0   920    2.04   0.10  40.00000   0.0100\n",
       "1  1170    4.00   9.40  20.31915  88.3600\n",
       "2   810    1.78   1.19  35.29412   1.4161\n",
       "3   940    2.42   5.71  44.13310  32.6041\n",
       "4  1180    2.61   2.14  40.18692   4.5796"
      ]
     },
     "execution_count": 3,
     "metadata": {},
     "output_type": "execute_result"
    }
   ],
   "source": [
    "df.head()"
   ]
  },
  {
   "cell_type": "code",
   "execution_count": null,
   "metadata": {},
   "outputs": [],
   "source": []
  },
  {
   "cell_type": "code",
   "execution_count": null,
   "metadata": {
    "id": "33LiXz45NN7p"
   },
   "outputs": [],
   "source": []
  },
  {
   "cell_type": "markdown",
   "metadata": {
    "id": "zs9YwgMeNSGD"
   },
   "source": [
    "### Comando sugeridos"
   ]
  },
  {
   "cell_type": "markdown",
   "metadata": {
    "id": "14pL_DnbNegj"
   },
   "source": [
    "#### Regressão por Mínimos Quadrados Ordinários (MQO ou OLS na sigla em inglês)"
   ]
  },
  {
   "cell_type": "code",
   "execution_count": 4,
   "metadata": {
    "executionInfo": {
     "elapsed": 217,
     "status": "ok",
     "timestamp": 1658780347027,
     "user": {
      "displayName": "Charles Massami",
      "userId": "04969195849510864546"
     },
     "user_tz": 180
    },
    "id": "5p4G_O0jNO45"
   },
   "outputs": [],
   "source": [
    "modelo = smf.ols(formula='colgpa ~ sat + hsperc + hsize + hsizesq', data=df)\n",
    "reg = modelo.fit()"
   ]
  },
  {
   "cell_type": "code",
   "execution_count": 5,
   "metadata": {},
   "outputs": [
    {
     "data": {
      "text/plain": [
       "array([[1.60174938, 3.79840159]])"
      ]
     },
     "execution_count": 5,
     "metadata": {},
     "output_type": "execute_result"
    }
   ],
   "source": [
    "# Intervalo de confiança de 95% para o colgpa futuro\n",
    "exog = {'sat': 1200, 'hsperc': 30, 'hsize': 5, 'hsizesq': 25}\n",
    "\n",
    "intervalo_confianca_colgpa = reg.get_prediction(exog)\n",
    "intervalo_confianca_colgpa.conf_int(obs=True, alpha=0.05)    # Para obter o IC de 95% no exemplo 6.5, usamos \"obs=False\""
   ]
  },
  {
   "cell_type": "code",
   "execution_count": null,
   "metadata": {},
   "outputs": [],
   "source": []
  },
  {
   "cell_type": "code",
   "execution_count": null,
   "metadata": {},
   "outputs": [],
   "source": []
  },
  {
   "cell_type": "markdown",
   "metadata": {},
   "source": [
    "#### Intervalo de Confiança de 95% para o colgpa futuro calculado pelo procedimento sugerido no livro"
   ]
  },
  {
   "cell_type": "code",
   "execution_count": 6,
   "metadata": {},
   "outputs": [],
   "source": [
    "sat = 1200\n",
    "hsperc = 30\n",
    "hsize = 5\n",
    "\n",
    "df['sat0'] = df['sat'] - sat\n",
    "df['hsperc0'] = df['hsperc'] - hsperc\n",
    "df['hsize0'] = df['hsize'] - hsize\n",
    "df['hsizesq0'] = df['hsizesq'] - hsize ** 2\n",
    "\n",
    "modelo_predict = smf.ols('colgpa ~ sat0 + hsperc0 + hsize0 + hsizesq0', data=df)\n",
    "reg_predict = modelo_predict.fit()"
   ]
  },
  {
   "cell_type": "code",
   "execution_count": 7,
   "metadata": {},
   "outputs": [
    {
     "data": {
      "text/plain": [
       "0.56"
      ]
     },
     "execution_count": 7,
     "metadata": {},
     "output_type": "execute_result"
    }
   ],
   "source": [
    "sigma_chapeu_predict = reg_predict.mse_resid ** 0.5\n",
    "round(sigma_chapeu_predict, 2)"
   ]
  },
  {
   "cell_type": "code",
   "execution_count": 8,
   "metadata": {
    "id": "JMsxFGqLDa-h"
   },
   "outputs": [
    {
     "data": {
      "text/plain": [
       "(1.602050928009031, 3.798100045733057)"
      ]
     },
     "execution_count": 8,
     "metadata": {},
     "output_type": "execute_result"
    }
   ],
   "source": [
    "# Intervalo de confiança de 95% para o colgpa futuro\n",
    "ep_e_chapeu = (reg_predict.bse['Intercept']**2  + sigma_chapeu_predict**2)**0.5\n",
    "inferior = reg_predict.params['Intercept'] - 1.96 * ep_e_chapeu\n",
    "superior = reg_predict.params['Intercept'] + 1.96 * ep_e_chapeu\n",
    "\n",
    "intervalo_confianca_95 = (inferior, superior)\n",
    "\n",
    "intervalo_confianca_95"
   ]
  },
  {
   "cell_type": "code",
   "execution_count": null,
   "metadata": {
    "id": "YoSfvj4EYSyX"
   },
   "outputs": [],
   "source": []
  },
  {
   "cell_type": "code",
   "execution_count": null,
   "metadata": {
    "id": "kFV9FqCZKCz9"
   },
   "outputs": [],
   "source": []
  }
 ],
 "metadata": {
  "colab": {
   "authorship_tag": "ABX9TyP6vtK0IhfGrOi9Yrx6cF0P",
   "collapsed_sections": [],
   "name": "6_4.ipynb",
   "provenance": []
  },
  "kernelspec": {
   "display_name": "Python 3",
   "language": "python",
   "name": "python3"
  },
  "language_info": {
   "codemirror_mode": {
    "name": "ipython",
    "version": 3
   },
   "file_extension": ".py",
   "mimetype": "text/x-python",
   "name": "python",
   "nbconvert_exporter": "python",
   "pygments_lexer": "ipython3",
   "version": "3.7.3"
  }
 },
 "nbformat": 4,
 "nbformat_minor": 1
}
