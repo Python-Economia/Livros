{
 "cells": [
  {
   "cell_type": "code",
   "execution_count": null,
   "metadata": {},
   "outputs": [],
   "source": [
    "'''\n",
    "Introdução à Econometria - Uma abordagem moderna (Tradução da 6 edição norte-americana)\n",
    "Autor: WOOLDRIDGE, J. M.\n",
    "Editora: CENGAGE LEARNING\n",
    "\n",
    "Cap. 6: Análise de regressão múltipla: problemas adicionais (Multiple Regression Analysis: Further Issues)\n",
    "Exemplo 6.2: Efeitos da poluição sobre os preços dos imóveis\n",
    "             (EFFECTS OF POLLUTION ON HOUSING PRICES)\n",
    "             \n",
    "Arquivo com os dados: hprice2.xls\n",
    "\n",
    "Arquivo com dados em:\n",
    "http://students.cengage.com.br/dashboard/private/livroView.jsf;jsessionid=95E9AD889A4A4B7ABBD2A5251F1E14BE?id=104577\n",
    "\n",
    "Em caso de dúvidas ou problemas, solicitamos, por gentileza, entrar em contato pelo e-mail:\n",
    "python.economia@gmail.com\n",
    "'''"
   ]
  },
  {
   "cell_type": "code",
   "execution_count": 1,
   "metadata": {},
   "outputs": [],
   "source": [
    "import pandas as pd\n",
    "import numpy as np\n",
    "import statsmodels.formula.api as smf\n",
    "import sympy as sp\n",
    "import matplotlib.pyplot as plt\n",
    "import matplotlib.patches as ptc"
   ]
  },
  {
   "cell_type": "code",
   "execution_count": 2,
   "metadata": {},
   "outputs": [],
   "source": [
    "df = pd.read_excel('hprice2.xls',\n",
    "                   header=None,\n",
    "                   usecols=[3, 4, 7, 9, 10],\n",
    "                   names=['rooms', 'dist', 'stratio', 'lprice', 'lnox'])"
   ]
  },
  {
   "cell_type": "code",
   "execution_count": 3,
   "metadata": {},
   "outputs": [
    {
     "data": {
      "text/html": [
       "<div>\n",
       "<style scoped>\n",
       "    .dataframe tbody tr th:only-of-type {\n",
       "        vertical-align: middle;\n",
       "    }\n",
       "\n",
       "    .dataframe tbody tr th {\n",
       "        vertical-align: top;\n",
       "    }\n",
       "\n",
       "    .dataframe thead th {\n",
       "        text-align: right;\n",
       "    }\n",
       "</style>\n",
       "<table border=\"1\" class=\"dataframe\">\n",
       "  <thead>\n",
       "    <tr style=\"text-align: right;\">\n",
       "      <th></th>\n",
       "      <th>rooms</th>\n",
       "      <th>dist</th>\n",
       "      <th>stratio</th>\n",
       "      <th>lprice</th>\n",
       "      <th>lnox</th>\n",
       "    </tr>\n",
       "  </thead>\n",
       "  <tbody>\n",
       "    <tr>\n",
       "      <th>0</th>\n",
       "      <td>6.57</td>\n",
       "      <td>4.09</td>\n",
       "      <td>15.3</td>\n",
       "      <td>10.085810</td>\n",
       "      <td>1.682688</td>\n",
       "    </tr>\n",
       "    <tr>\n",
       "      <th>1</th>\n",
       "      <td>6.42</td>\n",
       "      <td>4.97</td>\n",
       "      <td>17.8</td>\n",
       "      <td>9.980402</td>\n",
       "      <td>1.545433</td>\n",
       "    </tr>\n",
       "    <tr>\n",
       "      <th>2</th>\n",
       "      <td>7.18</td>\n",
       "      <td>4.97</td>\n",
       "      <td>17.8</td>\n",
       "      <td>10.454500</td>\n",
       "      <td>1.545433</td>\n",
       "    </tr>\n",
       "    <tr>\n",
       "      <th>3</th>\n",
       "      <td>7.00</td>\n",
       "      <td>6.06</td>\n",
       "      <td>18.7</td>\n",
       "      <td>10.416310</td>\n",
       "      <td>1.521699</td>\n",
       "    </tr>\n",
       "    <tr>\n",
       "      <th>4</th>\n",
       "      <td>7.15</td>\n",
       "      <td>6.06</td>\n",
       "      <td>18.7</td>\n",
       "      <td>10.496790</td>\n",
       "      <td>1.521699</td>\n",
       "    </tr>\n",
       "  </tbody>\n",
       "</table>\n",
       "</div>"
      ],
      "text/plain": [
       "   rooms  dist  stratio     lprice      lnox\n",
       "0   6.57  4.09     15.3  10.085810  1.682688\n",
       "1   6.42  4.97     17.8   9.980402  1.545433\n",
       "2   7.18  4.97     17.8  10.454500  1.545433\n",
       "3   7.00  6.06     18.7  10.416310  1.521699\n",
       "4   7.15  6.06     18.7  10.496790  1.521699"
      ]
     },
     "execution_count": 3,
     "metadata": {},
     "output_type": "execute_result"
    }
   ],
   "source": [
    "df.head()"
   ]
  },
  {
   "cell_type": "code",
   "execution_count": null,
   "metadata": {},
   "outputs": [],
   "source": []
  },
  {
   "cell_type": "code",
   "execution_count": null,
   "metadata": {},
   "outputs": [],
   "source": []
  },
  {
   "cell_type": "markdown",
   "metadata": {},
   "source": [
    "# Comandos sugeridos"
   ]
  },
  {
   "cell_type": "markdown",
   "metadata": {},
   "source": [
    "### Regressão pelo Método de Mínimos Quadrados Ordinários (MQO ou OLS na sigla em inglês)"
   ]
  },
  {
   "cell_type": "code",
   "execution_count": 4,
   "metadata": {},
   "outputs": [
    {
     "data": {
      "text/html": [
       "<table class=\"simpletable\">\n",
       "<caption>OLS Regression Results</caption>\n",
       "<tr>\n",
       "  <th>Dep. Variable:</th>         <td>lprice</td>      <th>  R-squared:         </th> <td>   0.603</td>\n",
       "</tr>\n",
       "<tr>\n",
       "  <th>Model:</th>                   <td>OLS</td>       <th>  Adj. R-squared:    </th> <td>   0.599</td>\n",
       "</tr>\n",
       "<tr>\n",
       "  <th>Method:</th>             <td>Least Squares</td>  <th>  F-statistic:       </th> <td>   151.8</td>\n",
       "</tr>\n",
       "<tr>\n",
       "  <th>Date:</th>             <td>Tue, 12 Jul 2022</td> <th>  Prob (F-statistic):</th> <td>7.90e-98</td>\n",
       "</tr>\n",
       "<tr>\n",
       "  <th>Time:</th>                 <td>19:11:33</td>     <th>  Log-Likelihood:    </th> <td> -31.807</td>\n",
       "</tr>\n",
       "<tr>\n",
       "  <th>No. Observations:</th>      <td>   506</td>      <th>  AIC:               </th> <td>   75.61</td>\n",
       "</tr>\n",
       "<tr>\n",
       "  <th>Df Residuals:</th>          <td>   500</td>      <th>  BIC:               </th> <td>   101.0</td>\n",
       "</tr>\n",
       "<tr>\n",
       "  <th>Df Model:</th>              <td>     5</td>      <th>                     </th>     <td> </td>   \n",
       "</tr>\n",
       "<tr>\n",
       "  <th>Covariance Type:</th>      <td>nonrobust</td>    <th>                     </th>     <td> </td>   \n",
       "</tr>\n",
       "</table>\n",
       "<table class=\"simpletable\">\n",
       "<tr>\n",
       "          <td></td>            <th>coef</th>     <th>std err</th>      <th>t</th>      <th>P>|t|</th>  <th>[0.025</th>    <th>0.975]</th>  \n",
       "</tr>\n",
       "<tr>\n",
       "  <th>Intercept</th>        <td>   13.3855</td> <td>    0.566</td> <td>   23.629</td> <td> 0.000</td> <td>   12.273</td> <td>   14.498</td>\n",
       "</tr>\n",
       "<tr>\n",
       "  <th>lnox</th>             <td>   -0.9017</td> <td>    0.115</td> <td>   -7.862</td> <td> 0.000</td> <td>   -1.127</td> <td>   -0.676</td>\n",
       "</tr>\n",
       "<tr>\n",
       "  <th>np.log(dist)</th>     <td>   -0.0868</td> <td>    0.043</td> <td>   -2.005</td> <td> 0.045</td> <td>   -0.172</td> <td>   -0.002</td>\n",
       "</tr>\n",
       "<tr>\n",
       "  <th>rooms</th>            <td>   -0.5451</td> <td>    0.165</td> <td>   -3.295</td> <td> 0.001</td> <td>   -0.870</td> <td>   -0.220</td>\n",
       "</tr>\n",
       "<tr>\n",
       "  <th>np.square(rooms)</th> <td>    0.0623</td> <td>    0.013</td> <td>    4.862</td> <td> 0.000</td> <td>    0.037</td> <td>    0.087</td>\n",
       "</tr>\n",
       "<tr>\n",
       "  <th>stratio</th>          <td>   -0.0476</td> <td>    0.006</td> <td>   -8.129</td> <td> 0.000</td> <td>   -0.059</td> <td>   -0.036</td>\n",
       "</tr>\n",
       "</table>\n",
       "<table class=\"simpletable\">\n",
       "<tr>\n",
       "  <th>Omnibus:</th>       <td>56.649</td> <th>  Durbin-Watson:     </th> <td>   0.691</td>\n",
       "</tr>\n",
       "<tr>\n",
       "  <th>Prob(Omnibus):</th> <td> 0.000</td> <th>  Jarque-Bera (JB):  </th> <td> 384.169</td>\n",
       "</tr>\n",
       "<tr>\n",
       "  <th>Skew:</th>          <td>-0.100</td> <th>  Prob(JB):          </th> <td>3.79e-84</td>\n",
       "</tr>\n",
       "<tr>\n",
       "  <th>Kurtosis:</th>      <td> 7.264</td> <th>  Cond. No.          </th> <td>2.30e+03</td>\n",
       "</tr>\n",
       "</table><br/><br/>Notes:<br/>[1] Standard Errors assume that the covariance matrix of the errors is correctly specified.<br/>[2] The condition number is large, 2.3e+03. This might indicate that there are<br/>strong multicollinearity or other numerical problems."
      ],
      "text/plain": [
       "<class 'statsmodels.iolib.summary.Summary'>\n",
       "\"\"\"\n",
       "                            OLS Regression Results                            \n",
       "==============================================================================\n",
       "Dep. Variable:                 lprice   R-squared:                       0.603\n",
       "Model:                            OLS   Adj. R-squared:                  0.599\n",
       "Method:                 Least Squares   F-statistic:                     151.8\n",
       "Date:                Tue, 12 Jul 2022   Prob (F-statistic):           7.90e-98\n",
       "Time:                        19:11:33   Log-Likelihood:                -31.807\n",
       "No. Observations:                 506   AIC:                             75.61\n",
       "Df Residuals:                     500   BIC:                             101.0\n",
       "Df Model:                           5                                         \n",
       "Covariance Type:            nonrobust                                         \n",
       "====================================================================================\n",
       "                       coef    std err          t      P>|t|      [0.025      0.975]\n",
       "------------------------------------------------------------------------------------\n",
       "Intercept           13.3855      0.566     23.629      0.000      12.273      14.498\n",
       "lnox                -0.9017      0.115     -7.862      0.000      -1.127      -0.676\n",
       "np.log(dist)        -0.0868      0.043     -2.005      0.045      -0.172      -0.002\n",
       "rooms               -0.5451      0.165     -3.295      0.001      -0.870      -0.220\n",
       "np.square(rooms)     0.0623      0.013      4.862      0.000       0.037       0.087\n",
       "stratio             -0.0476      0.006     -8.129      0.000      -0.059      -0.036\n",
       "==============================================================================\n",
       "Omnibus:                       56.649   Durbin-Watson:                   0.691\n",
       "Prob(Omnibus):                  0.000   Jarque-Bera (JB):              384.169\n",
       "Skew:                          -0.100   Prob(JB):                     3.79e-84\n",
       "Kurtosis:                       7.264   Cond. No.                     2.30e+03\n",
       "==============================================================================\n",
       "\n",
       "Notes:\n",
       "[1] Standard Errors assume that the covariance matrix of the errors is correctly specified.\n",
       "[2] The condition number is large, 2.3e+03. This might indicate that there are\n",
       "strong multicollinearity or other numerical problems.\n",
       "\"\"\""
      ]
     },
     "execution_count": 4,
     "metadata": {},
     "output_type": "execute_result"
    }
   ],
   "source": [
    "modelo = smf.ols(formula='lprice ~ lnox + np.log(dist) + rooms + np.square(rooms) + stratio', data=df)\n",
    "reg = modelo.fit()\n",
    "reg.summary()"
   ]
  },
  {
   "cell_type": "code",
   "execution_count": null,
   "metadata": {},
   "outputs": [],
   "source": [
    "'''\n",
    "Observação\n",
    "A estatística-t do termo quadrático \"rooms**2\" consta no livro como 4,77. Na tabela acima vemos o valor de 4,862. \n",
    "A diferença decorre de arredondamento.\n",
    "'''"
   ]
  },
  {
   "cell_type": "code",
   "execution_count": null,
   "metadata": {},
   "outputs": [],
   "source": []
  },
  {
   "cell_type": "code",
   "execution_count": null,
   "metadata": {},
   "outputs": [],
   "source": []
  },
  {
   "cell_type": "markdown",
   "metadata": {},
   "source": [
    "### Valores ótimos"
   ]
  },
  {
   "cell_type": "code",
   "execution_count": 5,
   "metadata": {},
   "outputs": [],
   "source": [
    "# Estabelece variáveis como se fossem \"variáveis matemáticas\"\n",
    "lnox, dist, rooms, stratio = sp.symbols('lnox, dist, rooms, stratio', real=True)    "
   ]
  },
  {
   "cell_type": "code",
   "execution_count": 6,
   "metadata": {},
   "outputs": [
    {
     "data": {
      "text/latex": [
       "$\\displaystyle - 0.901682908105255 lnox + 0.0622611472806876 rooms^{2} - 0.545112324481812 rooms - 0.0475902477592443 stratio - 0.0867819843703669 \\log{\\left(dist \\right)} + 13.3854789550098$"
      ],
      "text/plain": [
       "-0.901682908105255*lnox + 0.0622611472806876*rooms**2 - 0.545112324481812*rooms - 0.0475902477592443*stratio - 0.0867819843703669*log(dist) + 13.3854789550098"
      ]
     },
     "execution_count": 6,
     "metadata": {},
     "output_type": "execute_result"
    }
   ],
   "source": [
    "# Estabelece a função lprice\n",
    "lprice = reg.params['Intercept'] + reg.params['lnox'] * lnox + reg.params['np.log(dist)'] * sp.log(dist) +\\\n",
    "         reg.params['rooms'] * rooms + reg.params['np.square(rooms)'] * rooms**2 + reg.params['stratio']*stratio\n",
    "lprice"
   ]
  },
  {
   "cell_type": "code",
   "execution_count": 7,
   "metadata": {},
   "outputs": [
    {
     "data": {
      "text/latex": [
       "$\\displaystyle 0.124522294561375 rooms - 0.545112324481812$"
      ],
      "text/plain": [
       "0.124522294561375*rooms - 0.545112324481812"
      ]
     },
     "execution_count": 7,
     "metadata": {},
     "output_type": "execute_result"
    }
   ],
   "source": [
    "# derivada de lprice em relação à rooms\n",
    "dlprice_drooms = lprice.diff(rooms)\n",
    "dlprice_drooms"
   ]
  },
  {
   "cell_type": "code",
   "execution_count": 8,
   "metadata": {},
   "outputs": [
    {
     "data": {
      "text/plain": [
       "[{rooms: 4.37762833074952}]"
      ]
     },
     "execution_count": 8,
     "metadata": {},
     "output_type": "execute_result"
    }
   ],
   "source": [
    "# Soluciona \"dlprice_drooms = 0\" (Condição de 1ª ordem) para encontrar o ponto crítico\n",
    "sp.solvers.solve(dlprice_drooms, symbols=rooms, dict=True)"
   ]
  },
  {
   "cell_type": "code",
   "execution_count": null,
   "metadata": {},
   "outputs": [],
   "source": [
    "# Para rooms = 4.38, lprice atinge seu valor mínimo"
   ]
  },
  {
   "cell_type": "code",
   "execution_count": 9,
   "metadata": {},
   "outputs": [],
   "source": [
    "rooms_min = 4.37762833074952"
   ]
  },
  {
   "cell_type": "code",
   "execution_count": 10,
   "metadata": {},
   "outputs": [
    {
     "data": {
      "image/png": "[encoded data removed]",
      "text/plain": [
       "<Figure size 720x432 with 1 Axes>"
      ]
     },
     "metadata": {
      "needs_background": "light"
     },
     "output_type": "display_data"
    }
   ],
   "source": [
    "# Apenas para reprodução do gráfico (Figura 6.2), fixaremos as variáveis lnox, stratio, dist em seus valores médios\n",
    "lnox_mean = df['lnox'].mean()\n",
    "stratio_mean = df['stratio'].mean()\n",
    "dist_mean = df['dist'].mean()\n",
    "\n",
    "lprice_min = lprice.subs({rooms: rooms_min, lnox: lnox_mean, stratio: stratio_mean, dist: dist_mean})\n",
    "\n",
    "# A linha abaixo gera a sequencia: 0, 0.1 ,0.2, 0.3, ..., 8.9\n",
    "x = np.arange(0, 9, 0.1)        \n",
    "# y: valores para \"lprice\" quando \"rooms\" assume os valores da lista \"x\" acima, fixados lnox, stratio e dist em suas médias\n",
    "y = [lprice.subs({rooms: i, lnox: lnox_mean, stratio: stratio_mean, dist: dist_mean}) for i in x] \n",
    "\n",
    "plt.figure(figsize=(10, 6))\n",
    "plt.plot(x, y)\n",
    "plt.ylim(6, 12)\n",
    "plt.xlim(0, 9)\n",
    "plt.xticks(ticks=[rooms_min])\n",
    "plt.yticks(ticks=[])\n",
    "plt.xlabel('rooms', loc='right')\n",
    "plt.ylabel('log(price)', loc='top')\n",
    "plt.vlines(x=rooms_min, ymin=0, ymax=float(lprice_min), linestyles='--', color='red',linewidth=0.5)\n",
    "ax = plt.gca()\n",
    "ax.spines['top'].set_visible(False)\n",
    "ax.spines['right'].set_visible(False)\n",
    "ax.add_patch(ptc.Circle((rooms_min, float(lprice_min)), radius=0.2, edgecolor='red', linestyle='--', fill=False))\n",
    "plt.show()"
   ]
  },
  {
   "cell_type": "code",
   "execution_count": null,
   "metadata": {},
   "outputs": [],
   "source": []
  },
  {
   "cell_type": "code",
   "execution_count": null,
   "metadata": {},
   "outputs": [],
   "source": []
  },
  {
   "cell_type": "code",
   "execution_count": 11,
   "metadata": {},
   "outputs": [
    {
     "data": {
      "text/plain": [
       "5"
      ]
     },
     "execution_count": 11,
     "metadata": {},
     "output_type": "execute_result"
    }
   ],
   "source": [
    "# Número de comunidades na amostra que possuem imóveis com média de 4,4 cômodos ou menos\n",
    "filtro = df['rooms'] < 4.4\n",
    "filtro.sum()"
   ]
  },
  {
   "cell_type": "code",
   "execution_count": 12,
   "metadata": {},
   "outputs": [
    {
     "data": {
      "text/plain": [
       "0.9881422924901186"
      ]
     },
     "execution_count": 12,
     "metadata": {},
     "output_type": "execute_result"
    }
   ],
   "source": [
    "# Porcentagem de comunidades na amostra que possuem imóveis com média de 4,4 cômodos ou menos\n",
    "100 * (filtro.sum() / df['rooms'].count())"
   ]
  },
  {
   "cell_type": "code",
   "execution_count": null,
   "metadata": {},
   "outputs": [],
   "source": []
  },
  {
   "cell_type": "code",
   "execution_count": null,
   "metadata": {},
   "outputs": [],
   "source": []
  },
  {
   "cell_type": "code",
   "execution_count": null,
   "metadata": {},
   "outputs": [],
   "source": []
  },
  {
   "cell_type": "code",
   "execution_count": null,
   "metadata": {},
   "outputs": [],
   "source": []
  },
  {
   "cell_type": "markdown",
   "metadata": {},
   "source": [
    "### Efeitos marginais (retorno de um cômodo adicional)"
   ]
  },
  {
   "cell_type": "code",
   "execution_count": 13,
   "metadata": {},
   "outputs": [
    {
     "data": {
      "text/latex": [
       "$\\displaystyle 0.124522294561375 rooms - 0.545112324481812$"
      ],
      "text/plain": [
       "0.124522294561375*rooms - 0.545112324481812"
      ]
     },
     "execution_count": 13,
     "metadata": {},
     "output_type": "execute_result"
    }
   ],
   "source": [
    "dlprice_drooms"
   ]
  },
  {
   "cell_type": "code",
   "execution_count": 14,
   "metadata": {},
   "outputs": [
    {
     "data": {
      "text/latex": [
       "$\\displaystyle 7.74991483250641$"
      ],
      "text/plain": [
       "7.74991483250641"
      ]
     },
     "execution_count": 14,
     "metadata": {},
     "output_type": "execute_result"
    }
   ],
   "source": [
    "# Um aumento em \"rooms\" de 5 para 6 aumenta o preço em aproximadamente 7,75% (no livro consta 7,5%)\n",
    "100 * dlprice_drooms.subs({rooms: 5})"
   ]
  },
  {
   "cell_type": "code",
   "execution_count": 15,
   "metadata": {},
   "outputs": [
    {
     "data": {
      "text/latex": [
       "$\\displaystyle 20.2021442886439$"
      ],
      "text/plain": [
       "20.2021442886439"
      ]
     },
     "execution_count": 15,
     "metadata": {},
     "output_type": "execute_result"
    }
   ],
   "source": [
    "# Um aumento em \"rooms\" de 6 para 7 aumenta o preço em aproximadamente 20,2% (no livro consta 19,9%)\n",
    "100 * dlprice_drooms.subs({rooms: 6})"
   ]
  },
  {
   "cell_type": "code",
   "execution_count": 16,
   "metadata": {},
   "outputs": [
    {
     "data": {
      "text/latex": [
       "$\\displaystyle 32.6543737447815$"
      ],
      "text/plain": [
       "32.6543737447815"
      ]
     },
     "execution_count": 16,
     "metadata": {},
     "output_type": "execute_result"
    }
   ],
   "source": [
    "# Um aumento em \"rooms\" de 7 para 8 aumenta o preço em aproximadamente 32,65% (no livro consta 32,3%)\n",
    "100 * dlprice_drooms.subs({rooms: 7})"
   ]
  },
  {
   "cell_type": "code",
   "execution_count": 17,
   "metadata": {},
   "outputs": [
    {
     "data": {
      "text/latex": [
       "$\\displaystyle 25.8056475439058$"
      ],
      "text/plain": [
       "25.8056475439058"
      ]
     },
     "execution_count": 17,
     "metadata": {},
     "output_type": "execute_result"
    }
   ],
   "source": [
    "# Efeito de um cômodo a mais no preço quando rooms = 6.45\n",
    "100 * dlprice_drooms.subs({rooms: 6.45})"
   ]
  },
  {
   "cell_type": "code",
   "execution_count": null,
   "metadata": {},
   "outputs": [],
   "source": []
  },
  {
   "cell_type": "code",
   "execution_count": null,
   "metadata": {},
   "outputs": [],
   "source": []
  },
  {
   "cell_type": "markdown",
   "metadata": {},
   "source": [
    "### Regressão eliminando-se o termo quadrático (rooms**2)"
   ]
  },
  {
   "cell_type": "code",
   "execution_count": 18,
   "metadata": {},
   "outputs": [
    {
     "data": {
      "text/html": [
       "<table class=\"simpletable\">\n",
       "<caption>OLS Regression Results</caption>\n",
       "<tr>\n",
       "  <th>Dep. Variable:</th>         <td>lprice</td>      <th>  R-squared:         </th> <td>   0.584</td>\n",
       "</tr>\n",
       "<tr>\n",
       "  <th>Model:</th>                   <td>OLS</td>       <th>  Adj. R-squared:    </th> <td>   0.581</td>\n",
       "</tr>\n",
       "<tr>\n",
       "  <th>Method:</th>             <td>Least Squares</td>  <th>  F-statistic:       </th> <td>   175.9</td>\n",
       "</tr>\n",
       "<tr>\n",
       "  <th>Date:</th>             <td>Tue, 12 Jul 2022</td> <th>  Prob (F-statistic):</th> <td>5.53e-94</td>\n",
       "</tr>\n",
       "<tr>\n",
       "  <th>Time:</th>                 <td>19:13:03</td>     <th>  Log-Likelihood:    </th> <td> -43.495</td>\n",
       "</tr>\n",
       "<tr>\n",
       "  <th>No. Observations:</th>      <td>   506</td>      <th>  AIC:               </th> <td>   96.99</td>\n",
       "</tr>\n",
       "<tr>\n",
       "  <th>Df Residuals:</th>          <td>   501</td>      <th>  BIC:               </th> <td>   118.1</td>\n",
       "</tr>\n",
       "<tr>\n",
       "  <th>Df Model:</th>              <td>     4</td>      <th>                     </th>     <td> </td>   \n",
       "</tr>\n",
       "<tr>\n",
       "  <th>Covariance Type:</th>      <td>nonrobust</td>    <th>                     </th>     <td> </td>   \n",
       "</tr>\n",
       "</table>\n",
       "<table class=\"simpletable\">\n",
       "<tr>\n",
       "        <td></td>          <th>coef</th>     <th>std err</th>      <th>t</th>      <th>P>|t|</th>  <th>[0.025</th>    <th>0.975]</th>  \n",
       "</tr>\n",
       "<tr>\n",
       "  <th>Intercept</th>    <td>   11.0839</td> <td>    0.318</td> <td>   34.843</td> <td> 0.000</td> <td>   10.459</td> <td>   11.709</td>\n",
       "</tr>\n",
       "<tr>\n",
       "  <th>lnox</th>         <td>   -0.9535</td> <td>    0.117</td> <td>   -8.168</td> <td> 0.000</td> <td>   -1.183</td> <td>   -0.724</td>\n",
       "</tr>\n",
       "<tr>\n",
       "  <th>np.log(dist)</th> <td>   -0.1343</td> <td>    0.043</td> <td>   -3.117</td> <td> 0.002</td> <td>   -0.219</td> <td>   -0.050</td>\n",
       "</tr>\n",
       "<tr>\n",
       "  <th>rooms</th>        <td>    0.2545</td> <td>    0.019</td> <td>   13.736</td> <td> 0.000</td> <td>    0.218</td> <td>    0.291</td>\n",
       "</tr>\n",
       "<tr>\n",
       "  <th>stratio</th>      <td>   -0.0525</td> <td>    0.006</td> <td>   -8.894</td> <td> 0.000</td> <td>   -0.064</td> <td>   -0.041</td>\n",
       "</tr>\n",
       "</table>\n",
       "<table class=\"simpletable\">\n",
       "<tr>\n",
       "  <th>Omnibus:</th>       <td>61.317</td> <th>  Durbin-Watson:     </th> <td>   0.682</td> \n",
       "</tr>\n",
       "<tr>\n",
       "  <th>Prob(Omnibus):</th> <td> 0.000</td> <th>  Jarque-Bera (JB):  </th> <td> 480.141</td> \n",
       "</tr>\n",
       "<tr>\n",
       "  <th>Skew:</th>          <td> 0.051</td> <th>  Prob(JB):          </th> <td>5.48e-105</td>\n",
       "</tr>\n",
       "<tr>\n",
       "  <th>Kurtosis:</th>      <td> 7.771</td> <th>  Cond. No.          </th> <td>    560.</td> \n",
       "</tr>\n",
       "</table><br/><br/>Notes:<br/>[1] Standard Errors assume that the covariance matrix of the errors is correctly specified."
      ],
      "text/plain": [
       "<class 'statsmodels.iolib.summary.Summary'>\n",
       "\"\"\"\n",
       "                            OLS Regression Results                            \n",
       "==============================================================================\n",
       "Dep. Variable:                 lprice   R-squared:                       0.584\n",
       "Model:                            OLS   Adj. R-squared:                  0.581\n",
       "Method:                 Least Squares   F-statistic:                     175.9\n",
       "Date:                Tue, 12 Jul 2022   Prob (F-statistic):           5.53e-94\n",
       "Time:                        19:13:03   Log-Likelihood:                -43.495\n",
       "No. Observations:                 506   AIC:                             96.99\n",
       "Df Residuals:                     501   BIC:                             118.1\n",
       "Df Model:                           4                                         \n",
       "Covariance Type:            nonrobust                                         \n",
       "================================================================================\n",
       "                   coef    std err          t      P>|t|      [0.025      0.975]\n",
       "--------------------------------------------------------------------------------\n",
       "Intercept       11.0839      0.318     34.843      0.000      10.459      11.709\n",
       "lnox            -0.9535      0.117     -8.168      0.000      -1.183      -0.724\n",
       "np.log(dist)    -0.1343      0.043     -3.117      0.002      -0.219      -0.050\n",
       "rooms            0.2545      0.019     13.736      0.000       0.218       0.291\n",
       "stratio         -0.0525      0.006     -8.894      0.000      -0.064      -0.041\n",
       "==============================================================================\n",
       "Omnibus:                       61.317   Durbin-Watson:                   0.682\n",
       "Prob(Omnibus):                  0.000   Jarque-Bera (JB):              480.141\n",
       "Skew:                           0.051   Prob(JB):                    5.48e-105\n",
       "Kurtosis:                       7.771   Cond. No.                         560.\n",
       "==============================================================================\n",
       "\n",
       "Notes:\n",
       "[1] Standard Errors assume that the covariance matrix of the errors is correctly specified.\n",
       "\"\"\""
      ]
     },
     "execution_count": 18,
     "metadata": {},
     "output_type": "execute_result"
    }
   ],
   "source": [
    "modelo_1 = smf.ols(formula='lprice ~ lnox + np.log(dist) + rooms + stratio', data=df)\n",
    "reg_1 = modelo_1.fit()\n",
    "reg_1.summary()"
   ]
  },
  {
   "cell_type": "code",
   "execution_count": null,
   "metadata": {},
   "outputs": [],
   "source": []
  },
  {
   "cell_type": "code",
   "execution_count": null,
   "metadata": {},
   "outputs": [],
   "source": []
  },
  {
   "cell_type": "markdown",
   "metadata": {},
   "source": [
    "### Nota sobre List Comprehension"
   ]
  },
  {
   "cell_type": "code",
   "execution_count": 19,
   "metadata": {},
   "outputs": [
    {
     "data": {
      "text/plain": [
       "[1, 4, 9, 16]"
      ]
     },
     "execution_count": 19,
     "metadata": {},
     "output_type": "execute_result"
    }
   ],
   "source": [
    "lista = []\n",
    "for i in [1, 2, 3, 4]:\n",
    "    lista.append(i**2)\n",
    "\n",
    "lista"
   ]
  },
  {
   "cell_type": "code",
   "execution_count": 20,
   "metadata": {},
   "outputs": [
    {
     "data": {
      "text/plain": [
       "[1, 4, 9, 16]"
      ]
     },
     "execution_count": 20,
     "metadata": {},
     "output_type": "execute_result"
    }
   ],
   "source": [
    "# Este comando gera a mesma lista da célula acima (list comprehension)\n",
    "[i**2 for i in [1, 2, 3, 4]]"
   ]
  },
  {
   "cell_type": "code",
   "execution_count": null,
   "metadata": {},
   "outputs": [],
   "source": []
  },
  {
   "cell_type": "code",
   "execution_count": null,
   "metadata": {},
   "outputs": [],
   "source": []
  },
  {
   "cell_type": "markdown",
   "metadata": {},
   "source": [
    "### Notas sobre alguns comandos do sympy"
   ]
  },
  {
   "cell_type": "code",
   "execution_count": 21,
   "metadata": {},
   "outputs": [],
   "source": [
    "# cria as variáveis \"x\" e \"z\" como se fossem variáveis matemáticas (assumindo valores no conjunto dos números reais)\n",
    "x, z = sp.symbols('x, z', real=True)"
   ]
  },
  {
   "cell_type": "code",
   "execution_count": 22,
   "metadata": {},
   "outputs": [
    {
     "data": {
      "text/latex": [
       "$\\displaystyle x^{3} - 3 x + z$"
      ],
      "text/plain": [
       "x**3 - 3*x + z"
      ]
     },
     "execution_count": 22,
     "metadata": {},
     "output_type": "execute_result"
    }
   ],
   "source": [
    "# cria \"y\" como uma \"função de x\"\n",
    "y = x**3 - 3*x + z\n",
    "y"
   ]
  },
  {
   "cell_type": "code",
   "execution_count": 23,
   "metadata": {},
   "outputs": [
    {
     "data": {
      "text/latex": [
       "$\\displaystyle 1$"
      ],
      "text/plain": [
       "1"
      ]
     },
     "execution_count": 23,
     "metadata": {},
     "output_type": "execute_result"
    }
   ],
   "source": [
    "# encontra o valor de y para x = -2 e z = 3\n",
    "y.subs({x: -2, z: 3})"
   ]
  },
  {
   "cell_type": "code",
   "execution_count": 24,
   "metadata": {},
   "outputs": [
    {
     "data": {
      "text/latex": [
       "$\\displaystyle 1.667$"
      ],
      "text/plain": [
       "1.667"
      ]
     },
     "execution_count": 24,
     "metadata": {},
     "output_type": "execute_result"
    }
   ],
   "source": [
    "# Alternativa para cálculo da função num ponto em que podemos escolher \"uma acurácia de n dígitos\"\n",
    "y.evalf(n=4, subs={x: 0, z: 5/3})"
   ]
  },
  {
   "cell_type": "code",
   "execution_count": 25,
   "metadata": {},
   "outputs": [
    {
     "data": {
      "text/latex": [
       "$\\displaystyle 3 x^{2} - 3$"
      ],
      "text/plain": [
       "3*x**2 - 3"
      ]
     },
     "execution_count": 25,
     "metadata": {},
     "output_type": "execute_result"
    }
   ],
   "source": [
    "# Encontra a derivada parcial de y em relação à x\n",
    "dy_dx = y.diff(x)\n",
    "dy_dx"
   ]
  },
  {
   "cell_type": "code",
   "execution_count": 26,
   "metadata": {},
   "outputs": [
    {
     "data": {
      "text/plain": [
       "[{x: -1}, {x: 1}]"
      ]
     },
     "execution_count": 26,
     "metadata": {},
     "output_type": "execute_result"
    }
   ],
   "source": [
    "# Encontra o valor de x para que \"dy_dx = 0\" ; sendo dy_dx = 3x**2 - 3\n",
    "sp.solvers.solve(dy_dx, symbols=x, dict=True)"
   ]
  }
 ],
 "metadata": {
  "kernelspec": {
   "display_name": "Python 3",
   "language": "python",
   "name": "python3"
  },
  "language_info": {
   "codemirror_mode": {
    "name": "ipython",
    "version": 3
   },
   "file_extension": ".py",
   "mimetype": "text/x-python",
   "name": "python",
   "nbconvert_exporter": "python",
   "pygments_lexer": "ipython3",
   "version": "3.7.3"
  }
 },
 "nbformat": 4,
 "nbformat_minor": 2
}
