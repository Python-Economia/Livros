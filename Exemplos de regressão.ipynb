{
 "cells": [
  {
   "cell_type": "code",
   "execution_count": null,
   "metadata": {},
   "outputs": [],
   "source": [
    "'''\n",
    "Este arquivo contém um resumo dos comandos utilizados para rodar regressões por MQO para diferentes modelos.\n",
    "\n",
    "No que segue:\n",
    "\n",
    "- Considere que as importações dos módulos foram feitas da seguinte forma:\n",
    "\n",
    "import pandas as pd\n",
    "import numpy as np\n",
    "import statsmodels.formula.api as smf\n",
    "\n",
    "- Considere que os dados para as regressões estejam numa variável chamada df, um DataFrame do pandas.\n",
    "\n",
    "- As variáveis y, x1, x2, ... são também os nomes das respectivas colunas de dados em df.\n",
    "'''"
   ]
  },
  {
   "cell_type": "code",
   "execution_count": null,
   "metadata": {},
   "outputs": [],
   "source": []
  },
  {
   "cell_type": "code",
   "execution_count": null,
   "metadata": {},
   "outputs": [],
   "source": []
  },
  {
   "cell_type": "code",
   "execution_count": null,
   "metadata": {},
   "outputs": [],
   "source": [
    "# Modelo sem intercepto (regressão através da origem)\n",
    "'''\n",
    "Modelo a ser estimado: \n",
    "y = B1*x1 + B2*x2 + B3*x3 + u   --> Note que não há o intercepto B0\n",
    "\n",
    "Código:\n",
    "modelo = smf.ols('y ~ x1 + x2  + x3 - 1', data=df)           --> \"-1\": para executar a regressão sem o intercepto\n",
    "'''"
   ]
  },
  {
   "cell_type": "code",
   "execution_count": null,
   "metadata": {},
   "outputs": [],
   "source": []
  },
  {
   "cell_type": "code",
   "execution_count": null,
   "metadata": {},
   "outputs": [],
   "source": []
  },
  {
   "cell_type": "code",
   "execution_count": null,
   "metadata": {},
   "outputs": [],
   "source": [
    "# Modelo com função quadrática\n",
    "'''\n",
    "Modelo a ser estimado: \n",
    "y = B0 + B1*x1 + B2*(x2**2) + B3*x3 + u          --> x2**2: x2 elevada ao quadrado\n",
    "\n",
    "Código:\n",
    "modelo = smf.ols('y ~ x1 + np.square(x2)  + x3', data=df)\n",
    "'''"
   ]
  },
  {
   "cell_type": "code",
   "execution_count": null,
   "metadata": {},
   "outputs": [],
   "source": []
  },
  {
   "cell_type": "code",
   "execution_count": null,
   "metadata": {},
   "outputs": [],
   "source": []
  },
  {
   "cell_type": "code",
   "execution_count": null,
   "metadata": {},
   "outputs": [],
   "source": [
    "# Modelo com variável em log natural\n",
    "'''\n",
    "Modelo a ser estimado:  \n",
    "y = B0 + B1*x1 + B2*log(x2) + B3*x3 + u          --> log: log natural\n",
    "\n",
    "Código:\n",
    "modelo = smf.ols('y ~ x1 + np.log(x2)  + x3', data=df)"
   ]
  },
  {
   "cell_type": "code",
   "execution_count": null,
   "metadata": {},
   "outputs": [],
   "source": []
  },
  {
   "cell_type": "code",
   "execution_count": null,
   "metadata": {},
   "outputs": [],
   "source": []
  },
  {
   "cell_type": "code",
   "execution_count": null,
   "metadata": {},
   "outputs": [],
   "source": [
    "# Modelo com termos de interação\n",
    "'''\n",
    "Modelo a ser estimado: \n",
    "y = B0 + B1*x1 + B2*(x2*x3) + u\n",
    "\n",
    "Código:\n",
    "modelo = smf.ols('y ~ x1 + x2:x3', data=df)    --> note que utilizamos \":\" para multiplicação de x2 e x3\n",
    "\n",
    "\n",
    "Obs.:\n",
    "Evite usar \"*\" para multiplicação dos termos de interação. O código abaixo\n",
    "modelo = smf.ols('y ~ x1 + x2*x3', data=df)   (note que usamos x2*x3 e não x2:x3)\n",
    "\n",
    "estimará a o modelo: y = B0 + B1*x1 + B2*x2 + B3*x3 + B4*(x1*x3) + u\n",
    "e NÃO: y = B0 + B1*x1 + B2*(x2*x3) + u\n",
    "\n",
    "Para ver isto, tente reproduzir a equação estimada no problema 4, item (ii), do capítulo 6.\n",
    "(veja arquivo ch6_Exercicio_4)\n",
    "\n",
    "'''"
   ]
  },
  {
   "cell_type": "code",
   "execution_count": null,
   "metadata": {},
   "outputs": [],
   "source": []
  },
  {
   "cell_type": "code",
   "execution_count": null,
   "metadata": {},
   "outputs": [],
   "source": []
  }
 ],
 "metadata": {
  "kernelspec": {
   "display_name": "Python 3",
   "language": "python",
   "name": "python3"
  },
  "language_info": {
   "codemirror_mode": {
    "name": "ipython",
    "version": 3
   },
   "file_extension": ".py",
   "mimetype": "text/x-python",
   "name": "python",
   "nbconvert_exporter": "python",
   "pygments_lexer": "ipython3",
   "version": "3.7.3"
  }
 },
 "nbformat": 4,
 "nbformat_minor": 2
}
