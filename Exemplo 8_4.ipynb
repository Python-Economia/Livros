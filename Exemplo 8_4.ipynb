{
 "cells": [
  {
   "cell_type": "code",
   "execution_count": null,
   "metadata": {},
   "outputs": [],
   "source": [
    "'''\n",
    "Introdução à Econometria - Uma abordagem moderna (Tradução da 6 edição norte-americana)\n",
    "Autor: WOOLDRIDGE, J. M.\n",
    "Editora: CENGAGE LEARNING\n",
    "\n",
    "Cap. 8: Heterocedasticidade (Heteroskedasticity)\n",
    "Exemplo 8.4: Heterocedasticidade nas equações de preços de imóveis\n",
    "             (HETEROSKEDASTICITY IN HOUSING PRICE EQUATIONS)\n",
    "             \n",
    "Arquivo com os dados: hprice1.xls\n",
    "\n",
    "Arquivo com dados em:\n",
    "http://students.cengage.com.br/dashboard/private/livroView.jsf;jsessionid=95E9AD889A4A4B7ABBD2A5251F1E14BE?id=104577\n",
    "\n",
    "Em caso de dúvidas ou problemas, solicitamos, por gentileza, entrar em contato pelo e-mail:\n",
    "python.economia@gmail.com\n",
    "'''"
   ]
  },
  {
   "cell_type": "code",
   "execution_count": 1,
   "metadata": {},
   "outputs": [],
   "source": [
    "import pandas as pd\n",
    "import statsmodels.formula.api as smf\n",
    "import numpy as np\n",
    "import statsmodels.stats.diagnostic"
   ]
  },
  {
   "cell_type": "code",
   "execution_count": 2,
   "metadata": {},
   "outputs": [],
   "source": [
    "df = pd.read_excel('hprice1.xls',\n",
    "                   header=None,\n",
    "                   usecols=[0, 2, 3, 4],\n",
    "                   names=['price', 'bdrms', 'lotsize', 'sqrft'])"
   ]
  },
  {
   "cell_type": "code",
   "execution_count": 3,
   "metadata": {},
   "outputs": [
    {
     "data": {
      "text/html": [
       "<div>\n",
       "<style scoped>\n",
       "    .dataframe tbody tr th:only-of-type {\n",
       "        vertical-align: middle;\n",
       "    }\n",
       "\n",
       "    .dataframe tbody tr th {\n",
       "        vertical-align: top;\n",
       "    }\n",
       "\n",
       "    .dataframe thead th {\n",
       "        text-align: right;\n",
       "    }\n",
       "</style>\n",
       "<table border=\"1\" class=\"dataframe\">\n",
       "  <thead>\n",
       "    <tr style=\"text-align: right;\">\n",
       "      <th></th>\n",
       "      <th>price</th>\n",
       "      <th>bdrms</th>\n",
       "      <th>lotsize</th>\n",
       "      <th>sqrft</th>\n",
       "    </tr>\n",
       "  </thead>\n",
       "  <tbody>\n",
       "    <tr>\n",
       "      <th>0</th>\n",
       "      <td>300.0</td>\n",
       "      <td>4</td>\n",
       "      <td>6126</td>\n",
       "      <td>2438</td>\n",
       "    </tr>\n",
       "    <tr>\n",
       "      <th>1</th>\n",
       "      <td>370.0</td>\n",
       "      <td>3</td>\n",
       "      <td>9903</td>\n",
       "      <td>2076</td>\n",
       "    </tr>\n",
       "    <tr>\n",
       "      <th>2</th>\n",
       "      <td>191.0</td>\n",
       "      <td>3</td>\n",
       "      <td>5200</td>\n",
       "      <td>1374</td>\n",
       "    </tr>\n",
       "    <tr>\n",
       "      <th>3</th>\n",
       "      <td>195.0</td>\n",
       "      <td>3</td>\n",
       "      <td>4600</td>\n",
       "      <td>1448</td>\n",
       "    </tr>\n",
       "    <tr>\n",
       "      <th>4</th>\n",
       "      <td>373.0</td>\n",
       "      <td>4</td>\n",
       "      <td>6095</td>\n",
       "      <td>2514</td>\n",
       "    </tr>\n",
       "  </tbody>\n",
       "</table>\n",
       "</div>"
      ],
      "text/plain": [
       "   price  bdrms  lotsize  sqrft\n",
       "0  300.0      4     6126   2438\n",
       "1  370.0      3     9903   2076\n",
       "2  191.0      3     5200   1374\n",
       "3  195.0      3     4600   1448\n",
       "4  373.0      4     6095   2514"
      ]
     },
     "execution_count": 3,
     "metadata": {},
     "output_type": "execute_result"
    }
   ],
   "source": [
    "df.head(5)"
   ]
  },
  {
   "cell_type": "code",
   "execution_count": null,
   "metadata": {},
   "outputs": [],
   "source": []
  },
  {
   "cell_type": "code",
   "execution_count": null,
   "metadata": {},
   "outputs": [],
   "source": []
  },
  {
   "cell_type": "code",
   "execution_count": null,
   "metadata": {},
   "outputs": [],
   "source": []
  },
  {
   "cell_type": "markdown",
   "metadata": {},
   "source": [
    "### Solução sugerida: Modelo 1"
   ]
  },
  {
   "cell_type": "code",
   "execution_count": 4,
   "metadata": {},
   "outputs": [
    {
     "data": {
      "text/html": [
       "<table class=\"simpletable\">\n",
       "<caption>OLS Regression Results</caption>\n",
       "<tr>\n",
       "  <th>Dep. Variable:</th>          <td>price</td>      <th>  R-squared:         </th> <td>   0.672</td>\n",
       "</tr>\n",
       "<tr>\n",
       "  <th>Model:</th>                   <td>OLS</td>       <th>  Adj. R-squared:    </th> <td>   0.661</td>\n",
       "</tr>\n",
       "<tr>\n",
       "  <th>Method:</th>             <td>Least Squares</td>  <th>  F-statistic:       </th> <td>   57.46</td>\n",
       "</tr>\n",
       "<tr>\n",
       "  <th>Date:</th>             <td>Fri, 17 Jun 2022</td> <th>  Prob (F-statistic):</th> <td>2.70e-20</td>\n",
       "</tr>\n",
       "<tr>\n",
       "  <th>Time:</th>                 <td>12:43:42</td>     <th>  Log-Likelihood:    </th> <td> -482.88</td>\n",
       "</tr>\n",
       "<tr>\n",
       "  <th>No. Observations:</th>      <td>    88</td>      <th>  AIC:               </th> <td>   973.8</td>\n",
       "</tr>\n",
       "<tr>\n",
       "  <th>Df Residuals:</th>          <td>    84</td>      <th>  BIC:               </th> <td>   983.7</td>\n",
       "</tr>\n",
       "<tr>\n",
       "  <th>Df Model:</th>              <td>     3</td>      <th>                     </th>     <td> </td>   \n",
       "</tr>\n",
       "<tr>\n",
       "  <th>Covariance Type:</th>      <td>nonrobust</td>    <th>                     </th>     <td> </td>   \n",
       "</tr>\n",
       "</table>\n",
       "<table class=\"simpletable\">\n",
       "<tr>\n",
       "      <td></td>         <th>coef</th>     <th>std err</th>      <th>t</th>      <th>P>|t|</th>  <th>[0.025</th>    <th>0.975]</th>  \n",
       "</tr>\n",
       "<tr>\n",
       "  <th>Intercept</th> <td>  -21.7703</td> <td>   29.475</td> <td>   -0.739</td> <td> 0.462</td> <td>  -80.385</td> <td>   36.844</td>\n",
       "</tr>\n",
       "<tr>\n",
       "  <th>lotsize</th>   <td>    0.0021</td> <td>    0.001</td> <td>    3.220</td> <td> 0.002</td> <td>    0.001</td> <td>    0.003</td>\n",
       "</tr>\n",
       "<tr>\n",
       "  <th>sqrft</th>     <td>    0.1228</td> <td>    0.013</td> <td>    9.275</td> <td> 0.000</td> <td>    0.096</td> <td>    0.149</td>\n",
       "</tr>\n",
       "<tr>\n",
       "  <th>bdrms</th>     <td>   13.8525</td> <td>    9.010</td> <td>    1.537</td> <td> 0.128</td> <td>   -4.065</td> <td>   31.770</td>\n",
       "</tr>\n",
       "</table>\n",
       "<table class=\"simpletable\">\n",
       "<tr>\n",
       "  <th>Omnibus:</th>       <td>20.398</td> <th>  Durbin-Watson:     </th> <td>   2.110</td>\n",
       "</tr>\n",
       "<tr>\n",
       "  <th>Prob(Omnibus):</th> <td> 0.000</td> <th>  Jarque-Bera (JB):  </th> <td>  32.278</td>\n",
       "</tr>\n",
       "<tr>\n",
       "  <th>Skew:</th>          <td> 0.961</td> <th>  Prob(JB):          </th> <td>9.79e-08</td>\n",
       "</tr>\n",
       "<tr>\n",
       "  <th>Kurtosis:</th>      <td> 5.261</td> <th>  Cond. No.          </th> <td>6.41e+04</td>\n",
       "</tr>\n",
       "</table><br/><br/>Notes:<br/>[1] Standard Errors assume that the covariance matrix of the errors is correctly specified.<br/>[2] The condition number is large, 6.41e+04. This might indicate that there are<br/>strong multicollinearity or other numerical problems."
      ],
      "text/plain": [
       "<class 'statsmodels.iolib.summary.Summary'>\n",
       "\"\"\"\n",
       "                            OLS Regression Results                            \n",
       "==============================================================================\n",
       "Dep. Variable:                  price   R-squared:                       0.672\n",
       "Model:                            OLS   Adj. R-squared:                  0.661\n",
       "Method:                 Least Squares   F-statistic:                     57.46\n",
       "Date:                Fri, 17 Jun 2022   Prob (F-statistic):           2.70e-20\n",
       "Time:                        12:43:42   Log-Likelihood:                -482.88\n",
       "No. Observations:                  88   AIC:                             973.8\n",
       "Df Residuals:                      84   BIC:                             983.7\n",
       "Df Model:                           3                                         \n",
       "Covariance Type:            nonrobust                                         \n",
       "==============================================================================\n",
       "                 coef    std err          t      P>|t|      [0.025      0.975]\n",
       "------------------------------------------------------------------------------\n",
       "Intercept    -21.7703     29.475     -0.739      0.462     -80.385      36.844\n",
       "lotsize        0.0021      0.001      3.220      0.002       0.001       0.003\n",
       "sqrft          0.1228      0.013      9.275      0.000       0.096       0.149\n",
       "bdrms         13.8525      9.010      1.537      0.128      -4.065      31.770\n",
       "==============================================================================\n",
       "Omnibus:                       20.398   Durbin-Watson:                   2.110\n",
       "Prob(Omnibus):                  0.000   Jarque-Bera (JB):               32.278\n",
       "Skew:                           0.961   Prob(JB):                     9.79e-08\n",
       "Kurtosis:                       5.261   Cond. No.                     6.41e+04\n",
       "==============================================================================\n",
       "\n",
       "Notes:\n",
       "[1] Standard Errors assume that the covariance matrix of the errors is correctly specified.\n",
       "[2] The condition number is large, 6.41e+04. This might indicate that there are\n",
       "strong multicollinearity or other numerical problems.\n",
       "\"\"\""
      ]
     },
     "execution_count": 4,
     "metadata": {},
     "output_type": "execute_result"
    }
   ],
   "source": [
    "modelo = smf.ols('price ~ lotsize + sqrft + bdrms', data=df)\n",
    "reg = modelo.fit()\n",
    "reg.summary()"
   ]
  },
  {
   "cell_type": "code",
   "execution_count": 5,
   "metadata": {},
   "outputs": [
    {
     "name": "stdout",
     "output_type": "stream",
     "text": [
      "estatística LM: 14.09\n",
      "Valor p (LM): 0.0028\n",
      "estatística F: 5.34\n",
      "Valor p (F): 0.002\n"
     ]
    }
   ],
   "source": [
    "'''\n",
    "Teste de Breusch-Pagan da heterocedasticidade (teste BP)\n",
    "H0: O Erro u é Homocedástico\n",
    "H1: Violação da homocedasticidade (presença de heterocedasticidade)\n",
    "'''\n",
    "\n",
    "teste_bp = statsmodels.stats.diagnostic.het_breuschpagan(reg.resid, exog_het=reg.model.exog)\n",
    "\n",
    "print(f\"estatística LM: {round(teste_bp[0], 2)}\")\n",
    "print(f\"Valor p (LM): {round(teste_bp[1], 4)}\")\n",
    "print(f\"estatística F: {round(teste_bp[2], 2)}\")\n",
    "print(f\"Valor p (F): {round(teste_bp[3], 3)}\")"
   ]
  },
  {
   "cell_type": "code",
   "execution_count": null,
   "metadata": {},
   "outputs": [],
   "source": [
    "'''\n",
    "Conclusão: \n",
    "O baixo valor p (menor do que qualquer nível de significância padrão de 1%, 5% ou 10% ) é uma forte evidênncia contra H0.\n",
    "Concluímos que o termo de erro apresenta heterocedasticidade.\n",
    "Consequências imediatas da presença de heterocedasticidade\n",
    " - as colunas \"std err\", \"t\", \"P>|t|\" e [0.025 0.0975] da tabela com os resultados da regressão não são válidas\n",
    " - Não podemos utilizar as estatísticas t e F usuais para testar hipóteses\n",
    " - Os estimadores de MQO não são mais os melhores estimadores lineares não viesados\n",
    "'''"
   ]
  },
  {
   "cell_type": "code",
   "execution_count": null,
   "metadata": {},
   "outputs": [],
   "source": []
  },
  {
   "cell_type": "code",
   "execution_count": null,
   "metadata": {},
   "outputs": [],
   "source": []
  },
  {
   "cell_type": "markdown",
   "metadata": {},
   "source": [
    "### Solução sugerida: Modelo 2"
   ]
  },
  {
   "cell_type": "code",
   "execution_count": 6,
   "metadata": {},
   "outputs": [
    {
     "data": {
      "text/html": [
       "<table class=\"simpletable\">\n",
       "<caption>OLS Regression Results</caption>\n",
       "<tr>\n",
       "  <th>Dep. Variable:</th>      <td>np.log(price)</td>  <th>  R-squared:         </th> <td>   0.643</td>\n",
       "</tr>\n",
       "<tr>\n",
       "  <th>Model:</th>                   <td>OLS</td>       <th>  Adj. R-squared:    </th> <td>   0.630</td>\n",
       "</tr>\n",
       "<tr>\n",
       "  <th>Method:</th>             <td>Least Squares</td>  <th>  F-statistic:       </th> <td>   50.42</td>\n",
       "</tr>\n",
       "<tr>\n",
       "  <th>Date:</th>             <td>Fri, 17 Jun 2022</td> <th>  Prob (F-statistic):</th> <td>9.74e-19</td>\n",
       "</tr>\n",
       "<tr>\n",
       "  <th>Time:</th>                 <td>12:43:51</td>     <th>  Log-Likelihood:    </th> <td>  25.861</td>\n",
       "</tr>\n",
       "<tr>\n",
       "  <th>No. Observations:</th>      <td>    88</td>      <th>  AIC:               </th> <td>  -43.72</td>\n",
       "</tr>\n",
       "<tr>\n",
       "  <th>Df Residuals:</th>          <td>    84</td>      <th>  BIC:               </th> <td>  -33.81</td>\n",
       "</tr>\n",
       "<tr>\n",
       "  <th>Df Model:</th>              <td>     3</td>      <th>                     </th>     <td> </td>   \n",
       "</tr>\n",
       "<tr>\n",
       "  <th>Covariance Type:</th>      <td>nonrobust</td>    <th>                     </th>     <td> </td>   \n",
       "</tr>\n",
       "</table>\n",
       "<table class=\"simpletable\">\n",
       "<tr>\n",
       "         <td></td>            <th>coef</th>     <th>std err</th>      <th>t</th>      <th>P>|t|</th>  <th>[0.025</th>    <th>0.975]</th>  \n",
       "</tr>\n",
       "<tr>\n",
       "  <th>Intercept</th>       <td>   -1.2970</td> <td>    0.651</td> <td>   -1.992</td> <td> 0.050</td> <td>   -2.592</td> <td>   -0.002</td>\n",
       "</tr>\n",
       "<tr>\n",
       "  <th>np.log(lotsize)</th> <td>    0.1680</td> <td>    0.038</td> <td>    4.388</td> <td> 0.000</td> <td>    0.092</td> <td>    0.244</td>\n",
       "</tr>\n",
       "<tr>\n",
       "  <th>np.log(sqrft)</th>   <td>    0.7002</td> <td>    0.093</td> <td>    7.540</td> <td> 0.000</td> <td>    0.516</td> <td>    0.885</td>\n",
       "</tr>\n",
       "<tr>\n",
       "  <th>bdrms</th>           <td>    0.0370</td> <td>    0.028</td> <td>    1.342</td> <td> 0.183</td> <td>   -0.018</td> <td>    0.092</td>\n",
       "</tr>\n",
       "</table>\n",
       "<table class=\"simpletable\">\n",
       "<tr>\n",
       "  <th>Omnibus:</th>       <td>12.060</td> <th>  Durbin-Watson:     </th> <td>   2.089</td>\n",
       "</tr>\n",
       "<tr>\n",
       "  <th>Prob(Omnibus):</th> <td> 0.002</td> <th>  Jarque-Bera (JB):  </th> <td>  34.889</td>\n",
       "</tr>\n",
       "<tr>\n",
       "  <th>Skew:</th>          <td>-0.188</td> <th>  Prob(JB):          </th> <td>2.65e-08</td>\n",
       "</tr>\n",
       "<tr>\n",
       "  <th>Kurtosis:</th>      <td> 6.062</td> <th>  Cond. No.          </th> <td>    410.</td>\n",
       "</tr>\n",
       "</table><br/><br/>Notes:<br/>[1] Standard Errors assume that the covariance matrix of the errors is correctly specified."
      ],
      "text/plain": [
       "<class 'statsmodels.iolib.summary.Summary'>\n",
       "\"\"\"\n",
       "                            OLS Regression Results                            \n",
       "==============================================================================\n",
       "Dep. Variable:          np.log(price)   R-squared:                       0.643\n",
       "Model:                            OLS   Adj. R-squared:                  0.630\n",
       "Method:                 Least Squares   F-statistic:                     50.42\n",
       "Date:                Fri, 17 Jun 2022   Prob (F-statistic):           9.74e-19\n",
       "Time:                        12:43:51   Log-Likelihood:                 25.861\n",
       "No. Observations:                  88   AIC:                            -43.72\n",
       "Df Residuals:                      84   BIC:                            -33.81\n",
       "Df Model:                           3                                         \n",
       "Covariance Type:            nonrobust                                         \n",
       "===================================================================================\n",
       "                      coef    std err          t      P>|t|      [0.025      0.975]\n",
       "-----------------------------------------------------------------------------------\n",
       "Intercept          -1.2970      0.651     -1.992      0.050      -2.592      -0.002\n",
       "np.log(lotsize)     0.1680      0.038      4.388      0.000       0.092       0.244\n",
       "np.log(sqrft)       0.7002      0.093      7.540      0.000       0.516       0.885\n",
       "bdrms               0.0370      0.028      1.342      0.183      -0.018       0.092\n",
       "==============================================================================\n",
       "Omnibus:                       12.060   Durbin-Watson:                   2.089\n",
       "Prob(Omnibus):                  0.002   Jarque-Bera (JB):               34.889\n",
       "Skew:                          -0.188   Prob(JB):                     2.65e-08\n",
       "Kurtosis:                       6.062   Cond. No.                         410.\n",
       "==============================================================================\n",
       "\n",
       "Notes:\n",
       "[1] Standard Errors assume that the covariance matrix of the errors is correctly specified.\n",
       "\"\"\""
      ]
     },
     "execution_count": 6,
     "metadata": {},
     "output_type": "execute_result"
    }
   ],
   "source": [
    "modelo_2 = smf.ols('np.log(price) ~ np.log(lotsize) + np.log(sqrft) + bdrms', data=df)\n",
    "reg_2 = modelo_2.fit()\n",
    "reg_2.summary()"
   ]
  },
  {
   "cell_type": "code",
   "execution_count": null,
   "metadata": {},
   "outputs": [],
   "source": [
    "'''\n",
    "Nota: No livro, por um erro, a estimativa do coeficiente de \"bdrms\" aparece como 0,37. O valor correto é 0,037.\n",
    "'''"
   ]
  },
  {
   "cell_type": "code",
   "execution_count": 7,
   "metadata": {},
   "outputs": [
    {
     "name": "stdout",
     "output_type": "stream",
     "text": [
      "estatística LM: 4.22\n",
      "Valor p (LM): 0.2383\n",
      "estatística F: 1.41\n",
      "Valor p (F): 0.245\n"
     ]
    }
   ],
   "source": [
    "'''\n",
    "Teste de Breusch-Pagan da heterocedasticidade (teste BP)\n",
    "H0: O Erro u é Homocedástico\n",
    "H1: Violação da homocedasticidade (presença de heterocedasticidade)\n",
    "'''\n",
    "\n",
    "teste_bp = statsmodels.stats.diagnostic.het_breuschpagan(reg_2.resid, exog_het=reg_2.model.exog)\n",
    "\n",
    "print(f\"estatística LM: {round(teste_bp[0], 2)}\")\n",
    "print(f\"Valor p (LM): {round(teste_bp[1], 4)}\")\n",
    "print(f\"estatística F: {round(teste_bp[2], 2)}\")\n",
    "print(f\"Valor p (F): {round(teste_bp[3], 3)}\")"
   ]
  },
  {
   "cell_type": "code",
   "execution_count": null,
   "metadata": {},
   "outputs": [],
   "source": [
    "'''\n",
    "Conclusão: \n",
    "Não podemos rejeitar a  hipótese nula de homocedasticidade considerando-se qualquer nível de significância padrão de 1%, 5% \n",
    "ou 10% pois obtivemos um valor p MAIOR do que qualquer um destes valores.\n",
    "'''"
   ]
  }
 ],
 "metadata": {
  "kernelspec": {
   "display_name": "Python 3",
   "language": "python",
   "name": "python3"
  },
  "language_info": {
   "codemirror_mode": {
    "name": "ipython",
    "version": 3
   },
   "file_extension": ".py",
   "mimetype": "text/x-python",
   "name": "python",
   "nbconvert_exporter": "python",
   "pygments_lexer": "ipython3",
   "version": "3.7.3"
  }
 },
 "nbformat": 4,
 "nbformat_minor": 2
}
