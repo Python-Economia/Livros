{
 "cells": [
  {
   "cell_type": "code",
   "execution_count": null,
   "metadata": {},
   "outputs": [],
   "source": [
    "'''\n",
    "Introdução à Econometria - Uma abordagem moderna (Tradução da 6 edição norte-americana)\n",
    "Autor: WOOLDRIDGE, J. M.\n",
    "Editora: CENGAGE LEARNING\n",
    "\n",
    "Cap. 8: Heterocedasticidade (Heteroskedasticity)\n",
    "Exemplo 8.9: Determinantes da propriedade de computadores pessoais\n",
    "             (DETERMINANTS OF PERSONAL COMPUTER OWNERSHIP)\n",
    "             \n",
    "Arquivo com os dados: gpa1.xls\n",
    "\n",
    "Arquivo com dados em:\n",
    "http://students.cengage.com.br/dashboard/private/livroView.jsf;jsessionid=95E9AD889A4A4B7ABBD2A5251F1E14BE?id=104577\n",
    "\n",
    "Em caso de dúvidas ou problemas, solicitamos, por gentileza, entrar em contato pelo e-mail:\n",
    "python.economia@gmail.com\n",
    "'''"
   ]
  },
  {
   "cell_type": "code",
   "execution_count": 1,
   "metadata": {},
   "outputs": [],
   "source": [
    "import pandas as pd\n",
    "import statsmodels.formula.api as smf"
   ]
  },
  {
   "cell_type": "code",
   "execution_count": null,
   "metadata": {},
   "outputs": [],
   "source": []
  },
  {
   "cell_type": "code",
   "execution_count": 2,
   "metadata": {},
   "outputs": [],
   "source": [
    "df = pd.read_excel('gpa1.xls',\n",
    "                   header=None,\n",
    "                   usecols=[10, 11, 18, 27, 28],\n",
    "                   names=['hsGPA', 'ACT', 'PC', 'fathcoll', 'mothcoll'])"
   ]
  },
  {
   "cell_type": "code",
   "execution_count": 3,
   "metadata": {},
   "outputs": [
    {
     "data": {
      "text/html": [
       "<div>\n",
       "<style scoped>\n",
       "    .dataframe tbody tr th:only-of-type {\n",
       "        vertical-align: middle;\n",
       "    }\n",
       "\n",
       "    .dataframe tbody tr th {\n",
       "        vertical-align: top;\n",
       "    }\n",
       "\n",
       "    .dataframe thead th {\n",
       "        text-align: right;\n",
       "    }\n",
       "</style>\n",
       "<table border=\"1\" class=\"dataframe\">\n",
       "  <thead>\n",
       "    <tr style=\"text-align: right;\">\n",
       "      <th></th>\n",
       "      <th>hsGPA</th>\n",
       "      <th>ACT</th>\n",
       "      <th>PC</th>\n",
       "      <th>fathcoll</th>\n",
       "      <th>mothcoll</th>\n",
       "    </tr>\n",
       "  </thead>\n",
       "  <tbody>\n",
       "    <tr>\n",
       "      <th>0</th>\n",
       "      <td>3.0</td>\n",
       "      <td>21</td>\n",
       "      <td>0</td>\n",
       "      <td>0</td>\n",
       "      <td>0</td>\n",
       "    </tr>\n",
       "    <tr>\n",
       "      <th>1</th>\n",
       "      <td>3.2</td>\n",
       "      <td>24</td>\n",
       "      <td>0</td>\n",
       "      <td>1</td>\n",
       "      <td>1</td>\n",
       "    </tr>\n",
       "    <tr>\n",
       "      <th>2</th>\n",
       "      <td>3.6</td>\n",
       "      <td>26</td>\n",
       "      <td>0</td>\n",
       "      <td>1</td>\n",
       "      <td>1</td>\n",
       "    </tr>\n",
       "    <tr>\n",
       "      <th>3</th>\n",
       "      <td>3.5</td>\n",
       "      <td>27</td>\n",
       "      <td>0</td>\n",
       "      <td>0</td>\n",
       "      <td>0</td>\n",
       "    </tr>\n",
       "    <tr>\n",
       "      <th>4</th>\n",
       "      <td>3.9</td>\n",
       "      <td>28</td>\n",
       "      <td>0</td>\n",
       "      <td>1</td>\n",
       "      <td>0</td>\n",
       "    </tr>\n",
       "  </tbody>\n",
       "</table>\n",
       "</div>"
      ],
      "text/plain": [
       "   hsGPA  ACT  PC  fathcoll  mothcoll\n",
       "0    3.0   21   0         0         0\n",
       "1    3.2   24   0         1         1\n",
       "2    3.6   26   0         1         1\n",
       "3    3.5   27   0         0         0\n",
       "4    3.9   28   0         1         0"
      ]
     },
     "execution_count": 3,
     "metadata": {},
     "output_type": "execute_result"
    }
   ],
   "source": [
    "df.head()"
   ]
  },
  {
   "cell_type": "code",
   "execution_count": 4,
   "metadata": {},
   "outputs": [],
   "source": [
    "# gera a coluna 'parcoll': indicador binário igual a um se pelo menos um dos genitores tem curso superior\n",
    "df['parcoll'] = df.loc[:, ['fathcoll', 'mothcoll']].apply(max, axis=1)"
   ]
  },
  {
   "cell_type": "code",
   "execution_count": 5,
   "metadata": {},
   "outputs": [
    {
     "data": {
      "text/html": [
       "<div>\n",
       "<style scoped>\n",
       "    .dataframe tbody tr th:only-of-type {\n",
       "        vertical-align: middle;\n",
       "    }\n",
       "\n",
       "    .dataframe tbody tr th {\n",
       "        vertical-align: top;\n",
       "    }\n",
       "\n",
       "    .dataframe thead th {\n",
       "        text-align: right;\n",
       "    }\n",
       "</style>\n",
       "<table border=\"1\" class=\"dataframe\">\n",
       "  <thead>\n",
       "    <tr style=\"text-align: right;\">\n",
       "      <th></th>\n",
       "      <th>hsGPA</th>\n",
       "      <th>ACT</th>\n",
       "      <th>PC</th>\n",
       "      <th>fathcoll</th>\n",
       "      <th>mothcoll</th>\n",
       "      <th>parcoll</th>\n",
       "    </tr>\n",
       "  </thead>\n",
       "  <tbody>\n",
       "    <tr>\n",
       "      <th>0</th>\n",
       "      <td>3.0</td>\n",
       "      <td>21</td>\n",
       "      <td>0</td>\n",
       "      <td>0</td>\n",
       "      <td>0</td>\n",
       "      <td>0</td>\n",
       "    </tr>\n",
       "    <tr>\n",
       "      <th>1</th>\n",
       "      <td>3.2</td>\n",
       "      <td>24</td>\n",
       "      <td>0</td>\n",
       "      <td>1</td>\n",
       "      <td>1</td>\n",
       "      <td>1</td>\n",
       "    </tr>\n",
       "    <tr>\n",
       "      <th>2</th>\n",
       "      <td>3.6</td>\n",
       "      <td>26</td>\n",
       "      <td>0</td>\n",
       "      <td>1</td>\n",
       "      <td>1</td>\n",
       "      <td>1</td>\n",
       "    </tr>\n",
       "    <tr>\n",
       "      <th>3</th>\n",
       "      <td>3.5</td>\n",
       "      <td>27</td>\n",
       "      <td>0</td>\n",
       "      <td>0</td>\n",
       "      <td>0</td>\n",
       "      <td>0</td>\n",
       "    </tr>\n",
       "    <tr>\n",
       "      <th>4</th>\n",
       "      <td>3.9</td>\n",
       "      <td>28</td>\n",
       "      <td>0</td>\n",
       "      <td>1</td>\n",
       "      <td>0</td>\n",
       "      <td>1</td>\n",
       "    </tr>\n",
       "  </tbody>\n",
       "</table>\n",
       "</div>"
      ],
      "text/plain": [
       "   hsGPA  ACT  PC  fathcoll  mothcoll  parcoll\n",
       "0    3.0   21   0         0         0        0\n",
       "1    3.2   24   0         1         1        1\n",
       "2    3.6   26   0         1         1        1\n",
       "3    3.5   27   0         0         0        0\n",
       "4    3.9   28   0         1         0        1"
      ]
     },
     "execution_count": 5,
     "metadata": {},
     "output_type": "execute_result"
    }
   ],
   "source": [
    "df.head()"
   ]
  },
  {
   "cell_type": "code",
   "execution_count": null,
   "metadata": {},
   "outputs": [],
   "source": []
  },
  {
   "cell_type": "code",
   "execution_count": null,
   "metadata": {},
   "outputs": [],
   "source": []
  },
  {
   "cell_type": "code",
   "execution_count": null,
   "metadata": {},
   "outputs": [],
   "source": []
  },
  {
   "cell_type": "markdown",
   "metadata": {},
   "source": [
    "### Solução sugerida"
   ]
  },
  {
   "cell_type": "code",
   "execution_count": 6,
   "metadata": {},
   "outputs": [],
   "source": [
    "# Regressão pelo Método de Mínimos Quadrados Ordinários (MQO ou OLS na sigla em inglês)\n",
    "modelo_ols = smf.ols('PC ~ hsGPA + ACT + parcoll', data=df)\n",
    "reg_ols = modelo_ols.fit()"
   ]
  },
  {
   "cell_type": "code",
   "execution_count": 7,
   "metadata": {},
   "outputs": [
    {
     "name": "stdout",
     "output_type": "stream",
     "text": [
      "Exemplo 8.9 [Variável dependente: PC]\n",
      "\n",
      "           estimativas MQO  nonrobust SE  robust SE\n",
      "Intercept          -0.0004         0.491      0.489\n",
      "hsGPA               0.0654         0.137      0.139\n",
      "ACT                 0.0006         0.015      0.016\n",
      "parcoll             0.2211         0.093      0.087\n",
      "\n",
      "Observações: 141\n",
      "R-quadrado: 0.0415\n"
     ]
    }
   ],
   "source": [
    "tabela = pd.DataFrame({'estimativas MQO': round(reg_ols.params, 4), \n",
    "                       'nonrobust SE': round(reg_ols.bse, 3), \n",
    "                       'robust SE': round(reg_ols.HC0_se, 3)})\n",
    "\n",
    "print('Exemplo 8.9 [Variável dependente: PC]\\n')\n",
    "print(tabela)\n",
    "print(f'\\nObservações: {int(reg_ols.nobs)}')\n",
    "print(f'R-quadrado: {round(reg_ols.rsquared, 4)}')"
   ]
  },
  {
   "cell_type": "code",
   "execution_count": null,
   "metadata": {},
   "outputs": [],
   "source": []
  },
  {
   "cell_type": "code",
   "execution_count": null,
   "metadata": {},
   "outputs": [],
   "source": []
  },
  {
   "cell_type": "code",
   "execution_count": null,
   "metadata": {},
   "outputs": [],
   "source": []
  },
  {
   "cell_type": "code",
   "execution_count": null,
   "metadata": {},
   "outputs": [],
   "source": [
    "'''\n",
    "Procedimento para estimar o Modelo de Probabilidade Linear por MQGF (MQGF pois usamos h_chapeu)\n",
    "Segue o item do livro: Estimando o modelo de probabilidade linear por mínimos quadrados ponderados\n",
    "'''"
   ]
  },
  {
   "cell_type": "code",
   "execution_count": 8,
   "metadata": {},
   "outputs": [],
   "source": [
    "# Passo 1: Estime o modelo por MQO e obtenha os valores estimados y_chapeu\n",
    "modelo_passo_1 = smf.ols('PC ~ hsGPA + ACT + parcoll', data=df)\n",
    "reg_passo_1 = modelo_passo_1.fit()\n",
    "y_chapeu = reg_passo_1.fittedvalues"
   ]
  },
  {
   "cell_type": "code",
   "execution_count": 9,
   "metadata": {},
   "outputs": [
    {
     "name": "stdout",
     "output_type": "stream",
     "text": [
      "Todos os valores estimados estão no intervalo aberto ]0, 1[.\n",
      "Prossiga para o passo 3\n"
     ]
    }
   ],
   "source": [
    "'''\n",
    "Passo 2: Se todos os valores estimados (valores em y_chapeu) estiverem no intervalo aberto ]0, 1[, prossiga para o Passo 3.\n",
    "         Se houver algum valor de y_chapeu fora do intervalo aberto ]0, 1[, abandone MQGF e estime o modelo por MQO\n",
    "         utilizando as estatísticas robustas em relação à heterocedasticidade.\n",
    "'''\n",
    "\n",
    "teste = y_chapeu.between(0, 1, inclusive='neither')\n",
    "if teste.sum() == teste.size:\n",
    "    print('Todos os valores estimados estão no intervalo aberto ]0, 1[.\\nProssiga para o passo 3')\n",
    "else:\n",
    "    print('Há valores em y_chapeu fora do intervalo aberto ]0, 1[.\\\n",
    "    \\nEstime o modelo por MQO utilizando as estatísticas robustas em relação à heterocedasticidade.')"
   ]
  },
  {
   "cell_type": "code",
   "execution_count": 10,
   "metadata": {},
   "outputs": [],
   "source": [
    "# Passo 3: Construa as variâncias estimadas na equação (8.47)\n",
    "h_chapeu = y_chapeu * (1 - y_chapeu)"
   ]
  },
  {
   "cell_type": "code",
   "execution_count": 11,
   "metadata": {},
   "outputs": [
    {
     "data": {
      "text/html": [
       "<table class=\"simpletable\">\n",
       "<caption>WLS Regression Results</caption>\n",
       "<tr>\n",
       "  <th>Dep. Variable:</th>           <td>PC</td>        <th>  R-squared:         </th> <td>   0.046</td>\n",
       "</tr>\n",
       "<tr>\n",
       "  <th>Model:</th>                   <td>WLS</td>       <th>  Adj. R-squared:    </th> <td>   0.026</td>\n",
       "</tr>\n",
       "<tr>\n",
       "  <th>Method:</th>             <td>Least Squares</td>  <th>  F-statistic:       </th> <td>   2.224</td>\n",
       "</tr>\n",
       "<tr>\n",
       "  <th>Date:</th>             <td>Sun, 26 Jun 2022</td> <th>  Prob (F-statistic):</th>  <td>0.0882</td> \n",
       "</tr>\n",
       "<tr>\n",
       "  <th>Time:</th>                 <td>12:48:07</td>     <th>  Log-Likelihood:    </th> <td> -95.812</td>\n",
       "</tr>\n",
       "<tr>\n",
       "  <th>No. Observations:</th>      <td>   141</td>      <th>  AIC:               </th> <td>   199.6</td>\n",
       "</tr>\n",
       "<tr>\n",
       "  <th>Df Residuals:</th>          <td>   137</td>      <th>  BIC:               </th> <td>   211.4</td>\n",
       "</tr>\n",
       "<tr>\n",
       "  <th>Df Model:</th>              <td>     3</td>      <th>                     </th>     <td> </td>   \n",
       "</tr>\n",
       "<tr>\n",
       "  <th>Covariance Type:</th>      <td>nonrobust</td>    <th>                     </th>     <td> </td>   \n",
       "</tr>\n",
       "</table>\n",
       "<table class=\"simpletable\">\n",
       "<tr>\n",
       "      <td></td>         <th>coef</th>     <th>std err</th>      <th>t</th>      <th>P>|t|</th>  <th>[0.025</th>    <th>0.975]</th>  \n",
       "</tr>\n",
       "<tr>\n",
       "  <th>Intercept</th> <td>    0.0262</td> <td>    0.477</td> <td>    0.055</td> <td> 0.956</td> <td>   -0.916</td> <td>    0.969</td>\n",
       "</tr>\n",
       "<tr>\n",
       "  <th>hsGPA</th>     <td>    0.0327</td> <td>    0.130</td> <td>    0.252</td> <td> 0.802</td> <td>   -0.224</td> <td>    0.290</td>\n",
       "</tr>\n",
       "<tr>\n",
       "  <th>ACT</th>       <td>    0.0043</td> <td>    0.015</td> <td>    0.276</td> <td> 0.783</td> <td>   -0.026</td> <td>    0.035</td>\n",
       "</tr>\n",
       "<tr>\n",
       "  <th>parcoll</th>   <td>    0.2152</td> <td>    0.086</td> <td>    2.494</td> <td> 0.014</td> <td>    0.045</td> <td>    0.386</td>\n",
       "</tr>\n",
       "</table>\n",
       "<table class=\"simpletable\">\n",
       "<tr>\n",
       "  <th>Omnibus:</th>       <td>14585.053</td> <th>  Durbin-Watson:     </th> <td>   1.731</td>\n",
       "</tr>\n",
       "<tr>\n",
       "  <th>Prob(Omnibus):</th>  <td> 0.000</td>   <th>  Jarque-Bera (JB):  </th> <td>  19.160</td>\n",
       "</tr>\n",
       "<tr>\n",
       "  <th>Skew:</th>           <td> 0.468</td>   <th>  Prob(JB):          </th> <td>6.91e-05</td>\n",
       "</tr>\n",
       "<tr>\n",
       "  <th>Kurtosis:</th>       <td> 1.455</td>   <th>  Cond. No.          </th> <td>    293.</td>\n",
       "</tr>\n",
       "</table><br/><br/>Notes:<br/>[1] Standard Errors assume that the covariance matrix of the errors is correctly specified."
      ],
      "text/plain": [
       "<class 'statsmodels.iolib.summary.Summary'>\n",
       "\"\"\"\n",
       "                            WLS Regression Results                            \n",
       "==============================================================================\n",
       "Dep. Variable:                     PC   R-squared:                       0.046\n",
       "Model:                            WLS   Adj. R-squared:                  0.026\n",
       "Method:                 Least Squares   F-statistic:                     2.224\n",
       "Date:                Sun, 26 Jun 2022   Prob (F-statistic):             0.0882\n",
       "Time:                        12:48:07   Log-Likelihood:                -95.812\n",
       "No. Observations:                 141   AIC:                             199.6\n",
       "Df Residuals:                     137   BIC:                             211.4\n",
       "Df Model:                           3                                         \n",
       "Covariance Type:            nonrobust                                         \n",
       "==============================================================================\n",
       "                 coef    std err          t      P>|t|      [0.025      0.975]\n",
       "------------------------------------------------------------------------------\n",
       "Intercept      0.0262      0.477      0.055      0.956      -0.916       0.969\n",
       "hsGPA          0.0327      0.130      0.252      0.802      -0.224       0.290\n",
       "ACT            0.0043      0.015      0.276      0.783      -0.026       0.035\n",
       "parcoll        0.2152      0.086      2.494      0.014       0.045       0.386\n",
       "==============================================================================\n",
       "Omnibus:                    14585.053   Durbin-Watson:                   1.731\n",
       "Prob(Omnibus):                  0.000   Jarque-Bera (JB):               19.160\n",
       "Skew:                           0.468   Prob(JB):                     6.91e-05\n",
       "Kurtosis:                       1.455   Cond. No.                         293.\n",
       "==============================================================================\n",
       "\n",
       "Notes:\n",
       "[1] Standard Errors assume that the covariance matrix of the errors is correctly specified.\n",
       "\"\"\""
      ]
     },
     "execution_count": 11,
     "metadata": {},
     "output_type": "execute_result"
    }
   ],
   "source": [
    "'''\n",
    "Passo 4: Estime a equação do passo 1 por MQP usando peso = 1 / h_chapeu\n",
    "'''      \n",
    "peso = 1 / h_chapeu\n",
    "modelo_mqgf = smf.wls('PC ~ hsGPA + ACT + parcoll', weights=peso, data=df)\n",
    "reg_mqgf = modelo_mqgf.fit()\n",
    "reg_mqgf.summary()"
   ]
  },
  {
   "cell_type": "code",
   "execution_count": null,
   "metadata": {},
   "outputs": [],
   "source": []
  },
  {
   "cell_type": "code",
   "execution_count": null,
   "metadata": {},
   "outputs": [],
   "source": []
  },
  {
   "cell_type": "code",
   "execution_count": null,
   "metadata": {},
   "outputs": [],
   "source": []
  },
  {
   "cell_type": "code",
   "execution_count": null,
   "metadata": {},
   "outputs": [],
   "source": [
    "'''\n",
    "Observação sobre terminologia\n",
    "\n",
    "Quando rodamos a regressão por MQO e por MQGF nomeamos variáveis como \"modelo_ols\" e \"modelo_mqgf\".\n",
    "Nomeamos as variáveis desta forma pois o termo \"modelo\" é o mais usual, já os termos \"ols\" e \"mqgf\" apenas associam as \n",
    "variáveis aos métodos de estimativa utilizados.\n",
    "Não queremos dizer que \"estamos estimando um modelo MQO\" ou um \"modelo MQGF\". Isto seria incorreto já que MQO e MQGF\n",
    "são métodos de estimativa, não modelos.\n",
    "\n",
    "Para detalhes, ver cap. 3 (Análise de regressão múltipla: Estimação), item 3.6 (Alguns comentários sobre a linguagem da\n",
    "análise de regressão múltipla).\n",
    "'''"
   ]
  },
  {
   "cell_type": "code",
   "execution_count": null,
   "metadata": {},
   "outputs": [],
   "source": []
  },
  {
   "cell_type": "code",
   "execution_count": null,
   "metadata": {},
   "outputs": [],
   "source": []
  }
 ],
 "metadata": {
  "kernelspec": {
   "display_name": "Python 3",
   "language": "python",
   "name": "python3"
  },
  "language_info": {
   "codemirror_mode": {
    "name": "ipython",
    "version": 3
   },
   "file_extension": ".py",
   "mimetype": "text/x-python",
   "name": "python",
   "nbconvert_exporter": "python",
   "pygments_lexer": "ipython3",
   "version": "3.7.3"
  }
 },
 "nbformat": 4,
 "nbformat_minor": 2
}
